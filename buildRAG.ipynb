{
 "cells": [
  {
   "cell_type": "code",
   "execution_count": 1,
   "metadata": {
    "id": "jPIRSGz4tHNV"
   },
   "outputs": [
    {
     "data": {
      "text/plain": [
       "True"
      ]
     },
     "execution_count": 1,
     "metadata": {},
     "output_type": "execute_result"
    }
   ],
   "source": [
    "### Neo4j\n",
    "from neo4j import GraphDatabase\n",
    "from neo4j import  Driver\n",
    "### Langchain\n",
    "from langchain_neo4j import Neo4jGraph\n",
    "from langchain_neo4j import Neo4jVector\n",
    "from langchain_core.runnables import  RunnablePassthrough\n",
    "from langchain_core.prompts import ChatPromptTemplate\n",
    "from langchain_core.output_parsers import StrOutputParser\n",
    "from langchain.text_splitter import RecursiveCharacterTextSplitter\n",
    "from langchain.document_loaders import TextLoader, CSVLoader\n",
    "from langchain_community.vectorstores.neo4j_vector import remove_lucene_chars\n",
    "### ChatModels (https://python.langchain.com/docs/integrations/chat/)\n",
    "from langchain_ollama import ChatOllama\n",
    "from langchain_openai import ChatOpenAI\n",
    "from langchain_anthropic import ChatAnthropic\n",
    "### Embeddings\n",
    "from langchain_ollama import OllamaEmbeddings\n",
    "from langchain_experimental.llms.ollama_functions import OllamaFunctions\n",
    "from langchain_experimental.graph_transformers import LLMGraphTransformer\n",
    "\n",
    "from yfiles_jupyter_graphs import GraphWidget\n",
    "from pydantic import BaseModel, Field\n",
    "\n",
    "import os\n",
    "from dotenv import load_dotenv\n",
    "\n",
    "load_dotenv()"
   ]
  },
  {
   "cell_type": "code",
   "execution_count": 2,
   "metadata": {},
   "outputs": [
    {
     "data": {
      "text/plain": [
       "'z:\\\\Git_PhD\\\\GraphRAG'"
      ]
     },
     "execution_count": 2,
     "metadata": {},
     "output_type": "execute_result"
    }
   ],
   "source": [
    "os.getcwd()"
   ]
  },
  {
   "cell_type": "markdown",
   "metadata": {
    "id": "L0nXP1aYtHNW"
   },
   "source": [
    "## Data Loader"
   ]
  },
  {
   "cell_type": "code",
   "execution_count": 6,
   "metadata": {
    "colab": {
     "base_uri": "https://localhost:8080/"
    },
    "id": "sGhtLTAStHNW",
    "outputId": "39f65561-6c6b-4370-a51f-1d8118591158"
   },
   "outputs": [],
   "source": [
    "loader = CSVLoader(file_path=\"data/customers-100.csv\",   csv_args={\n",
    "        \"fieldnames\": [\"Customer Id\", \"First Name\", \"Last Name\", \"Company\", \"City\", \"Country\"],\n",
    "    },)\n",
    "# loader = CSVLoader(file_path=\"data/customers-100.csv\")\n",
    "loader1 = TextLoader(file_path=\"data/sparql.txt\")\n",
    "docs = loader.load()\n",
    "\n",
    "text_splitter = RecursiveCharacterTextSplitter(chunk_size=250, chunk_overlap=24)\n",
    "documents = text_splitter.split_documents(documents=docs)"
   ]
  },
  {
   "cell_type": "code",
   "execution_count": 10,
   "metadata": {},
   "outputs": [
    {
     "data": {
      "text/plain": [
       "[Document(metadata={'source': 'data/customers-100.csv', 'row': 0}, page_content='Customer Id: Index\\nFirst Name: Customer Id\\nLast Name: First Name\\nCompany: Last Name\\nCity: Company\\nCountry: City\\nNone: Country,Phone 1,Phone 2,Email,Subscription Date,Website'),\n",
       " Document(metadata={'source': 'data/customers-100.csv', 'row': 1}, page_content='Customer Id: 1\\nFirst Name: DD37Cf93aecA6Dc\\nLast Name: Sheryl\\nCompany: Baxter\\nCity: Rasmussen Group\\nCountry: East Leonard\\nNone: Chile,229.077.5154,397.884.0519x718,zunigavanessa@smith.info,2020-08-24,http://www.stephenson.com/'),\n",
       " Document(metadata={'source': 'data/customers-100.csv', 'row': 2}, page_content='Customer Id: 2\\nFirst Name: 1Ef7b82A4CAAD10\\nLast Name: Preston\\nCompany: Lozano\\nCity: Vega-Gentry\\nCountry: East Jimmychester\\nNone: Djibouti,5153435776,686-620-1820x944,vmata@colon.com,2021-04-23,http://www.hobbs.com/'),\n",
       " Document(metadata={'source': 'data/customers-100.csv', 'row': 3}, page_content='Customer Id: 3\\nFirst Name: 6F94879bDAfE5a6\\nLast Name: Roy\\nCompany: Berry\\nCity: Murillo-Perry\\nCountry: Isabelborough\\nNone: Antigua and Barbuda,+1-539-402-0259,(496)978-3969x58947,beckycarr@hogan.com,2020-03-25,http://www.lawrence.com/'),\n",
       " Document(metadata={'source': 'data/customers-100.csv', 'row': 4}, page_content='Customer Id: 4\\nFirst Name: 5Cef8BFA16c5e3c\\nLast Name: Linda\\nCompany: Olsen\\nCity: Dominguez, Mcmillan and Donovan\\nCountry: Bensonview\\nNone: Dominican Republic,001-808-617-6467x12895,+1-813-324-8756,stanleyblackwell@benson.org,2020-06-02,http://www.good-lyons.com/'),\n",
       " Document(metadata={'source': 'data/customers-100.csv', 'row': 5}, page_content='Customer Id: 5\\nFirst Name: 053d585Ab6b3159\\nLast Name: Joanna\\nCompany: Bender\\nCity: Martin, Lang and Andrade\\nCountry: West Priscilla\\nNone: Slovakia (Slovak Republic),001-234-203-0635x76146,001-199-446-3860x3486,colinalvarado@miles.net,2021-04-17,https://goodwin-ingram.com/'),\n",
       " Document(metadata={'source': 'data/customers-100.csv', 'row': 6}, page_content='Customer Id: 6\\nFirst Name: 2d08FB17EE273F4\\nLast Name: Aimee\\nCompany: Downs\\nCity: Steele Group\\nCountry: Chavezborough\\nNone: Bosnia and Herzegovina,(283)437-3886x88321,999-728-1637,louis27@gilbert.com,2020-02-25,http://www.berger.net/'),\n",
       " Document(metadata={'source': 'data/customers-100.csv', 'row': 7}, page_content='Customer Id: 7\\nFirst Name: EA4d384DfDbBf77\\nLast Name: Darren\\nCompany: Peck\\nCity: Lester, Woodard and Mitchell\\nCountry: Lake Ana\\nNone: Pitcairn Islands,(496)452-6181x3291,+1-247-266-0963x4995,tgates@cantrell.com,2021-08-24,https://www.le.com/'),\n",
       " Document(metadata={'source': 'data/customers-100.csv', 'row': 8}, page_content='Customer Id: 8\\nFirst Name: 0e04AFde9f225dE\\nLast Name: Brett\\nCompany: Mullen\\nCity: Sanford, Davenport and Giles\\nCountry: Kimport\\nNone: Bulgaria,001-583-352-7197x297,001-333-145-0369,asnow@colon.com,2021-04-12,https://hammond-ramsey.com/'),\n",
       " Document(metadata={'source': 'data/customers-100.csv', 'row': 9}, page_content='Customer Id: 9\\nFirst Name: C2dE4dEEc489ae0\\nLast Name: Sheryl\\nCompany: Meyers\\nCity: Browning-Simon\\nCountry: Robersonstad\\nNone: Cyprus,854-138-4911x5772,+1-448-910-2276x729,mariokhan@ryan-pope.org,2020-01-13,https://www.bullock.net/'),\n",
       " Document(metadata={'source': 'data/customers-100.csv', 'row': 10}, page_content='Customer Id: 10\\nFirst Name: 8C2811a503C7c5a\\nLast Name: Michelle\\nCompany: Gallagher\\nCity: Beck-Hendrix\\nCountry: Elaineberg\\nNone: Timor-Leste,739.218.2516x459,001-054-401-0347x617,mdyer@escobar.net,2021-11-08,https://arias.com/'),\n",
       " Document(metadata={'source': 'data/customers-100.csv', 'row': 11}, page_content='Customer Id: 11\\nFirst Name: 216E205d6eBb815\\nLast Name: Carl\\nCompany: Schroeder\\nCity: Oconnell, Meza and Everett\\nCountry: Shannonville\\nNone: Guernsey,637-854-0256x825,114.336.0784x788,kirksalas@webb.com,2021-10-20,https://simmons-hurley.com/'),\n",
       " Document(metadata={'source': 'data/customers-100.csv', 'row': 12}, page_content='Customer Id: 12\\nFirst Name: CEDec94deE6d69B\\nLast Name: Jenna\\nCompany: Dodson\\nCity: Hoffman, Reed and Mcclain\\nCountry: East Andrea\\nNone: Vietnam,(041)737-3846,+1-556-888-3485x42608,mark42@robbins.com,2020-11-29,http://www.douglas.net/'),\n",
       " Document(metadata={'source': 'data/customers-100.csv', 'row': 13}, page_content='Customer Id: 13\\nFirst Name: e35426EbDEceaFF\\nLast Name: Tracey\\nCompany: Mata\\nCity: Graham-Francis\\nCountry: South Joannamouth\\nNone: Togo,001-949-844-8787,(855)713-8773,alex56@walls.org,2021-12-02,http://www.beck.com/'),\n",
       " Document(metadata={'source': 'data/customers-100.csv', 'row': 14}, page_content='Customer Id: 14\\nFirst Name: A08A8aF8BE9FaD4\\nLast Name: Kristine\\nCompany: Cox\\nCity: Carpenter-Cook\\nCountry: Jodyberg\\nNone: Sri Lanka,786-284-3358x62152,+1-315-627-1796x8074,holdenmiranda@clarke.com,2021-02-08,https://www.brandt.com/'),\n",
       " Document(metadata={'source': 'data/customers-100.csv', 'row': 15}, page_content='Customer Id: 15\\nFirst Name: 6fEaA1b7cab7B6C\\nLast Name: Faith\\nCompany: Lutz\\nCity: Carter-Hancock\\nCountry: Burchbury\\nNone: Singapore,(781)861-7180x8306,207-185-3665,cassieparrish@blevins-chapman.net,2022-01-26,http://stevenson.org/'),\n",
       " Document(metadata={'source': 'data/customers-100.csv', 'row': 16}, page_content='Customer Id: 16\\nFirst Name: 8cad0b4CBceaeec\\nLast Name: Miranda\\nCompany: Beasley\\nCity: Singleton and Sons\\nCountry: Desireeshire\\nNone: Oman,540.085.3135x185,+1-600-462-6432x21881,vduncan@parks-hardy.com,2022-04-12,http://acosta.org/'),\n",
       " Document(metadata={'source': 'data/customers-100.csv', 'row': 17}, page_content='Customer Id: 17\\nFirst Name: a5DC21AE3a21eaA\\nLast Name: Caroline\\nCompany: Foley\\nCity: Winters-Mendoza\\nCountry: West Adriennestad\\nNone: Western Sahara,936.222.4746x9924,001-469-948-6341x359,holtgwendolyn@watson-davenport.com,2021-03-10,http://www.benson-roth.com/'),\n",
       " Document(metadata={'source': 'data/customers-100.csv', 'row': 18}, page_content='Customer Id: 18\\nFirst Name: F8Aa9d6DfcBeeF8\\nLast Name: Greg\\nCompany: Mata\\nCity: Valentine LLC\\nCountry: Lake Leslie\\nNone: Mozambique,(701)087-2415,(195)156-1861x26241,jaredjuarez@carroll.org,2022-03-26,http://pitts-cherry.com/'),\n",
       " Document(metadata={'source': 'data/customers-100.csv', 'row': 19}, page_content='Customer Id: 19\\nFirst Name: F160f5Db3EfE973\\nLast Name: Clifford\\nCompany: Jacobson\\nCity: Simon LLC\\nCountry: Harmonview\\nNone: South Georgia and the South Sandwich Islands,001-151-330-3524x0469,(748)477-7174,joseph26@jacobson.com,2020-09-24,https://mcconnell.com/'),\n",
       " Document(metadata={'source': 'data/customers-100.csv', 'row': 20}, page_content='Customer Id: 20\\nFirst Name: 0F60FF3DdCd7aB0\\nLast Name: Joanna\\nCompany: Kirk\\nCity: Mays-Mccormick\\nCountry: Jamesshire\\nNone: French Polynesia,(266)131-7001x711,(283)312-5579x11543,tuckerangie@salazar.net,2021-09-24,https://www.camacho.net/'),\n",
       " Document(metadata={'source': 'data/customers-100.csv', 'row': 21}, page_content='Customer Id: 21\\nFirst Name: 9F9AdB7B8A6f7F2\\nLast Name: Maxwell\\nCompany: Frye\\nCity: Patterson Inc\\nCountry: East Carly\\nNone: Malta,423.262.3059,202-880-0688x7491,fgibson@drake-webb.com,2022-01-12,http://www.roberts.com/'),\n",
       " Document(metadata={'source': 'data/customers-100.csv', 'row': 22}, page_content='Customer Id: 22\\nFirst Name: FBd0Ded4F02a742\\nLast Name: Kiara\\nCompany: Houston\\nCity: Manning, Hester and Arroyo\\nCountry: South Alvin\\nNone: Netherlands,001-274-040-3582x10611,+1-528-175-0973x4684,blanchardbob@wallace-shannon.com,2020-09-15,https://www.reid-potts.com/'),\n",
       " Document(metadata={'source': 'data/customers-100.csv', 'row': 23}, page_content='Customer Id: 23\\nFirst Name: 2FB0FAA1d429421\\nLast Name: Colleen\\nCompany: Howard\\nCity: Greer and Sons\\nCountry: Brittanyview\\nNone: Paraguay,1935085151,(947)115-7711x5488,rsingleton@ryan-cherry.com,2020-08-19,http://paul.biz/'),\n",
       " Document(metadata={'source': 'data/customers-100.csv', 'row': 24}, page_content=\"Customer Id: 24\\nFirst Name: 010468dAA11382c\\nLast Name: Janet\\nCompany: Valenzuela\\nCity: Watts-Donaldson\\nCountry: Veronicamouth\\nNone: Lao People's Democratic Republic,354.259.5062x7538,500.433.2022,stefanie71@spence.com,2020-09-08,https://moreno.biz/\"),\n",
       " Document(metadata={'source': 'data/customers-100.csv', 'row': 25}, page_content='Customer Id: 25\\nFirst Name: eC1927Ca84E033e\\nLast Name: Shane\\nCompany: Wilcox\\nCity: Tucker LLC\\nCountry: Bryanville\\nNone: Albania,(429)005-9030x11004,541-116-4501,mariah88@santos.com,2021-04-06,https://www.ramos.com/'),\n",
       " Document(metadata={'source': 'data/customers-100.csv', 'row': 26}, page_content='Customer Id: 26\\nFirst Name: 09D7D7C8Fe09aea\\nLast Name: Marcus\\nCompany: Moody\\nCity: Giles Ltd\\nCountry: Kaitlyntown\\nNone: Panama,674-677-8623,909-277-5485x566,donnamullins@norris-barrett.org,2022-05-24,https://www.curry.com/'),\n",
       " Document(metadata={'source': 'data/customers-100.csv', 'row': 27}, page_content='Customer Id: 27\\nFirst Name: aBdfcF2c50b0bfD\\nLast Name: Dakota\\nCompany: Poole\\nCity: Simmons Group\\nCountry: Michealshire\\nNone: Belarus,(371)987-8576x4720,071-152-1376,stacey67@fields.org,2022-02-20,https://sanford-wilcox.biz/'),\n",
       " Document(metadata={'source': 'data/customers-100.csv', 'row': 28}, page_content='Customer Id: 28\\nFirst Name: b92EBfdF8a3f0E6\\nLast Name: Frederick\\nCompany: Harper\\nCity: Hinton, Chaney and Stokes\\nCountry: South Marissatown\\nNone: Switzerland,+1-077-121-1558x0687,264.742.7149,jacobkhan@bright.biz,2022-05-26,https://callahan.org/'),\n",
       " Document(metadata={'source': 'data/customers-100.csv', 'row': 29}, page_content='Customer Id: 29\\nFirst Name: 3B5dAAFA41AFa22\\nLast Name: Stefanie\\nCompany: Fitzpatrick\\nCity: Santana-Duran\\nCountry: Acevedoville\\nNone: Saint Vincent and the Grenadines,(752)776-3286,+1-472-021-4814x85074,wterrell@clark.com,2020-07-30,https://meyers.com/'),\n",
       " Document(metadata={'source': 'data/customers-100.csv', 'row': 30}, page_content='Customer Id: 30\\nFirst Name: EDA69ca7a6e96a2\\nLast Name: Kent\\nCompany: Bradshaw\\nCity: Sawyer PLC\\nCountry: North Harold\\nNone: Tanzania,+1-472-143-5037x884,126.922.6153,qjimenez@boyd.com,2020-04-26,http://maynard-ho.com/'),\n",
       " Document(metadata={'source': 'data/customers-100.csv', 'row': 31}, page_content='Customer Id: 31\\nFirst Name: 64DCcDFaB9DFd4e\\nLast Name: Jack\\nCompany: Tate\\nCity: Acosta, Petersen and Morrow\\nCountry: West Samuel\\nNone: Zimbabwe,965-108-4406x20714,046.906.1442x6784,gfigueroa@boone-zavala.com,2021-09-15,http://www.hawkins-ramsey.com/'),\n",
       " Document(metadata={'source': 'data/customers-100.csv', 'row': 32}, page_content='Customer Id: 32\\nFirst Name: 679c6c83DD872d6\\nLast Name: Tom\\nCompany: Trujillo\\nCity: Mcgee Group\\nCountry: Cunninghamborough\\nNone: Denmark,416-338-3758,(775)890-7209,tapiagreg@beard.info,2022-01-13,http://www.daniels-klein.com/'),\n",
       " Document(metadata={'source': 'data/customers-100.csv', 'row': 33}, page_content='Customer Id: 33\\nFirst Name: 7Ce381e4Afa4ba9\\nLast Name: Gabriel\\nCompany: Mejia\\nCity: Adkins-Salinas\\nCountry: Port Annatown\\nNone: Liechtenstein,4077245425,646.044.0696x66800,coleolson@jennings.net,2021-04-24,https://patel-hanson.info/'),\n",
       " Document(metadata={'source': 'data/customers-100.csv', 'row': 34}, page_content='Customer Id: 34\\nFirst Name: A09AEc6E3bF70eE\\nLast Name: Kaitlyn\\nCompany: Santana\\nCity: Herrera Group\\nCountry: New Kaitlyn\\nNone: United States of America,6303643286,447-710-6202x07313,georgeross@miles.org,2021-09-21,http://pham.com/'),\n",
       " Document(metadata={'source': 'data/customers-100.csv', 'row': 35}, page_content='Customer Id: 35\\nFirst Name: aA9BAFfBc3710fe\\nLast Name: Faith\\nCompany: Moon\\nCity: Waters, Chase and Aguilar\\nCountry: West Marthaburgh\\nNone: Bahamas,+1-586-217-0359x6317,+1-818-199-1403,willistonya@randolph-baker.com,2021-11-03,https://spencer-charles.info/'),\n",
       " Document(metadata={'source': 'data/customers-100.csv', 'row': 36}, page_content='Customer Id: 36\\nFirst Name: E11dfb2DB8C9f72\\nLast Name: Tammie\\nCompany: Haley\\nCity: Palmer, Barnes and Houston\\nCountry: East Teresa\\nNone: Belize,001-276-734-4113x6087,(430)300-8770,harrisisaiah@jenkins.com,2022-01-04,http://evans-simon.com/'),\n",
       " Document(metadata={'source': 'data/customers-100.csv', 'row': 37}, page_content='Customer Id: 37\\nFirst Name: 889eCf90f68c5Da\\nLast Name: Nicholas\\nCompany: Sosa\\nCity: Jordan Ltd\\nCountry: South Hunter\\nNone: Uruguay,(661)425-6042,975-998-1519,fwolfe@dorsey.com,2021-08-10,https://www.fleming-richards.com/'),\n",
       " Document(metadata={'source': 'data/customers-100.csv', 'row': 38}, page_content='Customer Id: 38\\nFirst Name: 7a1Ee69F4fF4B4D\\nLast Name: Jordan\\nCompany: Gay\\nCity: Glover and Sons\\nCountry: South Walter\\nNone: Solomon Islands,7208417020,8035336772,tiffanydavies@harris-mcfarland.org,2021-02-24,http://www.lee.org/'),\n",
       " Document(metadata={'source': 'data/customers-100.csv', 'row': 39}, page_content='Customer Id: 39\\nFirst Name: dca4f1D0A0fc5c9\\nLast Name: Bruce\\nCompany: Esparza\\nCity: Huerta-Mclean\\nCountry: Poolefurt\\nNone: Montenegro,559-529-4424,001-625-000-7132x0367,preese@frye-vega.com,2021-10-22,http://www.farley.org/'),\n",
       " Document(metadata={'source': 'data/customers-100.csv', 'row': 40}, page_content='Customer Id: 40\\nFirst Name: 17aD8e2dB3df03D\\nLast Name: Sherry\\nCompany: Garza\\nCity: Anderson Ltd\\nCountry: West John\\nNone: Poland,001-067-713-6440x158,(978)289-8785x5766,ann48@miller.com,2021-11-01,http://spence.com/'),\n",
       " Document(metadata={'source': 'data/customers-100.csv', 'row': 41}, page_content='Customer Id: 41\\nFirst Name: 2f79Cd309624Abb\\nLast Name: Natalie\\nCompany: Gentry\\nCity: Monroe PLC\\nCountry: West Darius\\nNone: Dominican Republic,830.996.8238,499.122.5415,tcummings@fitzpatrick-ashley.com,2020-10-10,http://www.dorsey.biz/'),\n",
       " Document(metadata={'source': 'data/customers-100.csv', 'row': 42}, page_content='Customer Id: 42\\nFirst Name: 6e5ad5a5e2bB5Ca\\nLast Name: Bryan\\nCompany: Dunn\\nCity: Kaufman and Sons\\nCountry: North Jimstad\\nNone: Burkina Faso,001-710-802-5565,078.699.8982x13881,woodwardandres@phelps.com,2021-09-08,http://www.butler.com/'),\n",
       " Document(metadata={'source': 'data/customers-100.csv', 'row': 43}, page_content='Customer Id: 43\\nFirst Name: 7E441b6B228DBcA\\nLast Name: Wayne\\nCompany: Simpson\\nCity: Perkins-Trevino\\nCountry: East Rebekahborough\\nNone: Bolivia,(344)156-8632x1869,463-445-3702x38463,barbarapittman@holder.com,2020-12-13,https://gillespie-holder.com/'),\n",
       " Document(metadata={'source': 'data/customers-100.csv', 'row': 44}, page_content='Customer Id: 44\\nFirst Name: D3fC11A9C235Dc6\\nLast Name: Luis\\nCompany: Greer\\nCity: Cross PLC\\nCountry: North Drew\\nNone: Bulgaria,001-336-025-6849x701,684.698.2911x6092,bstuart@williamson-mcclure.com,2022-05-15,https://fletcher-nielsen.com/'),\n",
       " Document(metadata={'source': 'data/customers-100.csv', 'row': 45}, page_content='Customer Id: 45\\nFirst Name: 30Dfa48fe5Ede78\\nLast Name: Rhonda\\nCompany: Frost\\nCity: Herrera, Shepherd and Underwood\\nCountry: Lake Lindaburgh\\nNone: Monaco,(127)081-9339,+1-431-028-3337x3492,zkrueger@wolf-chavez.net,2021-12-06,http://www.khan.com/'),\n",
       " Document(metadata={'source': 'data/customers-100.csv', 'row': 46}, page_content='Customer Id: 46\\nFirst Name: fD780ED8dbEae7B\\nLast Name: Joanne\\nCompany: Montes\\nCity: Price, Sexton and Mcdaniel\\nCountry: Gwendolynview\\nNone: Palau,(897)726-7952,(467)886-9467x5721,juan80@henson.net,2020-07-01,http://ochoa.com/'),\n",
       " Document(metadata={'source': 'data/customers-100.csv', 'row': 47}, page_content='Customer Id: 47\\nFirst Name: 300A40d3ce24bBA\\nLast Name: Geoffrey\\nCompany: Guzman\\nCity: Short-Wiggins\\nCountry: Zimmermanland\\nNone: Uzbekistan,975.235.8921x269,(983)188-6873,bauercrystal@gay.com,2020-04-23,https://decker-kline.com/'),\n",
       " Document(metadata={'source': 'data/customers-100.csv', 'row': 48}, page_content='Customer Id: 48\\nFirst Name: 283DFCD0Dba40aF\\nLast Name: Gloria\\nCompany: Mccall\\nCity: Brennan, Acosta and Ramos\\nCountry: North Kerriton\\nNone: Ghana,445-603-6729,001-395-959-4736x4524,bartlettjenna@zuniga-moss.biz,2022-03-11,http://burgess-frank.com/'),\n",
       " Document(metadata={'source': 'data/customers-100.csv', 'row': 49}, page_content='Customer Id: 49\\nFirst Name: F4Fc91fEAEad286\\nLast Name: Brady\\nCompany: Cohen\\nCity: Osborne-Erickson\\nCountry: North Eileenville\\nNone: United Arab Emirates,741.849.0139x524,+1-028-691-7497x0894,mccalltyrone@durham-rose.biz,2022-03-10,http://hammond-barron.com/'),\n",
       " Document(metadata={'source': 'data/customers-100.csv', 'row': 50}, page_content='Customer Id: 50\\nFirst Name: 80F33Fd2AcebF05\\nLast Name: Latoya\\nCompany: Mccann\\nCity: Hobbs, Garrett and Sanford\\nCountry: Port Sergiofort\\nNone: Belarus,(530)287-4548x29481,162-234-0249x32790,bobhammond@barry.biz,2021-12-02,https://www.burton.com/'),\n",
       " Document(metadata={'source': 'data/customers-100.csv', 'row': 51}, page_content='Customer Id: 51\\nFirst Name: Aa20BDe68eAb0e9\\nLast Name: Gerald\\nCompany: Hawkins\\nCity: Phelps, Forbes and Koch\\nCountry: New Alberttown\\nNone: Canada,+1-323-239-1456x96168,(092)508-0269,uwarner@steele-arias.com,2021-03-19,https://valenzuela.com/'),\n",
       " Document(metadata={'source': 'data/customers-100.csv', 'row': 52}, page_content='Customer Id: 52\\nFirst Name: e898eEB1B9FE22b\\nLast Name: Samuel\\nCompany: Crawford\\nCity: May, Goodwin and Martin\\nCountry: South Jasmine\\nNone: Algeria,802-242-7457,626.116.9535x8578,xpittman@ritter-carney.net,2021-03-27,https://guerrero.org/'),\n",
       " Document(metadata={'source': 'data/customers-100.csv', 'row': 53}, page_content='Customer Id: 53\\nFirst Name: faCEF517ae7D8eB\\nLast Name: Patricia\\nCompany: Goodwin\\nCity: Christian, Winters and Ellis\\nCountry: Cowanfort\\nNone: Swaziland,322.549.7139x70040,(111)741-4173,vaughanchristy@lara.biz,2021-03-08,http://clark.info/'),\n",
       " Document(metadata={'source': 'data/customers-100.csv', 'row': 54}, page_content='Customer Id: 54\\nFirst Name: c09952De6Cda8aA\\nLast Name: Stacie\\nCompany: Richard\\nCity: Byrd Inc\\nCountry: New Deborah\\nNone: Madagascar,001-622-948-3641x24810,001-731-168-2893x8891,clinton85@colon-arias.org,2020-10-15,https://kim.com/'),\n",
       " Document(metadata={'source': 'data/customers-100.csv', 'row': 55}, page_content='Customer Id: 55\\nFirst Name: f3BEf3Be028166f\\nLast Name: Robin\\nCompany: West\\nCity: Nixon, Blackwell and Sosa\\nCountry: Wallstown\\nNone: Ecuador,698.303.4267,001-683-837-7651x525,greenemiranda@zimmerman.com,2022-01-13,https://www.mora.com/'),\n",
       " Document(metadata={'source': 'data/customers-100.csv', 'row': 56}, page_content='Customer Id: 56\\nFirst Name: C6F2Fc6a7948a4e\\nLast Name: Ralph\\nCompany: Haas\\nCity: Montes PLC\\nCountry: Lake Ellenchester\\nNone: Palestinian Territory,2239271999,001-962-434-0867x649,goodmancesar@figueroa.biz,2020-05-25,http://may.com/'),\n",
       " Document(metadata={'source': 'data/customers-100.csv', 'row': 57}, page_content='Customer Id: 57\\nFirst Name: c8FE57cBBdCDcb2\\nLast Name: Phyllis\\nCompany: Maldonado\\nCity: Costa PLC\\nCountry: Lake Whitney\\nNone: Saint Barthelemy,4500370767,001-508-064-6725x017,yhanson@warner-diaz.org,2021-01-25,http://www.bernard.com/'),\n",
       " Document(metadata={'source': 'data/customers-100.csv', 'row': 58}, page_content='Customer Id: 58\\nFirst Name: B5acdFC982124F2\\nLast Name: Danny\\nCompany: Parrish\\nCity: Novak LLC\\nCountry: East Jaredbury\\nNone: United Arab Emirates,(669)384-8597x8794,506.731.5952x571,howelldarren@house-cohen.com,2021-03-17,http://www.parsons-hudson.com/'),\n",
       " Document(metadata={'source': 'data/customers-100.csv', 'row': 59}, page_content='Customer Id: 59\\nFirst Name: 8c7DdF10798bCC3\\nLast Name: Kathy\\nCompany: Hill\\nCity: Moore, Mccoy and Glass\\nCountry: Selenabury\\nNone: South Georgia and the South Sandwich Islands,001-171-716-2175x310,888.625.0654,ncamacho@boone-simmons.org,2020-11-15,http://hayden.com/'),\n",
       " Document(metadata={'source': 'data/customers-100.csv', 'row': 60}, page_content='Customer Id: 60\\nFirst Name: C681dDd0cc422f7\\nLast Name: Kelli\\nCompany: Hardy\\nCity: Petty Ltd\\nCountry: Huangfort\\nNone: Sao Tome and Principe,020.324.2191x2022,424-157-8216,kristopher62@oliver.com,2020-12-20,http://www.kidd.com/'),\n",
       " Document(metadata={'source': 'data/customers-100.csv', 'row': 61}, page_content='Customer Id: 61\\nFirst Name: a940cE42e035F28\\nLast Name: Lynn\\nCompany: Pham\\nCity: Brennan, Camacho and Tapia\\nCountry: East Pennyshire\\nNone: Portugal,846.468.6834x611,001-248-691-0006,mpham@rios-guzman.com,2020-08-21,https://www.murphy.com/'),\n",
       " Document(metadata={'source': 'data/customers-100.csv', 'row': 62}, page_content='Customer Id: 62\\nFirst Name: 9Cf5E6AFE0aeBfd\\nLast Name: Shelley\\nCompany: Harris\\nCity: Prince, Malone and Pugh\\nCountry: Port Jasminborough\\nNone: Togo,423.098.0315x8373,+1-386-458-8944x15194,zachary96@mitchell-bryant.org,2020-12-10,https://www.ryan.com/'),\n",
       " Document(metadata={'source': 'data/customers-100.csv', 'row': 63}, page_content='Customer Id: 63\\nFirst Name: aEcbe5365BbC67D\\nLast Name: Eddie\\nCompany: Jimenez\\nCity: Caldwell Group\\nCountry: West Kristine\\nNone: Ethiopia,+1-235-657-1073x6306,(026)401-7353x2417,kristiwhitney@bernard.com,2022-03-24,http://cherry.com/'),\n",
       " Document(metadata={'source': 'data/customers-100.csv', 'row': 64}, page_content='Customer Id: 64\\nFirst Name: FCBdfCEAe20A8Dc\\nLast Name: Chloe\\nCompany: Hutchinson\\nCity: Simon LLC\\nCountry: South Julia\\nNone: Netherlands,981-544-9452,+1-288-552-4666x060,leah85@sutton-terrell.com,2022-05-15,https://mitchell.info/'),\n",
       " Document(metadata={'source': 'data/customers-100.csv', 'row': 65}, page_content='Customer Id: 65\\nFirst Name: 636cBF0835E10ff\\nLast Name: Eileen\\nCompany: Lynch\\nCity: Knight, Abbott and Hubbard\\nCountry: Helenborough\\nNone: Liberia,+1-158-951-4131x53578,001-673-779-6713x680,levigiles@vincent.com,2021-01-02,http://mckay.com/'),\n",
       " Document(metadata={'source': 'data/customers-100.csv', 'row': 66}, page_content='Customer Id: 66\\nFirst Name: fF1b6c9E8Fbf1ff\\nLast Name: Fernando\\nCompany: Lambert\\nCity: Church-Banks\\nCountry: Lake Nancy\\nNone: Lithuania,497.829.9038,3863743398,fisherlinda@schaefer.net,2021-04-23,https://www.vang.com/'),\n",
       " Document(metadata={'source': 'data/customers-100.csv', 'row': 67}, page_content='Customer Id: 67\\nFirst Name: 2A13F74EAa7DA6c\\nLast Name: Makayla\\nCompany: Cannon\\nCity: Henderson Inc\\nCountry: Georgeport\\nNone: New Caledonia,001-215-801-6392x46009,027-609-6460,scottcurtis@hurley.biz,2020-01-20,http://www.velazquez.net/'),\n",
       " Document(metadata={'source': 'data/customers-100.csv', 'row': 68}, page_content='Customer Id: 68\\nFirst Name: a014Ec1b9FccC1E\\nLast Name: Tom\\nCompany: Alvarado\\nCity: Donaldson-Dougherty\\nCountry: South Sophiaberg\\nNone: Kiribati,(585)606-2980x2258,730-797-3594x5614,nicholsonnina@montgomery.info,2020-08-18,http://odom-massey.com/'),\n",
       " Document(metadata={'source': 'data/customers-100.csv', 'row': 69}, page_content='Customer Id: 69\\nFirst Name: 421a109cABDf5fa\\nLast Name: Virginia\\nCompany: Dudley\\nCity: Warren Ltd\\nCountry: Hartbury\\nNone: French Southern Territories,027.846.3705x14184,+1-439-171-1846x4636,zvalencia@phelps.com,2021-01-31,http://hunter-esparza.com/'),\n",
       " Document(metadata={'source': 'data/customers-100.csv', 'row': 70}, page_content='Customer Id: 70\\nFirst Name: CC68FD1D3Bbbf22\\nLast Name: Riley\\nCompany: Good\\nCity: Wade PLC\\nCountry: Erikaville\\nNone: Canada,6977745822,855-436-7641,alex06@galloway.com,2020-02-03,http://conway.org/'),\n",
       " Document(metadata={'source': 'data/customers-100.csv', 'row': 71}, page_content='Customer Id: 71\\nFirst Name: CBCd2Ac8E3eBDF9\\nLast Name: Alexandria\\nCompany: Buck\\nCity: Keller-Coffey\\nCountry: Nicolasfort\\nNone: Iran,078-900-4760x76668,414-112-8700x68751,lee48@manning.com,2021-02-20,https://ramsey.org/'),\n",
       " Document(metadata={'source': 'data/customers-100.csv', 'row': 72}, page_content='Customer Id: 72\\nFirst Name: Ef859092FbEcC07\\nLast Name: Richard\\nCompany: Roth\\nCity: Conway-Mcbride\\nCountry: New Jasmineshire\\nNone: Morocco,581-440-6539,9857827463,aharper@maddox-townsend.org,2020-02-23,https://www.brooks.com/'),\n",
       " Document(metadata={'source': 'data/customers-100.csv', 'row': 73}, page_content='Customer Id: 73\\nFirst Name: F560f2d3cDFb618\\nLast Name: Candice\\nCompany: Keller\\nCity: Huynh and Sons\\nCountry: East Summerstad\\nNone: Zimbabwe,001-927-965-8550x92406,001-243-038-4271x53076,buckleycory@odonnell.net,2020-08-22,https://www.lucero.com/'),\n",
       " Document(metadata={'source': 'data/customers-100.csv', 'row': 74}, page_content='Customer Id: 74\\nFirst Name: A3F76Be153Df4a3\\nLast Name: Anita\\nCompany: Benson\\nCity: Parrish Ltd\\nCountry: Skinnerport\\nNone: Russian Federation,874.617.5668x69878,(399)820-6418x0071,angie04@oconnell.com,2020-02-09,http://oconnor.com/'),\n",
       " Document(metadata={'source': 'data/customers-100.csv', 'row': 75}, page_content='Customer Id: 75\\nFirst Name: D01Af0AF7cBbFeA\\nLast Name: Regina\\nCompany: Stein\\nCity: Guzman-Brown\\nCountry: Raystad\\nNone: Solomon Islands,001-469-848-0724x4407,001-085-360-4426x00357,zrosario@rojas-hardin.net,2022-01-15,http://www.johnston.info/'),\n",
       " Document(metadata={'source': 'data/customers-100.csv', 'row': 76}, page_content='Customer Id: 76\\nFirst Name: d40e89dCade7b2F\\nLast Name: Debra\\nCompany: Riddle\\nCity: Chang, Aguirre and Leblanc\\nCountry: Colinhaven\\nNone: United States Virgin Islands,+1-768-182-6014x14336,(303)961-4491,shieldskerry@robles.com,2020-07-11,http://kaiser.info/'),\n",
       " Document(metadata={'source': 'data/customers-100.csv', 'row': 77}, page_content='Customer Id: 77\\nFirst Name: BF6a1f9bd1bf8DE\\nLast Name: Brittany\\nCompany: Zuniga\\nCity: Mason-Hester\\nCountry: West Reginald\\nNone: Kyrgyz Republic,(050)136-9025,001-480-851-2496x0157,mchandler@cochran-huerta.org,2021-07-24,http://www.boyle.com/'),\n",
       " Document(metadata={'source': 'data/customers-100.csv', 'row': 78}, page_content='Customer Id: 78\\nFirst Name: FfaeFFbbbf280db\\nLast Name: Cassidy\\nCompany: Mcmahon\\nCity: Mcguire, Huynh and Hopkins\\nCountry: Lake Sherryborough\\nNone: Myanmar,5040771311,684-682-0021x1326,katrinalane@fitzgerald.com,2020-10-21,https://hurst.com/'),\n",
       " Document(metadata={'source': 'data/customers-100.csv', 'row': 79}, page_content='Customer Id: 79\\nFirst Name: CbAE1d1e9a8dCb1\\nLast Name: Laurie\\nCompany: Pennington\\nCity: Sanchez, Marsh and Hale\\nCountry: Port Katherineville\\nNone: Dominica,007.155.3406x553,+1-809-862-5566x277,cookejill@powell.com,2020-06-08,http://www.hebert.com/'),\n",
       " Document(metadata={'source': 'data/customers-100.csv', 'row': 80}, page_content='Customer Id: 80\\nFirst Name: A7F85c1DE4dB87f\\nLast Name: Alejandro\\nCompany: Blair\\nCity: Combs, Waller and Durham\\nCountry: Thomasland\\nNone: Iceland,(690)068-4641x51468,555.509.8691x2329,elizabethbarr@ewing.com,2020-09-19,https://mercado-blevins.com/'),\n",
       " Document(metadata={'source': 'data/customers-100.csv', 'row': 81}, page_content='Customer Id: 81\\nFirst Name: D6CEAfb3BDbaa1A\\nLast Name: Leslie\\nCompany: Jennings\\nCity: Blankenship-Arias\\nCountry: Coreybury\\nNone: Micronesia,629.198.6346,075.256.0829,corey75@wiggins.com,2021-11-13,https://www.juarez.com/'),\n",
       " Document(metadata={'source': 'data/customers-100.csv', 'row': 82}, page_content='Customer Id: 82\\nFirst Name: Ebdb6F6F7c90b69\\nLast Name: Kathleen\\nCompany: Mckay\\nCity: Coffey, Lamb and Johnson\\nCountry: Lake Janiceton\\nNone: Saint Vincent and the Grenadines,(733)910-9968,(691)247-4128x0665,chloelester@higgins-wilkinson.com,2021-09-12,http://www.owens-mooney.com/'),\n",
       " Document(metadata={'source': 'data/customers-100.csv', 'row': 83}, page_content='Customer Id: 83\\nFirst Name: E8E7e8Cfe516ef0\\nLast Name: Hunter\\nCompany: Moreno\\nCity: Fitzpatrick-Lawrence\\nCountry: East Clinton\\nNone: Isle of Man,(733)833-6754,001-761-013-7121,isaac26@benton-finley.com,2020-12-28,http://walls.info/'),\n",
       " Document(metadata={'source': 'data/customers-100.csv', 'row': 84}, page_content='Customer Id: 84\\nFirst Name: 78C06E9b6B3DF20\\nLast Name: Chad\\nCompany: Davidson\\nCity: Garcia-Jimenez\\nCountry: South Joshuashire\\nNone: Oman,8275702958,(804)842-4715,justinwalters@jimenez.com,2021-11-15,http://www.garner-oliver.com/'),\n",
       " Document(metadata={'source': 'data/customers-100.csv', 'row': 85}, page_content='Customer Id: 85\\nFirst Name: 03A1E62ADdeb31c\\nLast Name: Corey\\nCompany: Holt\\nCity: Mcdonald, Bird and Ramirez\\nCountry: New Glenda\\nNone: Fiji,001-439-242-4986x7918,3162708934,maurice46@morgan.com,2020-02-18,http://www.watson.com/'),\n",
       " Document(metadata={'source': 'data/customers-100.csv', 'row': 86}, page_content='Customer Id: 86\\nFirst Name: C6763c99d0bd16D\\nLast Name: Emma\\nCompany: Cunningham\\nCity: Stephens Inc\\nCountry: North Jillianview\\nNone: New Zealand,128-059-0206x60217,(312)164-4545x2284,walter83@juarez.org,2022-05-13,http://www.reid.info/'),\n",
       " Document(metadata={'source': 'data/customers-100.csv', 'row': 87}, page_content='Customer Id: 87\\nFirst Name: ebe77E5Bf9476CE\\nLast Name: Duane\\nCompany: Woods\\nCity: Montoya-Miller\\nCountry: Lyonsberg\\nNone: Maldives,(636)544-7783x7288,(203)287-1003x5932,kmercer@wagner.com,2020-07-21,http://murray.org/'),\n",
       " Document(metadata={'source': 'data/customers-100.csv', 'row': 88}, page_content='Customer Id: 88\\nFirst Name: E4Bbcd8AD81fC5f\\nLast Name: Alison\\nCompany: Vargas\\nCity: Vaughn, Watts and Leach\\nCountry: East Cristinabury\\nNone: Benin,365-273-8144,053-308-7653x6287,vcantu@norton.com,2020-11-10,http://mason.info/'),\n",
       " Document(metadata={'source': 'data/customers-100.csv', 'row': 89}, page_content='Customer Id: 89\\nFirst Name: efeb73245CDf1fF\\nLast Name: Vernon\\nCompany: Kane\\nCity: Carter-Strickland\\nCountry: Thomasfurt\\nNone: Yemen,114-854-1159x555,499-608-4612,hilljesse@barrett.info,2021-04-15,http://www.duffy-hensley.net/'),\n",
       " Document(metadata={'source': 'data/customers-100.csv', 'row': 90}, page_content='Customer Id: 90\\nFirst Name: 37Ec4B395641c1E\\nLast Name: Lori\\nCompany: Flowers\\nCity: Decker-Mcknight\\nCountry: North Joeburgh\\nNone: Namibia,679.415.1210,945-842-3659x4581,tyrone77@valenzuela.info,2021-01-09,http://www.deleon-crosby.com/'),\n",
       " Document(metadata={'source': 'data/customers-100.csv', 'row': 91}, page_content='Customer Id: 91\\nFirst Name: 5ef6d3eefdD43bE\\nLast Name: Nina\\nCompany: Chavez\\nCity: Byrd-Campbell\\nCountry: Cassidychester\\nNone: Bhutan,053-344-3205,+1-330-920-5422x571,elliserica@frank.com,2020-03-26,https://www.pugh.com/'),\n",
       " Document(metadata={'source': 'data/customers-100.csv', 'row': 92}, page_content='Customer Id: 92\\nFirst Name: 98b3aeDcC3B9FF3\\nLast Name: Shane\\nCompany: Foley\\nCity: Rocha-Hart\\nCountry: South Dannymouth\\nNone: Hungary,+1-822-569-0302,001-626-114-5844x55073,nsteele@sparks.com,2021-07-06,https://www.holt-sparks.com/'),\n",
       " Document(metadata={'source': 'data/customers-100.csv', 'row': 93}, page_content='Customer Id: 93\\nFirst Name: aAb6AFc7AfD0fF3\\nLast Name: Collin\\nCompany: Ayers\\nCity: Lamb-Peterson\\nCountry: South Lonnie\\nNone: Anguilla,404-645-5351x012,001-257-582-8850x8516,dudleyemily@gonzales.biz,2021-06-29,http://www.ruiz.com/'),\n",
       " Document(metadata={'source': 'data/customers-100.csv', 'row': 94}, page_content='Customer Id: 94\\nFirst Name: 54B5B5Fe9F1B6C5\\nLast Name: Sherry\\nCompany: Young\\nCity: Lee, Lucero and Johnson\\nCountry: Frankchester\\nNone: Solomon Islands,158-687-1764,(438)375-6207x003,alan79@gates-mclaughlin.com,2021-04-04,https://travis.net/'),\n",
       " Document(metadata={'source': 'data/customers-100.csv', 'row': 95}, page_content='Customer Id: 95\\nFirst Name: BE91A0bdcA49Bbc\\nLast Name: Darrell\\nCompany: Douglas\\nCity: Newton, Petersen and Mathis\\nCountry: Daisyborough\\nNone: Mali,001-084-845-9524x1777,001-769-564-6303,grayjean@lowery-good.com,2022-02-17,https://banks.biz/'),\n",
       " Document(metadata={'source': 'data/customers-100.csv', 'row': 96}, page_content='Customer Id: 96\\nFirst Name: cb8E23e48d22Eae\\nLast Name: Karl\\nCompany: Greer\\nCity: Carey LLC\\nCountry: East Richard\\nNone: Guyana,(188)169-1674x58692,001-841-293-3519x614,hhart@jensen.com,2022-01-30,http://hayes-perez.com/'),\n",
       " Document(metadata={'source': 'data/customers-100.csv', 'row': 97}, page_content='Customer Id: 97\\nFirst Name: CeD220bdAaCfaDf\\nLast Name: Lynn\\nCompany: Atkinson\\nCity: Ware, Burns and Oneal\\nCountry: New Bradview\\nNone: Sri Lanka,+1-846-706-2218,605.413.3198,vkemp@ferrell.com,2021-07-10,https://novak-allison.com/'),\n",
       " Document(metadata={'source': 'data/customers-100.csv', 'row': 98}, page_content='Customer Id: 98\\nFirst Name: 28CDbC0dFe4b1Db\\nLast Name: Fred\\nCompany: Guerra\\nCity: Schmitt-Jones\\nCountry: Ortegaland\\nNone: Solomon Islands,+1-753-067-8419x7170,+1-632-666-7507x92121,swagner@kane.org,2021-09-18,https://www.ross.com/'),\n",
       " Document(metadata={'source': 'data/customers-100.csv', 'row': 99}, page_content='Customer Id: 99\\nFirst Name: c23d1D9EE8DEB0A\\nLast Name: Yvonne\\nCompany: Farmer\\nCity: Fitzgerald-Harrell\\nCountry: Lake Elijahview\\nNone: Aruba,(530)311-9786,001-869-452-0943x12424,mccarthystephen@horn-green.biz,2021-08-11,http://watkins.info/'),\n",
       " Document(metadata={'source': 'data/customers-100.csv', 'row': 100}, page_content='Customer Id: 100\\nFirst Name: 2354a0E336A91A1\\nLast Name: Clarence\\nCompany: Haynes\\nCity: Le, Nash and Cross\\nCountry: Judymouth\\nNone: Honduras,(753)813-6941,783.639.1472,colleen91@faulkner.biz,2020-03-11,http://www.hatfield-saunders.net/')]"
      ]
     },
     "execution_count": 10,
     "metadata": {},
     "output_type": "execute_result"
    }
   ],
   "source": [
    "docs"
   ]
  },
  {
   "cell_type": "code",
   "execution_count": 5,
   "metadata": {},
   "outputs": [
    {
     "data": {
      "text/plain": [
       "Document(metadata={'source': 'data/customers-100.csv', 'row': 77}, page_content='Index: 77\\nCustomer Id: BF6a1f9bd1bf8DE\\nFirst Name: Brittany\\nLast Name: Zuniga\\nCompany: Mason-Hester\\nCity: West Reginald\\nCountry: Kyrgyz Republic\\nPhone 1: (050)136-9025\\nPhone 2: 001-480-851-2496x0157\\nEmail: mchandler@cochran-huerta.org\\nSubscription Date: 2021-07-24\\nWebsite: http://www.boyle.com/')"
      ]
     },
     "execution_count": 5,
     "metadata": {},
     "output_type": "execute_result"
    }
   ],
   "source": [
    "docs[77]"
   ]
  },
  {
   "cell_type": "code",
   "execution_count": 64,
   "metadata": {},
   "outputs": [
    {
     "data": {
      "text/plain": [
       "'Index: 78\\nCustomer Id: FfaeFFbbbf280db\\nFirst Name: Cassidy\\nLast Name: Mcmahon\\nCompany: Mcguire, Huynh and Hopkins\\nCity: Lake Sherryborough\\nCountry: Myanmar\\nPhone 1: 5040771311\\nPhone 2: 684-682-0021x1326\\nEmail: katrinalane@fitzgerald.com\\nSubscription Date: 2020-10-21\\nWebsite: https://hurst.com/'"
      ]
     },
     "execution_count": 64,
     "metadata": {},
     "output_type": "execute_result"
    }
   ],
   "source": [
    "docs[77].page_content"
   ]
  },
  {
   "cell_type": "code",
   "execution_count": 11,
   "metadata": {},
   "outputs": [
    {
     "data": {
      "text/plain": [
       "[Document(metadata={'source': 'data/customers-100.csv', 'row': 0}, page_content='Customer Id: Index\\nFirst Name: Customer Id\\nLast Name: First Name\\nCompany: Last Name\\nCity: Company\\nCountry: City\\nNone: Country,Phone 1,Phone 2,Email,Subscription Date,Website'),\n",
       " Document(metadata={'source': 'data/customers-100.csv', 'row': 1}, page_content='Customer Id: 1\\nFirst Name: DD37Cf93aecA6Dc\\nLast Name: Sheryl\\nCompany: Baxter\\nCity: Rasmussen Group\\nCountry: East Leonard\\nNone: Chile,229.077.5154,397.884.0519x718,zunigavanessa@smith.info,2020-08-24,http://www.stephenson.com/'),\n",
       " Document(metadata={'source': 'data/customers-100.csv', 'row': 2}, page_content='Customer Id: 2\\nFirst Name: 1Ef7b82A4CAAD10\\nLast Name: Preston\\nCompany: Lozano\\nCity: Vega-Gentry\\nCountry: East Jimmychester\\nNone: Djibouti,5153435776,686-620-1820x944,vmata@colon.com,2021-04-23,http://www.hobbs.com/'),\n",
       " Document(metadata={'source': 'data/customers-100.csv', 'row': 3}, page_content='Customer Id: 3\\nFirst Name: 6F94879bDAfE5a6\\nLast Name: Roy\\nCompany: Berry\\nCity: Murillo-Perry\\nCountry: Isabelborough\\nNone: Antigua and Barbuda,+1-539-402-0259,(496)978-3969x58947,beckycarr@hogan.com,2020-03-25,http://www.lawrence.com/'),\n",
       " Document(metadata={'source': 'data/customers-100.csv', 'row': 4}, page_content='Customer Id: 4\\nFirst Name: 5Cef8BFA16c5e3c\\nLast Name: Linda\\nCompany: Olsen\\nCity: Dominguez, Mcmillan and Donovan\\nCountry: Bensonview'),\n",
       " Document(metadata={'source': 'data/customers-100.csv', 'row': 4}, page_content='Country: Bensonview\\nNone: Dominican Republic,001-808-617-6467x12895,+1-813-324-8756,stanleyblackwell@benson.org,2020-06-02,http://www.good-lyons.com/'),\n",
       " Document(metadata={'source': 'data/customers-100.csv', 'row': 5}, page_content='Customer Id: 5\\nFirst Name: 053d585Ab6b3159\\nLast Name: Joanna\\nCompany: Bender\\nCity: Martin, Lang and Andrade\\nCountry: West Priscilla'),\n",
       " Document(metadata={'source': 'data/customers-100.csv', 'row': 5}, page_content='Country: West Priscilla\\nNone: Slovakia (Slovak Republic),001-234-203-0635x76146,001-199-446-3860x3486,colinalvarado@miles.net,2021-04-17,https://goodwin-ingram.com/'),\n",
       " Document(metadata={'source': 'data/customers-100.csv', 'row': 6}, page_content='Customer Id: 6\\nFirst Name: 2d08FB17EE273F4\\nLast Name: Aimee\\nCompany: Downs\\nCity: Steele Group\\nCountry: Chavezborough\\nNone: Bosnia and Herzegovina,(283)437-3886x88321,999-728-1637,louis27@gilbert.com,2020-02-25,http://www.berger.net/'),\n",
       " Document(metadata={'source': 'data/customers-100.csv', 'row': 7}, page_content='Customer Id: 7\\nFirst Name: EA4d384DfDbBf77\\nLast Name: Darren\\nCompany: Peck\\nCity: Lester, Woodard and Mitchell\\nCountry: Lake Ana\\nNone: Pitcairn Islands,(496)452-6181x3291,+1-247-266-0963x4995,tgates@cantrell.com,2021-08-24,https://www.le.com/'),\n",
       " Document(metadata={'source': 'data/customers-100.csv', 'row': 8}, page_content='Customer Id: 8\\nFirst Name: 0e04AFde9f225dE\\nLast Name: Brett\\nCompany: Mullen\\nCity: Sanford, Davenport and Giles\\nCountry: Kimport\\nNone: Bulgaria,001-583-352-7197x297,001-333-145-0369,asnow@colon.com,2021-04-12,https://hammond-ramsey.com/'),\n",
       " Document(metadata={'source': 'data/customers-100.csv', 'row': 9}, page_content='Customer Id: 9\\nFirst Name: C2dE4dEEc489ae0\\nLast Name: Sheryl\\nCompany: Meyers\\nCity: Browning-Simon\\nCountry: Robersonstad\\nNone: Cyprus,854-138-4911x5772,+1-448-910-2276x729,mariokhan@ryan-pope.org,2020-01-13,https://www.bullock.net/'),\n",
       " Document(metadata={'source': 'data/customers-100.csv', 'row': 10}, page_content='Customer Id: 10\\nFirst Name: 8C2811a503C7c5a\\nLast Name: Michelle\\nCompany: Gallagher\\nCity: Beck-Hendrix\\nCountry: Elaineberg\\nNone: Timor-Leste,739.218.2516x459,001-054-401-0347x617,mdyer@escobar.net,2021-11-08,https://arias.com/'),\n",
       " Document(metadata={'source': 'data/customers-100.csv', 'row': 11}, page_content='Customer Id: 11\\nFirst Name: 216E205d6eBb815\\nLast Name: Carl\\nCompany: Schroeder\\nCity: Oconnell, Meza and Everett\\nCountry: Shannonville\\nNone: Guernsey,637-854-0256x825,114.336.0784x788,kirksalas@webb.com,2021-10-20,https://simmons-hurley.com/'),\n",
       " Document(metadata={'source': 'data/customers-100.csv', 'row': 12}, page_content='Customer Id: 12\\nFirst Name: CEDec94deE6d69B\\nLast Name: Jenna\\nCompany: Dodson\\nCity: Hoffman, Reed and Mcclain\\nCountry: East Andrea\\nNone: Vietnam,(041)737-3846,+1-556-888-3485x42608,mark42@robbins.com,2020-11-29,http://www.douglas.net/'),\n",
       " Document(metadata={'source': 'data/customers-100.csv', 'row': 13}, page_content='Customer Id: 13\\nFirst Name: e35426EbDEceaFF\\nLast Name: Tracey\\nCompany: Mata\\nCity: Graham-Francis\\nCountry: South Joannamouth\\nNone: Togo,001-949-844-8787,(855)713-8773,alex56@walls.org,2021-12-02,http://www.beck.com/'),\n",
       " Document(metadata={'source': 'data/customers-100.csv', 'row': 14}, page_content='Customer Id: 14\\nFirst Name: A08A8aF8BE9FaD4\\nLast Name: Kristine\\nCompany: Cox\\nCity: Carpenter-Cook\\nCountry: Jodyberg\\nNone: Sri Lanka,786-284-3358x62152,+1-315-627-1796x8074,holdenmiranda@clarke.com,2021-02-08,https://www.brandt.com/'),\n",
       " Document(metadata={'source': 'data/customers-100.csv', 'row': 15}, page_content='Customer Id: 15\\nFirst Name: 6fEaA1b7cab7B6C\\nLast Name: Faith\\nCompany: Lutz\\nCity: Carter-Hancock\\nCountry: Burchbury\\nNone: Singapore,(781)861-7180x8306,207-185-3665,cassieparrish@blevins-chapman.net,2022-01-26,http://stevenson.org/'),\n",
       " Document(metadata={'source': 'data/customers-100.csv', 'row': 16}, page_content='Customer Id: 16\\nFirst Name: 8cad0b4CBceaeec\\nLast Name: Miranda\\nCompany: Beasley\\nCity: Singleton and Sons\\nCountry: Desireeshire\\nNone: Oman,540.085.3135x185,+1-600-462-6432x21881,vduncan@parks-hardy.com,2022-04-12,http://acosta.org/'),\n",
       " Document(metadata={'source': 'data/customers-100.csv', 'row': 17}, page_content='Customer Id: 17\\nFirst Name: a5DC21AE3a21eaA\\nLast Name: Caroline\\nCompany: Foley\\nCity: Winters-Mendoza\\nCountry: West Adriennestad'),\n",
       " Document(metadata={'source': 'data/customers-100.csv', 'row': 17}, page_content='None: Western Sahara,936.222.4746x9924,001-469-948-6341x359,holtgwendolyn@watson-davenport.com,2021-03-10,http://www.benson-roth.com/'),\n",
       " Document(metadata={'source': 'data/customers-100.csv', 'row': 18}, page_content='Customer Id: 18\\nFirst Name: F8Aa9d6DfcBeeF8\\nLast Name: Greg\\nCompany: Mata\\nCity: Valentine LLC\\nCountry: Lake Leslie\\nNone: Mozambique,(701)087-2415,(195)156-1861x26241,jaredjuarez@carroll.org,2022-03-26,http://pitts-cherry.com/'),\n",
       " Document(metadata={'source': 'data/customers-100.csv', 'row': 19}, page_content='Customer Id: 19\\nFirst Name: F160f5Db3EfE973\\nLast Name: Clifford\\nCompany: Jacobson\\nCity: Simon LLC\\nCountry: Harmonview'),\n",
       " Document(metadata={'source': 'data/customers-100.csv', 'row': 19}, page_content='Country: Harmonview\\nNone: South Georgia and the South Sandwich Islands,001-151-330-3524x0469,(748)477-7174,joseph26@jacobson.com,2020-09-24,https://mcconnell.com/'),\n",
       " Document(metadata={'source': 'data/customers-100.csv', 'row': 20}, page_content='Customer Id: 20\\nFirst Name: 0F60FF3DdCd7aB0\\nLast Name: Joanna\\nCompany: Kirk\\nCity: Mays-Mccormick\\nCountry: Jamesshire\\nNone: French Polynesia,(266)131-7001x711,(283)312-5579x11543,tuckerangie@salazar.net,2021-09-24,https://www.camacho.net/'),\n",
       " Document(metadata={'source': 'data/customers-100.csv', 'row': 21}, page_content='Customer Id: 21\\nFirst Name: 9F9AdB7B8A6f7F2\\nLast Name: Maxwell\\nCompany: Frye\\nCity: Patterson Inc\\nCountry: East Carly\\nNone: Malta,423.262.3059,202-880-0688x7491,fgibson@drake-webb.com,2022-01-12,http://www.roberts.com/'),\n",
       " Document(metadata={'source': 'data/customers-100.csv', 'row': 22}, page_content='Customer Id: 22\\nFirst Name: FBd0Ded4F02a742\\nLast Name: Kiara\\nCompany: Houston\\nCity: Manning, Hester and Arroyo\\nCountry: South Alvin'),\n",
       " Document(metadata={'source': 'data/customers-100.csv', 'row': 22}, page_content='Country: South Alvin\\nNone: Netherlands,001-274-040-3582x10611,+1-528-175-0973x4684,blanchardbob@wallace-shannon.com,2020-09-15,https://www.reid-potts.com/'),\n",
       " Document(metadata={'source': 'data/customers-100.csv', 'row': 23}, page_content='Customer Id: 23\\nFirst Name: 2FB0FAA1d429421\\nLast Name: Colleen\\nCompany: Howard\\nCity: Greer and Sons\\nCountry: Brittanyview\\nNone: Paraguay,1935085151,(947)115-7711x5488,rsingleton@ryan-cherry.com,2020-08-19,http://paul.biz/'),\n",
       " Document(metadata={'source': 'data/customers-100.csv', 'row': 24}, page_content=\"Customer Id: 24\\nFirst Name: 010468dAA11382c\\nLast Name: Janet\\nCompany: Valenzuela\\nCity: Watts-Donaldson\\nCountry: Veronicamouth\\nNone: Lao People's Democratic Republic,354.259.5062x7538,500.433.2022,stefanie71@spence.com,2020-09-08,https://moreno.biz/\"),\n",
       " Document(metadata={'source': 'data/customers-100.csv', 'row': 25}, page_content='Customer Id: 25\\nFirst Name: eC1927Ca84E033e\\nLast Name: Shane\\nCompany: Wilcox\\nCity: Tucker LLC\\nCountry: Bryanville\\nNone: Albania,(429)005-9030x11004,541-116-4501,mariah88@santos.com,2021-04-06,https://www.ramos.com/'),\n",
       " Document(metadata={'source': 'data/customers-100.csv', 'row': 26}, page_content='Customer Id: 26\\nFirst Name: 09D7D7C8Fe09aea\\nLast Name: Marcus\\nCompany: Moody\\nCity: Giles Ltd\\nCountry: Kaitlyntown\\nNone: Panama,674-677-8623,909-277-5485x566,donnamullins@norris-barrett.org,2022-05-24,https://www.curry.com/'),\n",
       " Document(metadata={'source': 'data/customers-100.csv', 'row': 27}, page_content='Customer Id: 27\\nFirst Name: aBdfcF2c50b0bfD\\nLast Name: Dakota\\nCompany: Poole\\nCity: Simmons Group\\nCountry: Michealshire\\nNone: Belarus,(371)987-8576x4720,071-152-1376,stacey67@fields.org,2022-02-20,https://sanford-wilcox.biz/'),\n",
       " Document(metadata={'source': 'data/customers-100.csv', 'row': 28}, page_content='Customer Id: 28\\nFirst Name: b92EBfdF8a3f0E6\\nLast Name: Frederick\\nCompany: Harper\\nCity: Hinton, Chaney and Stokes\\nCountry: South Marissatown\\nNone: Switzerland,+1-077-121-1558x0687,264.742.7149,jacobkhan@bright.biz,2022-05-26,https://callahan.org/'),\n",
       " Document(metadata={'source': 'data/customers-100.csv', 'row': 29}, page_content='Customer Id: 29\\nFirst Name: 3B5dAAFA41AFa22\\nLast Name: Stefanie\\nCompany: Fitzpatrick\\nCity: Santana-Duran\\nCountry: Acevedoville'),\n",
       " Document(metadata={'source': 'data/customers-100.csv', 'row': 29}, page_content='Country: Acevedoville\\nNone: Saint Vincent and the Grenadines,(752)776-3286,+1-472-021-4814x85074,wterrell@clark.com,2020-07-30,https://meyers.com/'),\n",
       " Document(metadata={'source': 'data/customers-100.csv', 'row': 30}, page_content='Customer Id: 30\\nFirst Name: EDA69ca7a6e96a2\\nLast Name: Kent\\nCompany: Bradshaw\\nCity: Sawyer PLC\\nCountry: North Harold\\nNone: Tanzania,+1-472-143-5037x884,126.922.6153,qjimenez@boyd.com,2020-04-26,http://maynard-ho.com/'),\n",
       " Document(metadata={'source': 'data/customers-100.csv', 'row': 31}, page_content='Customer Id: 31\\nFirst Name: 64DCcDFaB9DFd4e\\nLast Name: Jack\\nCompany: Tate\\nCity: Acosta, Petersen and Morrow\\nCountry: West Samuel\\nNone: Zimbabwe,965-108-4406x20714,046.906.1442x6784,gfigueroa@boone-zavala.com,2021-09-15,http://www.hawkins-ramsey.com/'),\n",
       " Document(metadata={'source': 'data/customers-100.csv', 'row': 32}, page_content='Customer Id: 32\\nFirst Name: 679c6c83DD872d6\\nLast Name: Tom\\nCompany: Trujillo\\nCity: Mcgee Group\\nCountry: Cunninghamborough\\nNone: Denmark,416-338-3758,(775)890-7209,tapiagreg@beard.info,2022-01-13,http://www.daniels-klein.com/'),\n",
       " Document(metadata={'source': 'data/customers-100.csv', 'row': 33}, page_content='Customer Id: 33\\nFirst Name: 7Ce381e4Afa4ba9\\nLast Name: Gabriel\\nCompany: Mejia\\nCity: Adkins-Salinas\\nCountry: Port Annatown\\nNone: Liechtenstein,4077245425,646.044.0696x66800,coleolson@jennings.net,2021-04-24,https://patel-hanson.info/'),\n",
       " Document(metadata={'source': 'data/customers-100.csv', 'row': 34}, page_content='Customer Id: 34\\nFirst Name: A09AEc6E3bF70eE\\nLast Name: Kaitlyn\\nCompany: Santana\\nCity: Herrera Group\\nCountry: New Kaitlyn\\nNone: United States of America,6303643286,447-710-6202x07313,georgeross@miles.org,2021-09-21,http://pham.com/'),\n",
       " Document(metadata={'source': 'data/customers-100.csv', 'row': 35}, page_content='Customer Id: 35\\nFirst Name: aA9BAFfBc3710fe\\nLast Name: Faith\\nCompany: Moon\\nCity: Waters, Chase and Aguilar\\nCountry: West Marthaburgh'),\n",
       " Document(metadata={'source': 'data/customers-100.csv', 'row': 35}, page_content='None: Bahamas,+1-586-217-0359x6317,+1-818-199-1403,willistonya@randolph-baker.com,2021-11-03,https://spencer-charles.info/'),\n",
       " Document(metadata={'source': 'data/customers-100.csv', 'row': 36}, page_content='Customer Id: 36\\nFirst Name: E11dfb2DB8C9f72\\nLast Name: Tammie\\nCompany: Haley\\nCity: Palmer, Barnes and Houston\\nCountry: East Teresa\\nNone: Belize,001-276-734-4113x6087,(430)300-8770,harrisisaiah@jenkins.com,2022-01-04,http://evans-simon.com/'),\n",
       " Document(metadata={'source': 'data/customers-100.csv', 'row': 37}, page_content='Customer Id: 37\\nFirst Name: 889eCf90f68c5Da\\nLast Name: Nicholas\\nCompany: Sosa\\nCity: Jordan Ltd\\nCountry: South Hunter\\nNone: Uruguay,(661)425-6042,975-998-1519,fwolfe@dorsey.com,2021-08-10,https://www.fleming-richards.com/'),\n",
       " Document(metadata={'source': 'data/customers-100.csv', 'row': 38}, page_content='Customer Id: 38\\nFirst Name: 7a1Ee69F4fF4B4D\\nLast Name: Jordan\\nCompany: Gay\\nCity: Glover and Sons\\nCountry: South Walter\\nNone: Solomon Islands,7208417020,8035336772,tiffanydavies@harris-mcfarland.org,2021-02-24,http://www.lee.org/'),\n",
       " Document(metadata={'source': 'data/customers-100.csv', 'row': 39}, page_content='Customer Id: 39\\nFirst Name: dca4f1D0A0fc5c9\\nLast Name: Bruce\\nCompany: Esparza\\nCity: Huerta-Mclean\\nCountry: Poolefurt\\nNone: Montenegro,559-529-4424,001-625-000-7132x0367,preese@frye-vega.com,2021-10-22,http://www.farley.org/'),\n",
       " Document(metadata={'source': 'data/customers-100.csv', 'row': 40}, page_content='Customer Id: 40\\nFirst Name: 17aD8e2dB3df03D\\nLast Name: Sherry\\nCompany: Garza\\nCity: Anderson Ltd\\nCountry: West John\\nNone: Poland,001-067-713-6440x158,(978)289-8785x5766,ann48@miller.com,2021-11-01,http://spence.com/'),\n",
       " Document(metadata={'source': 'data/customers-100.csv', 'row': 41}, page_content='Customer Id: 41\\nFirst Name: 2f79Cd309624Abb\\nLast Name: Natalie\\nCompany: Gentry\\nCity: Monroe PLC\\nCountry: West Darius\\nNone: Dominican Republic,830.996.8238,499.122.5415,tcummings@fitzpatrick-ashley.com,2020-10-10,http://www.dorsey.biz/'),\n",
       " Document(metadata={'source': 'data/customers-100.csv', 'row': 42}, page_content='Customer Id: 42\\nFirst Name: 6e5ad5a5e2bB5Ca\\nLast Name: Bryan\\nCompany: Dunn\\nCity: Kaufman and Sons\\nCountry: North Jimstad\\nNone: Burkina Faso,001-710-802-5565,078.699.8982x13881,woodwardandres@phelps.com,2021-09-08,http://www.butler.com/'),\n",
       " Document(metadata={'source': 'data/customers-100.csv', 'row': 43}, page_content='Customer Id: 43\\nFirst Name: 7E441b6B228DBcA\\nLast Name: Wayne\\nCompany: Simpson\\nCity: Perkins-Trevino\\nCountry: East Rebekahborough\\nNone: Bolivia,(344)156-8632x1869,463-445-3702x38463,barbarapittman@holder.com,2020-12-13,https://gillespie-holder.com/'),\n",
       " Document(metadata={'source': 'data/customers-100.csv', 'row': 44}, page_content='Customer Id: 44\\nFirst Name: D3fC11A9C235Dc6\\nLast Name: Luis\\nCompany: Greer\\nCity: Cross PLC\\nCountry: North Drew\\nNone: Bulgaria,001-336-025-6849x701,684.698.2911x6092,bstuart@williamson-mcclure.com,2022-05-15,https://fletcher-nielsen.com/'),\n",
       " Document(metadata={'source': 'data/customers-100.csv', 'row': 45}, page_content='Customer Id: 45\\nFirst Name: 30Dfa48fe5Ede78\\nLast Name: Rhonda\\nCompany: Frost\\nCity: Herrera, Shepherd and Underwood\\nCountry: Lake Lindaburgh\\nNone: Monaco,(127)081-9339,+1-431-028-3337x3492,zkrueger@wolf-chavez.net,2021-12-06,http://www.khan.com/'),\n",
       " Document(metadata={'source': 'data/customers-100.csv', 'row': 46}, page_content='Customer Id: 46\\nFirst Name: fD780ED8dbEae7B\\nLast Name: Joanne\\nCompany: Montes\\nCity: Price, Sexton and Mcdaniel\\nCountry: Gwendolynview\\nNone: Palau,(897)726-7952,(467)886-9467x5721,juan80@henson.net,2020-07-01,http://ochoa.com/'),\n",
       " Document(metadata={'source': 'data/customers-100.csv', 'row': 47}, page_content='Customer Id: 47\\nFirst Name: 300A40d3ce24bBA\\nLast Name: Geoffrey\\nCompany: Guzman\\nCity: Short-Wiggins\\nCountry: Zimmermanland\\nNone: Uzbekistan,975.235.8921x269,(983)188-6873,bauercrystal@gay.com,2020-04-23,https://decker-kline.com/'),\n",
       " Document(metadata={'source': 'data/customers-100.csv', 'row': 48}, page_content='Customer Id: 48\\nFirst Name: 283DFCD0Dba40aF\\nLast Name: Gloria\\nCompany: Mccall\\nCity: Brennan, Acosta and Ramos\\nCountry: North Kerriton\\nNone: Ghana,445-603-6729,001-395-959-4736x4524,bartlettjenna@zuniga-moss.biz,2022-03-11,http://burgess-frank.com/'),\n",
       " Document(metadata={'source': 'data/customers-100.csv', 'row': 49}, page_content='Customer Id: 49\\nFirst Name: F4Fc91fEAEad286\\nLast Name: Brady\\nCompany: Cohen\\nCity: Osborne-Erickson\\nCountry: North Eileenville'),\n",
       " Document(metadata={'source': 'data/customers-100.csv', 'row': 49}, page_content='None: United Arab Emirates,741.849.0139x524,+1-028-691-7497x0894,mccalltyrone@durham-rose.biz,2022-03-10,http://hammond-barron.com/'),\n",
       " Document(metadata={'source': 'data/customers-100.csv', 'row': 50}, page_content='Customer Id: 50\\nFirst Name: 80F33Fd2AcebF05\\nLast Name: Latoya\\nCompany: Mccann\\nCity: Hobbs, Garrett and Sanford\\nCountry: Port Sergiofort\\nNone: Belarus,(530)287-4548x29481,162-234-0249x32790,bobhammond@barry.biz,2021-12-02,https://www.burton.com/'),\n",
       " Document(metadata={'source': 'data/customers-100.csv', 'row': 51}, page_content='Customer Id: 51\\nFirst Name: Aa20BDe68eAb0e9\\nLast Name: Gerald\\nCompany: Hawkins\\nCity: Phelps, Forbes and Koch\\nCountry: New Alberttown\\nNone: Canada,+1-323-239-1456x96168,(092)508-0269,uwarner@steele-arias.com,2021-03-19,https://valenzuela.com/'),\n",
       " Document(metadata={'source': 'data/customers-100.csv', 'row': 52}, page_content='Customer Id: 52\\nFirst Name: e898eEB1B9FE22b\\nLast Name: Samuel\\nCompany: Crawford\\nCity: May, Goodwin and Martin\\nCountry: South Jasmine\\nNone: Algeria,802-242-7457,626.116.9535x8578,xpittman@ritter-carney.net,2021-03-27,https://guerrero.org/'),\n",
       " Document(metadata={'source': 'data/customers-100.csv', 'row': 53}, page_content='Customer Id: 53\\nFirst Name: faCEF517ae7D8eB\\nLast Name: Patricia\\nCompany: Goodwin\\nCity: Christian, Winters and Ellis\\nCountry: Cowanfort\\nNone: Swaziland,322.549.7139x70040,(111)741-4173,vaughanchristy@lara.biz,2021-03-08,http://clark.info/'),\n",
       " Document(metadata={'source': 'data/customers-100.csv', 'row': 54}, page_content='Customer Id: 54\\nFirst Name: c09952De6Cda8aA\\nLast Name: Stacie\\nCompany: Richard\\nCity: Byrd Inc\\nCountry: New Deborah\\nNone: Madagascar,001-622-948-3641x24810,001-731-168-2893x8891,clinton85@colon-arias.org,2020-10-15,https://kim.com/'),\n",
       " Document(metadata={'source': 'data/customers-100.csv', 'row': 55}, page_content='Customer Id: 55\\nFirst Name: f3BEf3Be028166f\\nLast Name: Robin\\nCompany: West\\nCity: Nixon, Blackwell and Sosa\\nCountry: Wallstown\\nNone: Ecuador,698.303.4267,001-683-837-7651x525,greenemiranda@zimmerman.com,2022-01-13,https://www.mora.com/'),\n",
       " Document(metadata={'source': 'data/customers-100.csv', 'row': 56}, page_content='Customer Id: 56\\nFirst Name: C6F2Fc6a7948a4e\\nLast Name: Ralph\\nCompany: Haas\\nCity: Montes PLC\\nCountry: Lake Ellenchester\\nNone: Palestinian Territory,2239271999,001-962-434-0867x649,goodmancesar@figueroa.biz,2020-05-25,http://may.com/'),\n",
       " Document(metadata={'source': 'data/customers-100.csv', 'row': 57}, page_content='Customer Id: 57\\nFirst Name: c8FE57cBBdCDcb2\\nLast Name: Phyllis\\nCompany: Maldonado\\nCity: Costa PLC\\nCountry: Lake Whitney\\nNone: Saint Barthelemy,4500370767,001-508-064-6725x017,yhanson@warner-diaz.org,2021-01-25,http://www.bernard.com/'),\n",
       " Document(metadata={'source': 'data/customers-100.csv', 'row': 58}, page_content='Customer Id: 58\\nFirst Name: B5acdFC982124F2\\nLast Name: Danny\\nCompany: Parrish\\nCity: Novak LLC\\nCountry: East Jaredbury'),\n",
       " Document(metadata={'source': 'data/customers-100.csv', 'row': 58}, page_content='Country: East Jaredbury\\nNone: United Arab Emirates,(669)384-8597x8794,506.731.5952x571,howelldarren@house-cohen.com,2021-03-17,http://www.parsons-hudson.com/'),\n",
       " Document(metadata={'source': 'data/customers-100.csv', 'row': 59}, page_content='Customer Id: 59\\nFirst Name: 8c7DdF10798bCC3\\nLast Name: Kathy\\nCompany: Hill\\nCity: Moore, Mccoy and Glass\\nCountry: Selenabury'),\n",
       " Document(metadata={'source': 'data/customers-100.csv', 'row': 59}, page_content='Country: Selenabury\\nNone: South Georgia and the South Sandwich Islands,001-171-716-2175x310,888.625.0654,ncamacho@boone-simmons.org,2020-11-15,http://hayden.com/'),\n",
       " Document(metadata={'source': 'data/customers-100.csv', 'row': 60}, page_content='Customer Id: 60\\nFirst Name: C681dDd0cc422f7\\nLast Name: Kelli\\nCompany: Hardy\\nCity: Petty Ltd\\nCountry: Huangfort\\nNone: Sao Tome and Principe,020.324.2191x2022,424-157-8216,kristopher62@oliver.com,2020-12-20,http://www.kidd.com/'),\n",
       " Document(metadata={'source': 'data/customers-100.csv', 'row': 61}, page_content='Customer Id: 61\\nFirst Name: a940cE42e035F28\\nLast Name: Lynn\\nCompany: Pham\\nCity: Brennan, Camacho and Tapia\\nCountry: East Pennyshire\\nNone: Portugal,846.468.6834x611,001-248-691-0006,mpham@rios-guzman.com,2020-08-21,https://www.murphy.com/'),\n",
       " Document(metadata={'source': 'data/customers-100.csv', 'row': 62}, page_content='Customer Id: 62\\nFirst Name: 9Cf5E6AFE0aeBfd\\nLast Name: Shelley\\nCompany: Harris\\nCity: Prince, Malone and Pugh\\nCountry: Port Jasminborough\\nNone: Togo,423.098.0315x8373,+1-386-458-8944x15194,zachary96@mitchell-bryant.org,2020-12-10,https://www.ryan.com/'),\n",
       " Document(metadata={'source': 'data/customers-100.csv', 'row': 63}, page_content='Customer Id: 63\\nFirst Name: aEcbe5365BbC67D\\nLast Name: Eddie\\nCompany: Jimenez\\nCity: Caldwell Group\\nCountry: West Kristine\\nNone: Ethiopia,+1-235-657-1073x6306,(026)401-7353x2417,kristiwhitney@bernard.com,2022-03-24,http://cherry.com/'),\n",
       " Document(metadata={'source': 'data/customers-100.csv', 'row': 64}, page_content='Customer Id: 64\\nFirst Name: FCBdfCEAe20A8Dc\\nLast Name: Chloe\\nCompany: Hutchinson\\nCity: Simon LLC\\nCountry: South Julia\\nNone: Netherlands,981-544-9452,+1-288-552-4666x060,leah85@sutton-terrell.com,2022-05-15,https://mitchell.info/'),\n",
       " Document(metadata={'source': 'data/customers-100.csv', 'row': 65}, page_content='Customer Id: 65\\nFirst Name: 636cBF0835E10ff\\nLast Name: Eileen\\nCompany: Lynch\\nCity: Knight, Abbott and Hubbard\\nCountry: Helenborough\\nNone: Liberia,+1-158-951-4131x53578,001-673-779-6713x680,levigiles@vincent.com,2021-01-02,http://mckay.com/'),\n",
       " Document(metadata={'source': 'data/customers-100.csv', 'row': 66}, page_content='Customer Id: 66\\nFirst Name: fF1b6c9E8Fbf1ff\\nLast Name: Fernando\\nCompany: Lambert\\nCity: Church-Banks\\nCountry: Lake Nancy\\nNone: Lithuania,497.829.9038,3863743398,fisherlinda@schaefer.net,2021-04-23,https://www.vang.com/'),\n",
       " Document(metadata={'source': 'data/customers-100.csv', 'row': 67}, page_content='Customer Id: 67\\nFirst Name: 2A13F74EAa7DA6c\\nLast Name: Makayla\\nCompany: Cannon\\nCity: Henderson Inc\\nCountry: Georgeport\\nNone: New Caledonia,001-215-801-6392x46009,027-609-6460,scottcurtis@hurley.biz,2020-01-20,http://www.velazquez.net/'),\n",
       " Document(metadata={'source': 'data/customers-100.csv', 'row': 68}, page_content='Customer Id: 68\\nFirst Name: a014Ec1b9FccC1E\\nLast Name: Tom\\nCompany: Alvarado\\nCity: Donaldson-Dougherty\\nCountry: South Sophiaberg\\nNone: Kiribati,(585)606-2980x2258,730-797-3594x5614,nicholsonnina@montgomery.info,2020-08-18,http://odom-massey.com/'),\n",
       " Document(metadata={'source': 'data/customers-100.csv', 'row': 69}, page_content='Customer Id: 69\\nFirst Name: 421a109cABDf5fa\\nLast Name: Virginia\\nCompany: Dudley\\nCity: Warren Ltd\\nCountry: Hartbury\\nNone: French Southern Territories,027.846.3705x14184,+1-439-171-1846x4636,zvalencia@phelps.com,2021-01-31,http://hunter-esparza.com/'),\n",
       " Document(metadata={'source': 'data/customers-100.csv', 'row': 70}, page_content='Customer Id: 70\\nFirst Name: CC68FD1D3Bbbf22\\nLast Name: Riley\\nCompany: Good\\nCity: Wade PLC\\nCountry: Erikaville\\nNone: Canada,6977745822,855-436-7641,alex06@galloway.com,2020-02-03,http://conway.org/'),\n",
       " Document(metadata={'source': 'data/customers-100.csv', 'row': 71}, page_content='Customer Id: 71\\nFirst Name: CBCd2Ac8E3eBDF9\\nLast Name: Alexandria\\nCompany: Buck\\nCity: Keller-Coffey\\nCountry: Nicolasfort\\nNone: Iran,078-900-4760x76668,414-112-8700x68751,lee48@manning.com,2021-02-20,https://ramsey.org/'),\n",
       " Document(metadata={'source': 'data/customers-100.csv', 'row': 72}, page_content='Customer Id: 72\\nFirst Name: Ef859092FbEcC07\\nLast Name: Richard\\nCompany: Roth\\nCity: Conway-Mcbride\\nCountry: New Jasmineshire\\nNone: Morocco,581-440-6539,9857827463,aharper@maddox-townsend.org,2020-02-23,https://www.brooks.com/'),\n",
       " Document(metadata={'source': 'data/customers-100.csv', 'row': 73}, page_content='Customer Id: 73\\nFirst Name: F560f2d3cDFb618\\nLast Name: Candice\\nCompany: Keller\\nCity: Huynh and Sons\\nCountry: East Summerstad\\nNone: Zimbabwe,001-927-965-8550x92406,001-243-038-4271x53076,buckleycory@odonnell.net,2020-08-22,https://www.lucero.com/'),\n",
       " Document(metadata={'source': 'data/customers-100.csv', 'row': 74}, page_content='Customer Id: 74\\nFirst Name: A3F76Be153Df4a3\\nLast Name: Anita\\nCompany: Benson\\nCity: Parrish Ltd\\nCountry: Skinnerport\\nNone: Russian Federation,874.617.5668x69878,(399)820-6418x0071,angie04@oconnell.com,2020-02-09,http://oconnor.com/'),\n",
       " Document(metadata={'source': 'data/customers-100.csv', 'row': 75}, page_content='Customer Id: 75\\nFirst Name: D01Af0AF7cBbFeA\\nLast Name: Regina\\nCompany: Stein\\nCity: Guzman-Brown\\nCountry: Raystad\\nNone: Solomon Islands,001-469-848-0724x4407,001-085-360-4426x00357,zrosario@rojas-hardin.net,2022-01-15,http://www.johnston.info/'),\n",
       " Document(metadata={'source': 'data/customers-100.csv', 'row': 76}, page_content='Customer Id: 76\\nFirst Name: d40e89dCade7b2F\\nLast Name: Debra\\nCompany: Riddle\\nCity: Chang, Aguirre and Leblanc\\nCountry: Colinhaven'),\n",
       " Document(metadata={'source': 'data/customers-100.csv', 'row': 76}, page_content='Country: Colinhaven\\nNone: United States Virgin Islands,+1-768-182-6014x14336,(303)961-4491,shieldskerry@robles.com,2020-07-11,http://kaiser.info/'),\n",
       " Document(metadata={'source': 'data/customers-100.csv', 'row': 77}, page_content='Customer Id: 77\\nFirst Name: BF6a1f9bd1bf8DE\\nLast Name: Brittany\\nCompany: Zuniga\\nCity: Mason-Hester\\nCountry: West Reginald\\nNone: Kyrgyz Republic,(050)136-9025,001-480-851-2496x0157,mchandler@cochran-huerta.org,2021-07-24,http://www.boyle.com/'),\n",
       " Document(metadata={'source': 'data/customers-100.csv', 'row': 78}, page_content='Customer Id: 78\\nFirst Name: FfaeFFbbbf280db\\nLast Name: Cassidy\\nCompany: Mcmahon\\nCity: Mcguire, Huynh and Hopkins\\nCountry: Lake Sherryborough\\nNone: Myanmar,5040771311,684-682-0021x1326,katrinalane@fitzgerald.com,2020-10-21,https://hurst.com/'),\n",
       " Document(metadata={'source': 'data/customers-100.csv', 'row': 79}, page_content='Customer Id: 79\\nFirst Name: CbAE1d1e9a8dCb1\\nLast Name: Laurie\\nCompany: Pennington\\nCity: Sanchez, Marsh and Hale\\nCountry: Port Katherineville\\nNone: Dominica,007.155.3406x553,+1-809-862-5566x277,cookejill@powell.com,2020-06-08,http://www.hebert.com/'),\n",
       " Document(metadata={'source': 'data/customers-100.csv', 'row': 80}, page_content='Customer Id: 80\\nFirst Name: A7F85c1DE4dB87f\\nLast Name: Alejandro\\nCompany: Blair\\nCity: Combs, Waller and Durham\\nCountry: Thomasland\\nNone: Iceland,(690)068-4641x51468,555.509.8691x2329,elizabethbarr@ewing.com,2020-09-19,https://mercado-blevins.com/'),\n",
       " Document(metadata={'source': 'data/customers-100.csv', 'row': 81}, page_content='Customer Id: 81\\nFirst Name: D6CEAfb3BDbaa1A\\nLast Name: Leslie\\nCompany: Jennings\\nCity: Blankenship-Arias\\nCountry: Coreybury\\nNone: Micronesia,629.198.6346,075.256.0829,corey75@wiggins.com,2021-11-13,https://www.juarez.com/'),\n",
       " Document(metadata={'source': 'data/customers-100.csv', 'row': 82}, page_content='Customer Id: 82\\nFirst Name: Ebdb6F6F7c90b69\\nLast Name: Kathleen\\nCompany: Mckay\\nCity: Coffey, Lamb and Johnson\\nCountry: Lake Janiceton'),\n",
       " Document(metadata={'source': 'data/customers-100.csv', 'row': 82}, page_content='Country: Lake Janiceton\\nNone: Saint Vincent and the Grenadines,(733)910-9968,(691)247-4128x0665,chloelester@higgins-wilkinson.com,2021-09-12,http://www.owens-mooney.com/'),\n",
       " Document(metadata={'source': 'data/customers-100.csv', 'row': 83}, page_content='Customer Id: 83\\nFirst Name: E8E7e8Cfe516ef0\\nLast Name: Hunter\\nCompany: Moreno\\nCity: Fitzpatrick-Lawrence\\nCountry: East Clinton\\nNone: Isle of Man,(733)833-6754,001-761-013-7121,isaac26@benton-finley.com,2020-12-28,http://walls.info/'),\n",
       " Document(metadata={'source': 'data/customers-100.csv', 'row': 84}, page_content='Customer Id: 84\\nFirst Name: 78C06E9b6B3DF20\\nLast Name: Chad\\nCompany: Davidson\\nCity: Garcia-Jimenez\\nCountry: South Joshuashire\\nNone: Oman,8275702958,(804)842-4715,justinwalters@jimenez.com,2021-11-15,http://www.garner-oliver.com/'),\n",
       " Document(metadata={'source': 'data/customers-100.csv', 'row': 85}, page_content='Customer Id: 85\\nFirst Name: 03A1E62ADdeb31c\\nLast Name: Corey\\nCompany: Holt\\nCity: Mcdonald, Bird and Ramirez\\nCountry: New Glenda\\nNone: Fiji,001-439-242-4986x7918,3162708934,maurice46@morgan.com,2020-02-18,http://www.watson.com/'),\n",
       " Document(metadata={'source': 'data/customers-100.csv', 'row': 86}, page_content='Customer Id: 86\\nFirst Name: C6763c99d0bd16D\\nLast Name: Emma\\nCompany: Cunningham\\nCity: Stephens Inc\\nCountry: North Jillianview\\nNone: New Zealand,128-059-0206x60217,(312)164-4545x2284,walter83@juarez.org,2022-05-13,http://www.reid.info/'),\n",
       " Document(metadata={'source': 'data/customers-100.csv', 'row': 87}, page_content='Customer Id: 87\\nFirst Name: ebe77E5Bf9476CE\\nLast Name: Duane\\nCompany: Woods\\nCity: Montoya-Miller\\nCountry: Lyonsberg\\nNone: Maldives,(636)544-7783x7288,(203)287-1003x5932,kmercer@wagner.com,2020-07-21,http://murray.org/'),\n",
       " Document(metadata={'source': 'data/customers-100.csv', 'row': 88}, page_content='Customer Id: 88\\nFirst Name: E4Bbcd8AD81fC5f\\nLast Name: Alison\\nCompany: Vargas\\nCity: Vaughn, Watts and Leach\\nCountry: East Cristinabury\\nNone: Benin,365-273-8144,053-308-7653x6287,vcantu@norton.com,2020-11-10,http://mason.info/'),\n",
       " Document(metadata={'source': 'data/customers-100.csv', 'row': 89}, page_content='Customer Id: 89\\nFirst Name: efeb73245CDf1fF\\nLast Name: Vernon\\nCompany: Kane\\nCity: Carter-Strickland\\nCountry: Thomasfurt\\nNone: Yemen,114-854-1159x555,499-608-4612,hilljesse@barrett.info,2021-04-15,http://www.duffy-hensley.net/'),\n",
       " Document(metadata={'source': 'data/customers-100.csv', 'row': 90}, page_content='Customer Id: 90\\nFirst Name: 37Ec4B395641c1E\\nLast Name: Lori\\nCompany: Flowers\\nCity: Decker-Mcknight\\nCountry: North Joeburgh\\nNone: Namibia,679.415.1210,945-842-3659x4581,tyrone77@valenzuela.info,2021-01-09,http://www.deleon-crosby.com/'),\n",
       " Document(metadata={'source': 'data/customers-100.csv', 'row': 91}, page_content='Customer Id: 91\\nFirst Name: 5ef6d3eefdD43bE\\nLast Name: Nina\\nCompany: Chavez\\nCity: Byrd-Campbell\\nCountry: Cassidychester\\nNone: Bhutan,053-344-3205,+1-330-920-5422x571,elliserica@frank.com,2020-03-26,https://www.pugh.com/'),\n",
       " Document(metadata={'source': 'data/customers-100.csv', 'row': 92}, page_content='Customer Id: 92\\nFirst Name: 98b3aeDcC3B9FF3\\nLast Name: Shane\\nCompany: Foley\\nCity: Rocha-Hart\\nCountry: South Dannymouth\\nNone: Hungary,+1-822-569-0302,001-626-114-5844x55073,nsteele@sparks.com,2021-07-06,https://www.holt-sparks.com/'),\n",
       " Document(metadata={'source': 'data/customers-100.csv', 'row': 93}, page_content='Customer Id: 93\\nFirst Name: aAb6AFc7AfD0fF3\\nLast Name: Collin\\nCompany: Ayers\\nCity: Lamb-Peterson\\nCountry: South Lonnie\\nNone: Anguilla,404-645-5351x012,001-257-582-8850x8516,dudleyemily@gonzales.biz,2021-06-29,http://www.ruiz.com/'),\n",
       " Document(metadata={'source': 'data/customers-100.csv', 'row': 94}, page_content='Customer Id: 94\\nFirst Name: 54B5B5Fe9F1B6C5\\nLast Name: Sherry\\nCompany: Young\\nCity: Lee, Lucero and Johnson\\nCountry: Frankchester\\nNone: Solomon Islands,158-687-1764,(438)375-6207x003,alan79@gates-mclaughlin.com,2021-04-04,https://travis.net/'),\n",
       " Document(metadata={'source': 'data/customers-100.csv', 'row': 95}, page_content='Customer Id: 95\\nFirst Name: BE91A0bdcA49Bbc\\nLast Name: Darrell\\nCompany: Douglas\\nCity: Newton, Petersen and Mathis\\nCountry: Daisyborough\\nNone: Mali,001-084-845-9524x1777,001-769-564-6303,grayjean@lowery-good.com,2022-02-17,https://banks.biz/'),\n",
       " Document(metadata={'source': 'data/customers-100.csv', 'row': 96}, page_content='Customer Id: 96\\nFirst Name: cb8E23e48d22Eae\\nLast Name: Karl\\nCompany: Greer\\nCity: Carey LLC\\nCountry: East Richard\\nNone: Guyana,(188)169-1674x58692,001-841-293-3519x614,hhart@jensen.com,2022-01-30,http://hayes-perez.com/'),\n",
       " Document(metadata={'source': 'data/customers-100.csv', 'row': 97}, page_content='Customer Id: 97\\nFirst Name: CeD220bdAaCfaDf\\nLast Name: Lynn\\nCompany: Atkinson\\nCity: Ware, Burns and Oneal\\nCountry: New Bradview\\nNone: Sri Lanka,+1-846-706-2218,605.413.3198,vkemp@ferrell.com,2021-07-10,https://novak-allison.com/'),\n",
       " Document(metadata={'source': 'data/customers-100.csv', 'row': 98}, page_content='Customer Id: 98\\nFirst Name: 28CDbC0dFe4b1Db\\nLast Name: Fred\\nCompany: Guerra\\nCity: Schmitt-Jones\\nCountry: Ortegaland\\nNone: Solomon Islands,+1-753-067-8419x7170,+1-632-666-7507x92121,swagner@kane.org,2021-09-18,https://www.ross.com/'),\n",
       " Document(metadata={'source': 'data/customers-100.csv', 'row': 99}, page_content='Customer Id: 99\\nFirst Name: c23d1D9EE8DEB0A\\nLast Name: Yvonne\\nCompany: Farmer\\nCity: Fitzgerald-Harrell\\nCountry: Lake Elijahview\\nNone: Aruba,(530)311-9786,001-869-452-0943x12424,mccarthystephen@horn-green.biz,2021-08-11,http://watkins.info/'),\n",
       " Document(metadata={'source': 'data/customers-100.csv', 'row': 100}, page_content='Customer Id: 100\\nFirst Name: 2354a0E336A91A1\\nLast Name: Clarence\\nCompany: Haynes\\nCity: Le, Nash and Cross\\nCountry: Judymouth\\nNone: Honduras,(753)813-6941,783.639.1472,colleen91@faulkner.biz,2020-03-11,http://www.hatfield-saunders.net/')]"
      ]
     },
     "execution_count": 11,
     "metadata": {},
     "output_type": "execute_result"
    }
   ],
   "source": [
    "documents"
   ]
  },
  {
   "cell_type": "code",
   "execution_count": 6,
   "metadata": {},
   "outputs": [
    {
     "data": {
      "text/plain": [
       "'ollama'"
      ]
     },
     "execution_count": 6,
     "metadata": {},
     "output_type": "execute_result"
    }
   ],
   "source": [
    "llm_type = os.getenv(\"LLM_TYPE\", \"ollama\")\n",
    "llm_type "
   ]
  },
  {
   "cell_type": "code",
   "execution_count": 10,
   "metadata": {},
   "outputs": [
    {
     "name": "stdout",
     "output_type": "stream",
     "text": [
      "Ollama LLM is available.\n"
     ]
    },
    {
     "ename": "",
     "evalue": "",
     "output_type": "error",
     "traceback": [
      "\u001b[1;31mCannot execute code, session has been disposed. Please try restarting the Kernel."
     ]
    },
    {
     "ename": "",
     "evalue": "",
     "output_type": "error",
     "traceback": [
      "\u001b[1;31mCannot execute code, session has been disposed. Please try restarting the Kernel. \n",
      "\u001b[1;31mView Jupyter <a href='command:jupyter.viewOutput'>log</a> for further details."
     ]
    }
   ],
   "source": [
    "if llm_type == \"ollama\":\n",
    "    llm = ChatOllama(model=\"llama3.2\", temperature=0)\n",
    "    print(\"Ollama LLM is available.\")\n",
    "elif llm_type == \"openai\":\n",
    "    llm = ChatOpenAI(model=\"gpt-4o\", temperature=0)\n",
    "    print(\"OpenAI.\")\n",
    "else:\n",
    "    llm = ChatAnthropic(model=\"claude-3-5-sonnet-20240620\", temperature=0)\n",
    "    print(\"Claude Shannon here\")\n",
    "\n",
    "llm_transformer = LLMGraphTransformer(llm=llm)\n",
    "graph_documents = llm_transformer.convert_to_graph_documents(documents)"
   ]
  },
  {
   "cell_type": "code",
   "execution_count": 38,
   "metadata": {},
   "outputs": [
    {
     "data": {
      "text/plain": [
       "GraphDocument(nodes=[], relationships=[], source=Document(metadata={'source': 'data/sparql.txt'}, page_content='PREFIX :\\t<https://github.com/aghoshpro/OntoRaster/>\\nPREFIX rdfs: <http://www.w3.org/2000/01/rdf-schema#>\\nPREFIX geo:\\t <http://www.opengis.net/ont/geosparql#>\\nPREFIX geof: <http://www.opengis.net/def/function/geosparql/>'))"
      ]
     },
     "execution_count": 38,
     "metadata": {},
     "output_type": "execute_result"
    }
   ],
   "source": [
    "graph_documents[3]"
   ]
  },
  {
   "cell_type": "code",
   "execution_count": 37,
   "metadata": {},
   "outputs": [
    {
     "data": {
      "text/plain": [
       "9"
      ]
     },
     "execution_count": 37,
     "metadata": {},
     "output_type": "execute_result"
    }
   ],
   "source": [
    "len(graph_documents)"
   ]
  },
  {
   "cell_type": "code",
   "execution_count": 39,
   "metadata": {},
   "outputs": [
    {
     "data": {
      "text/plain": [
       "<langchain_neo4j.graphs.neo4j_graph.Neo4jGraph at 0x197d019ebf0>"
      ]
     },
     "execution_count": 39,
     "metadata": {},
     "output_type": "execute_result"
    }
   ],
   "source": [
    "graph = Neo4jGraph()\n",
    "graph"
   ]
  },
  {
   "cell_type": "code",
   "execution_count": 40,
   "metadata": {},
   "outputs": [],
   "source": [
    "graph.add_graph_documents(\n",
    "    graph_documents,\n",
    "    baseEntityLabel=True,\n",
    "    include_source=True\n",
    ")"
   ]
  },
  {
   "cell_type": "code",
   "execution_count": 41,
   "metadata": {},
   "outputs": [],
   "source": [
    "def displayGraph():\n",
    "    driver = GraphDatabase.driver(\n",
    "        uri = os.environ[\"NEO4J_URI\"],\n",
    "        auth = (os.environ[\"NEO4J_USERNAME\"],\n",
    "                os.environ[\"NEO4J_PASSWORD\"]))\n",
    "\n",
    "    session = driver.session()\n",
    "    widget = GraphWidget(graph=session.run(\"MATCH (s)-[r:!MENTIONS]->(t) RETURN s,r,t\").graph())\n",
    "    widget.node_label_mapping = 'id'\n",
    "    return widget\n",
    "\n",
    "# displayGraph()"
   ]
  },
  {
   "cell_type": "code",
   "execution_count": 42,
   "metadata": {},
   "outputs": [
    {
     "data": {
      "application/vnd.jupyter.widget-view+json": {
       "model_id": "e57e98329fc840088fe095cfe2dba7d2",
       "version_major": 2,
       "version_minor": 0
      },
      "text/plain": [
       "GraphWidget(layout=Layout(height='500px', width='100%'))"
      ]
     },
     "metadata": {},
     "output_type": "display_data"
    }
   ],
   "source": [
    "displayGraph()"
   ]
  },
  {
   "cell_type": "code",
   "execution_count": null,
   "metadata": {},
   "outputs": [],
   "source": []
  },
  {
   "cell_type": "code",
   "execution_count": null,
   "metadata": {},
   "outputs": [],
   "source": []
  },
  {
   "cell_type": "code",
   "execution_count": null,
   "metadata": {},
   "outputs": [
    {
     "data": {
      "application/javascript": "var link = document.createElement(\"link\");\n\tlink.rel = \"stylesheet\";\n\tlink.type = \"text/css\";\n\tlink.href = \"https://cdnjs.cloudflare.com/ajax/libs/vis/4.8.2/vis.css\";\n\tdocument.head.appendChild(link);\nrequire.config({     paths: {         vis: '//cdnjs.cloudflare.com/ajax/libs/vis/4.8.2/vis.min'     } }); require(['vis'], function(vis) {  window.vis = vis; }); ",
      "text/plain": [
       "<IPython.core.display.Javascript object>"
      ]
     },
     "metadata": {},
     "output_type": "display_data"
    }
   ],
   "source": [
    "# import neo4jupyter\n",
    "# neo4jupyter.init_notebook_mode()"
   ]
  },
  {
   "cell_type": "code",
   "execution_count": 47,
   "metadata": {},
   "outputs": [],
   "source": [
    "# neo4jupyter.draw(graph,{\"Nodes_type\": \"Att\"})"
   ]
  },
  {
   "cell_type": "markdown",
   "metadata": {},
   "source": [
    "### Embedding Model\n",
    "\n",
    "- https://medium.com/timescale/finding-the-best-open-source-embedding-model-for-rag-929d1656d331"
   ]
  },
  {
   "cell_type": "code",
   "execution_count": 48,
   "metadata": {},
   "outputs": [
    {
     "name": "stdout",
     "output_type": "stream",
     "text": [
      "mxbai-embed-large 1024\n",
      "nomic-embed-text 768\n",
      "bge-m3 1024\n"
     ]
    }
   ],
   "source": [
    "EMBEDDING_MODELS = [\n",
    "    {'name':'mxbai-embed-large', 'dimensions': 1024},\n",
    "    {'name':'nomic-embed-text','dimensions': 768},\n",
    "    {'name':'bge-m3','dimensions': 1024},\n",
    "]\n",
    " \n",
    "for model in EMBEDDING_MODELS:\n",
    "    print(model['name'], model['dimensions'])"
   ]
  },
  {
   "cell_type": "code",
   "execution_count": 49,
   "metadata": {
    "id": "GHbJPMfDtHNW"
   },
   "outputs": [],
   "source": [
    "embeddings = OllamaEmbeddings(\n",
    "    model=\"mxbai-embed-large\",\n",
    ")\n",
    "\n",
    "vector_index = Neo4jVector.from_existing_graph(\n",
    "    embeddings,\n",
    "    search_type=\"hybrid\",\n",
    "    node_label=\"Document\",\n",
    "    text_node_properties=[\"text\"],\n",
    "    embedding_node_property=\"embedding\"\n",
    ")\n",
    "vector_retriever = vector_index.as_retriever()"
   ]
  },
  {
   "cell_type": "code",
   "execution_count": 50,
   "metadata": {},
   "outputs": [
    {
     "data": {
      "text/plain": [
       "VectorStoreRetriever(tags=['Neo4jVector', 'OllamaEmbeddings'], vectorstore=<langchain_neo4j.vectorstores.neo4j_vector.Neo4jVector object at 0x00000197D00CD240>, search_kwargs={})"
      ]
     },
     "execution_count": 50,
     "metadata": {},
     "output_type": "execute_result"
    }
   ],
   "source": [
    "vector_retriever"
   ]
  },
  {
   "cell_type": "code",
   "execution_count": 51,
   "metadata": {
    "colab": {
     "base_uri": "https://localhost:8080/",
     "height": 817,
     "referenced_widgets": [
      "8e37edd9789a4d57a7be401628e7ff7f",
      "9bac7003afd84cecb4e67a81a396ec8d"
     ]
    },
    "id": "RMZlhtDmtHNW",
    "outputId": "86efa842-3297-45d6-dab2-681bbc836b4d"
   },
   "outputs": [],
   "source": [
    "driver = GraphDatabase.driver(\n",
    "        uri = os.environ[\"NEO4J_URI\"],\n",
    "        auth = (os.environ[\"NEO4J_USERNAME\"],\n",
    "                os.environ[\"NEO4J_PASSWORD\"]))\n",
    "\n",
    "def create_fulltext_index(tx):\n",
    "    query = '''\n",
    "    CREATE FULLTEXT INDEX `fulltext_entity_id` \n",
    "    FOR (n:__Entity__) \n",
    "    ON EACH [n.id];\n",
    "    '''\n",
    "    tx.run(query)\n",
    "\n",
    "# Function to execute the query\n",
    "def create_index():\n",
    "    with driver.session() as session:\n",
    "        session.execute_write(create_fulltext_index)\n",
    "        print(\"Fulltext is indexed successfully.\")\n",
    "\n",
    "# Call the function to create the index\n",
    "try:\n",
    "    create_index()\n",
    "except:\n",
    "    pass\n",
    "\n",
    "# Close the driver connection\n",
    "driver.close()"
   ]
  },
  {
   "cell_type": "code",
   "execution_count": 52,
   "metadata": {
    "colab": {
     "base_uri": "https://localhost:8080/"
    },
    "id": "6yCMz_sRtHNW",
    "outputId": "f533f279-9a2b-48d6-830b-28d04c43550b"
   },
   "outputs": [],
   "source": [
    "class Entities(BaseModel):\n",
    "    \"\"\"Identifying information about entities.\"\"\"\n",
    "\n",
    "    names: list[str] = Field(\n",
    "        ...,\n",
    "        description=\"All the person, organization, or business entities that \"\n",
    "        \"appear in the text\",\n",
    "    )\n",
    "\n",
    "prompt = ChatPromptTemplate.from_messages(\n",
    "    [\n",
    "        (\n",
    "            \"system\",\n",
    "            \"You are extracting organization and person entities from the text.\",\n",
    "        ),\n",
    "        (\n",
    "            \"human\",\n",
    "            \"Use the given format to extract information from the following \"\n",
    "            \"input: {question}\",\n",
    "        ),\n",
    "    ]\n",
    ")\n",
    "\n",
    "\n",
    "entity_chain = llm.with_structured_output(Entities)"
   ]
  },
  {
   "cell_type": "code",
   "execution_count": 53,
   "metadata": {},
   "outputs": [
    {
     "data": {
      "text/plain": [
       "RunnableBinding(bound=ChatOllama(model='llama3.2', temperature=0.0), kwargs={'tools': [{'type': 'function', 'function': {'name': 'Entities', 'description': 'Identifying information about entities.', 'parameters': {'properties': {'names': {'description': 'All the person, organization, or business entities that appear in the text', 'items': {'type': 'string'}, 'type': 'array'}}, 'required': ['names'], 'type': 'object'}}}], 'structured_output_format': {'kwargs': {'method': 'function_calling'}, 'schema': {'type': 'function', 'function': {'name': 'Entities', 'description': 'Identifying information about entities.', 'parameters': {'properties': {'names': {'description': 'All the person, organization, or business entities that appear in the text', 'items': {'type': 'string'}, 'type': 'array'}}, 'required': ['names'], 'type': 'object'}}}}}, config={}, config_factories=[])\n",
       "| PydanticToolsParser(first_tool_only=True, tools=[<class '__main__.Entities'>])"
      ]
     },
     "execution_count": 53,
     "metadata": {},
     "output_type": "execute_result"
    }
   ],
   "source": [
    "entity_chain"
   ]
  },
  {
   "cell_type": "code",
   "execution_count": 42,
   "metadata": {
    "colab": {
     "base_uri": "https://localhost:8080/"
    },
    "id": "54H15KNAtHNX",
    "outputId": "236df5a6-9f9e-49fd-a360-e4bb51dc7288"
   },
   "outputs": [
    {
     "data": {
      "text/plain": [
       "Entities(names=['Nonna Lucia', 'Giovanni Caruso'])"
      ]
     },
     "execution_count": 42,
     "metadata": {},
     "output_type": "execute_result"
    }
   ],
   "source": [
    "entity_chain.invoke(\"Who are Nonna Lucia and Giovanni Caruso?\")"
   ]
  },
  {
   "cell_type": "code",
   "execution_count": 54,
   "metadata": {
    "id": "dY8huoM8tHNX"
   },
   "outputs": [],
   "source": [
    "def generate_full_text_query(input: str) -> str:\n",
    "    words = [el for el in remove_lucene_chars(input).split() if el]\n",
    "    if not words:\n",
    "        return \"\"\n",
    "    full_text_query = \" AND \".join([f\"{word}~2\" for word in words])\n",
    "    print(f\"Generated Query: {full_text_query}\")\n",
    "    return full_text_query.strip()\n",
    "\n",
    "\n",
    "# Fulltext index query\n",
    "def graph_retriever(question: str) -> str:\n",
    "    \"\"\"\n",
    "    Collects the neighborhood of entities mentioned\n",
    "    in the question\n",
    "    \"\"\"\n",
    "    result = \"\"\n",
    "    entities = entity_chain.invoke(question)\n",
    "    for entity in entities.names:\n",
    "        response = graph.query(\n",
    "            \"\"\"CALL db.index.fulltext.queryNodes('fulltext_entity_id', $query, {limit:2})\n",
    "            YIELD node,score\n",
    "            CALL {\n",
    "              WITH node\n",
    "              MATCH (node)-[r:!MENTIONS]->(neighbor)\n",
    "              RETURN node.id + ' - ' + type(r) + ' -> ' + neighbor.id AS output\n",
    "              UNION ALL\n",
    "              WITH node\n",
    "              MATCH (node)<-[r:!MENTIONS]-(neighbor)\n",
    "              RETURN neighbor.id + ' - ' + type(r) + ' -> ' +  node.id AS output\n",
    "            }\n",
    "            RETURN output LIMIT 50\n",
    "            \"\"\",\n",
    "            {\"query\": entity},\n",
    "        )\n",
    "        result += \"\\n\".join([el['output'] for el in response])\n",
    "    return result"
   ]
  },
  {
   "cell_type": "code",
   "execution_count": 26,
   "metadata": {
    "colab": {
     "base_uri": "https://localhost:8080/"
    },
    "id": "_6fOJRPntHNX",
    "outputId": "a99ffca0-2d4d-4374-8519-c6e37c395f1f"
   },
   "outputs": [
    {
     "name": "stderr",
     "output_type": "stream",
     "text": [
      "Received notification from DBMS server: {severity: WARNING} {code: Neo.ClientNotification.Statement.UnknownRelationshipTypeWarning} {category: UNRECOGNIZED} {title: The provided relationship type is not in the database.} {description: One of the relationship types in your query is not available in the database, make sure you didn't misspell it or that the label is available when you run this statement in your application (the missing relationship type is: MENTIONS)} {position: line: 5, column: 32, offset: 178} for query: \"CALL db.index.fulltext.queryNodes('fulltext_entity_id', $query, {limit:2})\\n            YIELD node,score\\n            CALL {\\n              WITH node\\n              MATCH (node)-[r:!MENTIONS]->(neighbor)\\n              RETURN node.id + ' - ' + type(r) + ' -> ' + neighbor.id AS output\\n              UNION ALL\\n              WITH node\\n              MATCH (node)<-[r:!MENTIONS]-(neighbor)\\n              RETURN neighbor.id + ' - ' + type(r) + ' -> ' +  node.id AS output\\n            }\\n            RETURN output LIMIT 50\\n            \"\n",
      "Received notification from DBMS server: {severity: WARNING} {code: Neo.ClientNotification.Statement.UnknownRelationshipTypeWarning} {category: UNRECOGNIZED} {title: The provided relationship type is not in the database.} {description: One of the relationship types in your query is not available in the database, make sure you didn't misspell it or that the label is available when you run this statement in your application (the missing relationship type is: MENTIONS)} {position: line: 9, column: 33, offset: 360} for query: \"CALL db.index.fulltext.queryNodes('fulltext_entity_id', $query, {limit:2})\\n            YIELD node,score\\n            CALL {\\n              WITH node\\n              MATCH (node)-[r:!MENTIONS]->(neighbor)\\n              RETURN node.id + ' - ' + type(r) + ' -> ' + neighbor.id AS output\\n              UNION ALL\\n              WITH node\\n              MATCH (node)<-[r:!MENTIONS]-(neighbor)\\n              RETURN neighbor.id + ' - ' + type(r) + ' -> ' +  node.id AS output\\n            }\\n            RETURN output LIMIT 50\\n            \"\n"
     ]
    },
    {
     "name": "stdout",
     "output_type": "stream",
     "text": [
      "\n"
     ]
    }
   ],
   "source": [
    "print(graph_retriever(\"Who is Bruce\tEsparza?\"))"
   ]
  },
  {
   "cell_type": "code",
   "execution_count": 23,
   "metadata": {},
   "outputs": [
    {
     "data": {
      "text/plain": [
       "''"
      ]
     },
     "execution_count": 23,
     "metadata": {},
     "output_type": "execute_result"
    }
   ],
   "source": [
    "graph_retriever(\"Who is Giovanni?\")"
   ]
  },
  {
   "cell_type": "code",
   "execution_count": 55,
   "metadata": {
    "id": "iCTMp3prtHNX"
   },
   "outputs": [],
   "source": [
    "def full_retriever(question: str):\n",
    "    graph_data = graph_retriever(question)\n",
    "    vector_data = [el.page_content for el in vector_retriever.invoke(question)]\n",
    "    final_data = f\"\"\"Graph data:\n",
    "{graph_data}\n",
    "vector data:\n",
    "{\"#Document \". join(vector_data)}\n",
    "    \"\"\"\n",
    "    return final_data"
   ]
  },
  {
   "cell_type": "markdown",
   "metadata": {},
   "source": [
    "## Q&A"
   ]
  },
  {
   "cell_type": "code",
   "execution_count": 56,
   "metadata": {
    "id": "Dzb2jcittHNY"
   },
   "outputs": [],
   "source": [
    "template = \"\"\"Answer the question based only on the following context:\n",
    "{context}\n",
    "\n",
    "Question: {question}\n",
    "Use natural language and be concise.\n",
    "Answer:\"\"\"\n",
    "prompt = ChatPromptTemplate.from_template(template)\n",
    "\n",
    "chain = (\n",
    "        {\n",
    "            \"context\": full_retriever,\n",
    "            \"question\": RunnablePassthrough(),\n",
    "        }\n",
    "    | prompt\n",
    "    | llm\n",
    "    | StrOutputParser()\n",
    ")"
   ]
  },
  {
   "cell_type": "code",
   "execution_count": 57,
   "metadata": {},
   "outputs": [
    {
     "data": {
      "text/plain": [
       "'This appears to be a query written in SPARQL, a query language for RDF data.'"
      ]
     },
     "execution_count": 57,
     "metadata": {},
     "output_type": "execute_result"
    }
   ],
   "source": [
    "chain.invoke(input=\"What is this?\")"
   ]
  },
  {
   "cell_type": "code",
   "execution_count": 58,
   "metadata": {},
   "outputs": [
    {
     "data": {
      "text/plain": [
       "'To find all districts of Bolzano with an elevation between 510-520 meters, you can use the following SPARQL query:\\n\\n```sparql\\nSELECT ?distName ?elevation \\nWHERE {\\n  ?region rdfs:label ?distName .\\n  ?region geo:asWKT ?distWkt .\\n  FILTER (CONTAINS(?distWkt, \\'Bolzano\\') AND CONTAINS(?distWkt, \\'510-520\\'))\\n}\\n```\\n\\nThis query filters the districts where the elevation is between 510-520 meters and contains the label \"Bolzano\".'"
      ]
     },
     "execution_count": 58,
     "metadata": {},
     "output_type": "execute_result"
    }
   ],
   "source": [
    "chain.invoke(input=\"Write a SPARQL code to find all districts of Bolzano where elevation is between 510-520 meters?\")"
   ]
  },
  {
   "cell_type": "code",
   "execution_count": null,
   "metadata": {},
   "outputs": [
    {
     "name": "stderr",
     "output_type": "stream",
     "text": [
      "Received notification from DBMS server: {severity: WARNING} {code: Neo.ClientNotification.Statement.UnknownRelationshipTypeWarning} {category: UNRECOGNIZED} {title: The provided relationship type is not in the database.} {description: One of the relationship types in your query is not available in the database, make sure you didn't misspell it or that the label is available when you run this statement in your application (the missing relationship type is: MENTIONS)} {position: line: 5, column: 32, offset: 178} for query: \"CALL db.index.fulltext.queryNodes('fulltext_entity_id', $query, {limit:2})\\n            YIELD node,score\\n            CALL {\\n              WITH node\\n              MATCH (node)-[r:!MENTIONS]->(neighbor)\\n              RETURN node.id + ' - ' + type(r) + ' -> ' + neighbor.id AS output\\n              UNION ALL\\n              WITH node\\n              MATCH (node)<-[r:!MENTIONS]-(neighbor)\\n              RETURN neighbor.id + ' - ' + type(r) + ' -> ' +  node.id AS output\\n            }\\n            RETURN output LIMIT 50\\n            \"\n",
      "Received notification from DBMS server: {severity: WARNING} {code: Neo.ClientNotification.Statement.UnknownRelationshipTypeWarning} {category: UNRECOGNIZED} {title: The provided relationship type is not in the database.} {description: One of the relationship types in your query is not available in the database, make sure you didn't misspell it or that the label is available when you run this statement in your application (the missing relationship type is: MENTIONS)} {position: line: 9, column: 33, offset: 360} for query: \"CALL db.index.fulltext.queryNodes('fulltext_entity_id', $query, {limit:2})\\n            YIELD node,score\\n            CALL {\\n              WITH node\\n              MATCH (node)-[r:!MENTIONS]->(neighbor)\\n              RETURN node.id + ' - ' + type(r) + ' -> ' + neighbor.id AS output\\n              UNION ALL\\n              WITH node\\n              MATCH (node)<-[r:!MENTIONS]-(neighbor)\\n              RETURN neighbor.id + ' - ' + type(r) + ' -> ' +  node.id AS output\\n            }\\n            RETURN output LIMIT 50\\n            \"\n"
     ]
    },
    {
     "data": {
      "text/plain": [
       "\"I don't have enough information to determine who Bruce Esparza is or if he has an email. The provided graph and vector data are empty, which suggests that there may not be any relevant information about Bruce Esparza in the context.\""
      ]
     },
     "execution_count": 30,
     "metadata": {},
     "output_type": "execute_result"
    }
   ],
   "source": [
    "chain.invoke(input=\"Who company is Bruce Esparza from? and is he has an email ?\")"
   ]
  },
  {
   "cell_type": "code",
   "execution_count": null,
   "metadata": {},
   "outputs": [
    {
     "data": {
      "text/plain": [
       "'Bruce Esparza is from Huerta-Mclean. Yes, he has an email address: preese@frye-vega.com.'"
      ]
     },
     "execution_count": 49,
     "metadata": {},
     "output_type": "execute_result"
    }
   ],
   "source": [
    "chain.invoke(input=\"Who company is Bruce Esparza from? and is he has an email ?\")"
   ]
  },
  {
   "cell_type": "code",
   "execution_count": 50,
   "metadata": {},
   "outputs": [
    {
     "data": {
      "text/plain": [
       "'Two people work for Simon LLC: Clifford Jacobson and Chloe Hutchinson.'"
      ]
     },
     "execution_count": 50,
     "metadata": {},
     "output_type": "execute_result"
    }
   ],
   "source": [
    "chain.invoke(input=\"Who works for the company Simon LLC ?\")"
   ]
  },
  {
   "cell_type": "code",
   "execution_count": 26,
   "metadata": {},
   "outputs": [
    {
     "data": {
      "text/plain": [
       "\"Nonna Lucia was Amico's grandmother, a culinary sage who taught her grandchildren the art of Sicilian cooking. She also played a role in shaping Lucia's culinary talent and influence. There is no mention of Nonna Lucia teaching anyone about restaurants.\""
      ]
     },
     "execution_count": 26,
     "metadata": {},
     "output_type": "execute_result"
    }
   ],
   "source": [
    "chain.invoke(input=\"Who is Nonna Lucia? Did she teach anyone about restaurants or cooking?\")"
   ]
  },
  {
   "cell_type": "code",
   "execution_count": 27,
   "metadata": {},
   "outputs": [
    {
     "data": {
      "text/plain": [
       "'La Dolce Vita was a restaurant owned by Antonio Caruso, located in Rome, known for its live classical music and blend of traditional and modern cuisine.'"
      ]
     },
     "execution_count": 27,
     "metadata": {},
     "output_type": "execute_result"
    }
   ],
   "source": [
    "chain.invoke(input=\"What is La Dolce Vita?\")"
   ]
  },
  {
   "cell_type": "code",
   "execution_count": 35,
   "metadata": {
    "colab": {
     "base_uri": "https://localhost:8080/",
     "height": 53
    },
    "id": "dtU0iMNgtHNY",
    "outputId": "bf3cf94c-f030-41b4-fb3b-356c5bff98f5"
   },
   "outputs": [
    {
     "data": {
      "text/plain": [
       "'LA Terra di Siena appears to be the name of a restaurant, specifically owned by Sofia Caruso.'"
      ]
     },
     "execution_count": 35,
     "metadata": {},
     "output_type": "execute_result"
    }
   ],
   "source": [
    "chain.invoke(input=\"What is LA Tera Di Siena?\")"
   ]
  },
  {
   "cell_type": "code",
   "execution_count": null,
   "metadata": {},
   "outputs": [
    {
     "data": {
      "text/plain": [
       "\"Sofia Caruso is Antonio's wife and the co-owner of a trattoria with her husband Pietro. She is also a baker.\""
      ]
     },
     "execution_count": 36,
     "metadata": {},
     "output_type": "execute_result"
    }
   ],
   "source": [
    "chain.invoke(input=\"Who is Sofia Caruso?\")"
   ]
  },
  {
   "cell_type": "code",
   "execution_count": 37,
   "metadata": {},
   "outputs": [
    {
     "data": {
      "text/plain": [
       "\"The relationships between Sofia, Pietro, Antonio, and Giovanni are as follows:\\n\\n- Sofia is Pietro's wife and a baker.\\n- Pietro is Antonio's eldest son and a skilled fisherman.\\n- Antonio is the father of both Pietro and Giovanni, and he hosts workshops in Rome to share his innovative techniques.\\n\\nThere is no direct information about the relationship between Sofia and Giovanni.\""
      ]
     },
     "execution_count": 37,
     "metadata": {},
     "output_type": "execute_result"
    }
   ],
   "source": [
    "chain.invoke(input=\"Describe the relationship of the Sofia, Pietro, Antonio and Geovanni?\")"
   ]
  }
 ],
 "metadata": {
  "colab": {
   "include_colab_link": true,
   "provenance": []
  },
  "kernelspec": {
   "display_name": "myvenv",
   "language": "python",
   "name": "python3"
  },
  "language_info": {
   "codemirror_mode": {
    "name": "ipython",
    "version": 3
   },
   "file_extension": ".py",
   "mimetype": "text/x-python",
   "name": "python",
   "nbconvert_exporter": "python",
   "pygments_lexer": "ipython3",
   "version": "3.10.8"
  },
  "widgets": {
   "application/vnd.jupyter.widget-state+json": {
    "8e37edd9789a4d57a7be401628e7ff7f": {
     "model_module": "yfiles-jupyter-graphs",
     "model_module_version": "^1.6.1",
     "model_name": "GraphModel",
     "state": {
      "_context_pane_mapping": [
       {
        "id": "Neighborhood",
        "title": "Neighborhood"
       },
       {
        "id": "Data",
        "title": "Data"
       },
       {
        "id": "Search",
        "title": "Search"
       },
       {
        "id": "About",
        "title": "About"
       }
      ],
      "_data_importer": "neo4j",
      "_directed": true,
      "_dom_classes": [],
      "_edges": [
       {
        "color": "#9C27B0",
        "directed": true,
        "end": 2,
        "id": 14,
        "label": "RULED",
        "properties": {
         "label": "RULED"
        },
        "start": 1,
        "thickness_factor": 1
       },
       {
        "color": "#9C27B0",
        "directed": true,
        "end": 3,
        "id": 15,
        "label": "RULED",
        "properties": {
         "label": "RULED"
        },
        "start": 1,
        "thickness_factor": 1
       },
       {
        "color": "#2196F3",
        "directed": true,
        "end": 4,
        "id": 16,
        "label": "BELONGED_TO",
        "properties": {
         "label": "BELONGED_TO"
        },
        "start": 1,
        "thickness_factor": 1
       },
       {
        "color": "#4CAF50",
        "directed": true,
        "end": 5,
        "id": 17,
        "label": "PARENT",
        "properties": {
         "label": "PARENT"
        },
        "start": 1,
        "thickness_factor": 1
       },
       {
        "color": "#4CAF50",
        "directed": true,
        "end": 6,
        "id": 18,
        "label": "PARENT",
        "properties": {
         "label": "PARENT"
        },
        "start": 1,
        "thickness_factor": 1
       },
       {
        "color": "#F44336",
        "directed": true,
        "end": 6,
        "id": 19,
        "label": "SPOUSE",
        "properties": {
         "label": "SPOUSE"
        },
        "start": 5,
        "thickness_factor": 1
       },
       {
        "color": "#4CAF50",
        "directed": true,
        "end": 7,
        "id": 20,
        "label": "PARENT",
        "properties": {
         "label": "PARENT"
        },
        "start": 5,
        "thickness_factor": 1
       },
       {
        "color": "#607D8B",
        "directed": true,
        "end": 8,
        "id": 21,
        "label": "BEQUEATHED_CROWN_TO",
        "properties": {
         "label": "BEQUEATHED_CROWN_TO"
        },
        "start": 7,
        "thickness_factor": 1
       },
       {
        "color": "#673AB7",
        "directed": true,
        "end": 9,
        "id": 22,
        "label": "IGNORED_CLAIMS_OF",
        "properties": {
         "label": "IGNORED_CLAIMS_OF"
        },
        "start": 7,
        "thickness_factor": 1
       },
       {
        "color": "#673AB7",
        "directed": true,
        "end": 1,
        "id": 23,
        "label": "IGNORED_CLAIMS_OF",
        "properties": {
         "label": "IGNORED_CLAIMS_OF"
        },
        "start": 7,
        "thickness_factor": 1
       },
       {
        "color": "#CDDC39",
        "directed": true,
        "end": 1,
        "id": 24,
        "label": "IMPRISONED",
        "properties": {
         "label": "IMPRISONED"
        },
        "start": 9,
        "thickness_factor": 1
       },
       {
        "color": "#9E9E9E",
        "directed": true,
        "end": 10,
        "id": 25,
        "label": "DEPENDED_ON",
        "properties": {
         "label": "DEPENDED_ON"
        },
        "start": 1,
        "thickness_factor": 1
       },
       {
        "color": "#9C27B0",
        "directed": true,
        "end": 11,
        "id": 26,
        "label": "CREATED_TITLE",
        "properties": {
         "label": "CREATED_TITLE"
        },
        "start": 1,
        "thickness_factor": 1
       },
       {
        "color": "#2196F3",
        "directed": true,
        "end": 12,
        "id": 27,
        "label": "SUCCEEDED_BY",
        "properties": {
         "label": "SUCCEEDED_BY"
        },
        "start": 1,
        "thickness_factor": 1
       },
       {
        "color": "#4CAF50",
        "directed": true,
        "end": 12,
        "id": 28,
        "label": "PARENT",
        "properties": {
         "label": "PARENT"
        },
        "start": 13,
        "thickness_factor": 1
       },
       {
        "color": "#9E9E9E",
        "directed": true,
        "end": 14,
        "id": 29,
        "label": "DEPENDED_ON",
        "properties": {
         "label": "DEPENDED_ON"
        },
        "start": 1,
        "thickness_factor": 1
       },
       {
        "color": "#4CAF50",
        "directed": true,
        "end": 17,
        "id": 40,
        "label": "WAR",
        "properties": {
         "label": "WAR"
        },
        "start": 16,
        "thickness_factor": 1
       },
       {
        "color": "#4CAF50",
        "directed": true,
        "end": 18,
        "id": 41,
        "label": "WAR",
        "properties": {
         "label": "WAR"
        },
        "start": 16,
        "thickness_factor": 1
       },
       {
        "color": "#4CAF50",
        "directed": true,
        "end": 19,
        "id": 42,
        "label": "WAR",
        "properties": {
         "label": "WAR"
        },
        "start": 16,
        "thickness_factor": 1
       },
       {
        "color": "#4CAF50",
        "directed": true,
        "end": 3,
        "id": 43,
        "label": "WAR",
        "properties": {
         "label": "WAR"
        },
        "start": 16,
        "thickness_factor": 1
       },
       {
        "color": "#F44336",
        "directed": true,
        "end": 20,
        "id": 44,
        "label": "LEAD",
        "properties": {
         "label": "LEAD"
        },
        "start": 16,
        "thickness_factor": 1
       },
       {
        "color": "#F44336",
        "directed": true,
        "end": 21,
        "id": 45,
        "label": "LEAD",
        "properties": {
         "label": "LEAD"
        },
        "start": 16,
        "thickness_factor": 1
       },
       {
        "color": "#F44336",
        "directed": true,
        "end": 22,
        "id": 46,
        "label": "LEAD",
        "properties": {
         "label": "LEAD"
        },
        "start": 16,
        "thickness_factor": 1
       },
       {
        "color": "#F44336",
        "directed": true,
        "end": 23,
        "id": 47,
        "label": "LEAD",
        "properties": {
         "label": "LEAD"
        },
        "start": 16,
        "thickness_factor": 1
       },
       {
        "color": "#607D8B",
        "directed": true,
        "end": 24,
        "id": 48,
        "label": "DEFEAT",
        "properties": {
         "label": "DEFEAT"
        },
        "start": 16,
        "thickness_factor": 1
       },
       {
        "color": "#673AB7",
        "directed": true,
        "end": 12,
        "id": 64,
        "label": "SUCCESSOR",
        "properties": {
         "label": "SUCCESSOR"
        },
        "start": 1,
        "thickness_factor": 1
       },
       {
        "color": "#673AB7",
        "directed": true,
        "end": 7,
        "id": 65,
        "label": "SUCCESSOR",
        "properties": {
         "label": "SUCCESSOR"
        },
        "start": 5,
        "thickness_factor": 1
       },
       {
        "color": "#673AB7",
        "directed": true,
        "end": 29,
        "id": 66,
        "label": "SUCCESSOR",
        "properties": {
         "label": "SUCCESSOR"
        },
        "start": 5,
        "thickness_factor": 1
       },
       {
        "color": "#673AB7",
        "directed": true,
        "end": 1,
        "id": 67,
        "label": "SUCCESSOR",
        "properties": {
         "label": "SUCCESSOR"
        },
        "start": 5,
        "thickness_factor": 1
       },
       {
        "color": "#673AB7",
        "directed": true,
        "end": 30,
        "id": 68,
        "label": "SUCCESSOR",
        "properties": {
         "label": "SUCCESSOR"
        },
        "start": 5,
        "thickness_factor": 1
       },
       {
        "color": "#673AB7",
        "directed": true,
        "end": 31,
        "id": 69,
        "label": "SUCCESSOR",
        "properties": {
         "label": "SUCCESSOR"
        },
        "start": 5,
        "thickness_factor": 1
       },
       {
        "color": "#673AB7",
        "directed": true,
        "end": 32,
        "id": 70,
        "label": "SUCCESSOR",
        "properties": {
         "label": "SUCCESSOR"
        },
        "start": 5,
        "thickness_factor": 1
       },
       {
        "color": "#673AB7",
        "directed": true,
        "end": 33,
        "id": 71,
        "label": "SUCCESSOR",
        "properties": {
         "label": "SUCCESSOR"
        },
        "start": 5,
        "thickness_factor": 1
       },
       {
        "color": "#CDDC39",
        "directed": true,
        "end": 34,
        "id": 72,
        "label": "PREFERRED_SUCCESSOR",
        "properties": {
         "label": "PREFERRED_SUCCESSOR"
        },
        "start": 29,
        "thickness_factor": 1
       },
       {
        "color": "#9E9E9E",
        "directed": true,
        "end": 35,
        "id": 73,
        "label": "FAMILY_RELATION",
        "properties": {
         "label": "FAMILY_RELATION"
        },
        "start": 34,
        "thickness_factor": 1
       },
       {
        "color": "#9C27B0",
        "directed": true,
        "end": 13,
        "id": 74,
        "label": "MARRIAGE",
        "properties": {
         "label": "MARRIAGE"
        },
        "start": 35,
        "thickness_factor": 1
       },
       {
        "color": "#2196F3",
        "directed": true,
        "end": 37,
        "id": 91,
        "label": "GRANDPARENT",
        "properties": {
         "label": "GRANDPARENT"
        },
        "start": 39,
        "thickness_factor": 1
       },
       {
        "color": "#2196F3",
        "directed": true,
        "end": 38,
        "id": 92,
        "label": "GRANDPARENT",
        "properties": {
         "label": "GRANDPARENT"
        },
        "start": 39,
        "thickness_factor": 1
       },
       {
        "color": "#4CAF50",
        "directed": true,
        "end": 40,
        "id": 93,
        "label": "PARENT",
        "properties": {
         "label": "PARENT"
        },
        "start": 34,
        "thickness_factor": 1
       },
       {
        "color": "#4CAF50",
        "directed": true,
        "end": 38,
        "id": 94,
        "label": "PARENT",
        "properties": {
         "label": "PARENT"
        },
        "start": 40,
        "thickness_factor": 1
       },
       {
        "color": "#4CAF50",
        "directed": true,
        "end": 37,
        "id": 95,
        "label": "PARENT",
        "properties": {
         "label": "PARENT"
        },
        "start": 13,
        "thickness_factor": 1
       },
       {
        "color": "#4CAF50",
        "directed": true,
        "end": 16,
        "id": 96,
        "label": "CONTENDER",
        "properties": {
         "label": "CONTENDER"
        },
        "start": 13,
        "thickness_factor": 1
       },
       {
        "color": "#4CAF50",
        "directed": true,
        "end": 8,
        "id": 97,
        "label": "PARENT",
        "properties": {
         "label": "PARENT"
        },
        "start": 41,
        "thickness_factor": 1
       },
       {
        "color": "#4CAF50",
        "directed": true,
        "end": 46,
        "id": 98,
        "label": "PARENT",
        "properties": {
         "label": "PARENT"
        },
        "start": 41,
        "thickness_factor": 1
       },
       {
        "color": "#4CAF50",
        "directed": true,
        "end": 47,
        "id": 99,
        "label": "PARENT",
        "properties": {
         "label": "PARENT"
        },
        "start": 41,
        "thickness_factor": 1
       },
       {
        "color": "#F44336",
        "directed": true,
        "end": 41,
        "id": 100,
        "label": "SPOUSE",
        "properties": {
         "label": "SPOUSE"
        },
        "start": 44,
        "thickness_factor": 1
       },
       {
        "color": "#F44336",
        "directed": true,
        "end": 42,
        "id": 101,
        "label": "SPOUSE",
        "properties": {
         "label": "SPOUSE"
        },
        "start": 44,
        "thickness_factor": 1
       },
       {
        "color": "#F44336",
        "directed": true,
        "end": 41,
        "id": 102,
        "label": "SPOUSE",
        "properties": {
         "label": "SPOUSE"
        },
        "start": 45,
        "thickness_factor": 1
       },
       {
        "color": "#F44336",
        "directed": true,
        "end": 48,
        "id": 103,
        "label": "SPOUSE",
        "properties": {
         "label": "SPOUSE"
        },
        "start": 46,
        "thickness_factor": 1
       },
       {
        "color": "#F44336",
        "directed": true,
        "end": 51,
        "id": 117,
        "label": "HELD_TITLE",
        "properties": {
         "label": "HELD_TITLE"
        },
        "start": 50,
        "thickness_factor": 1
       }
      ],
      "_graph_layout": {},
      "_highlight": [],
      "_license": {},
      "_model_module": "yfiles-jupyter-graphs",
      "_model_module_version": "^1.6.1",
      "_model_name": "GraphModel",
      "_neighborhood": {},
      "_nodes": [
       {
        "color": "#2196F3",
        "id": 1,
        "label": "Elizabeth I",
        "position": [
         0,
         0
        ],
        "properties": {
         "id": "Elizabeth I",
         "label": "Person:__Entity__"
        },
        "scale_factor": 1,
        "size": [
         55,
         55
        ],
        "styles": {},
        "type": "#2196F3"
       },
       {
        "color": "#4CAF50",
        "id": 2,
        "label": "England",
        "position": [
         0,
         0
        ],
        "properties": {
         "id": "England",
         "label": "Country:__Entity__"
        },
        "scale_factor": 1,
        "size": [
         55,
         55
        ],
        "styles": {},
        "type": "#4CAF50"
       },
       {
        "color": "#4CAF50",
        "id": 3,
        "label": "Ireland",
        "position": [
         0,
         0
        ],
        "properties": {
         "id": "Ireland",
         "label": "Country:__Entity__"
        },
        "scale_factor": 1,
        "size": [
         55,
         55
        ],
        "styles": {},
        "type": "#4CAF50"
       },
       {
        "color": "#F44336",
        "id": 4,
        "label": "House Of Tudor",
        "position": [
         0,
         0
        ],
        "properties": {
         "id": "House Of Tudor",
         "label": "__Entity__:Royal family"
        },
        "scale_factor": 1,
        "size": [
         55,
         55
        ],
        "styles": {},
        "type": "#F44336"
       },
       {
        "color": "#2196F3",
        "id": 5,
        "label": "Henry Viii",
        "position": [
         0,
         0
        ],
        "properties": {
         "id": "Henry Viii",
         "label": "Person:__Entity__"
        },
        "scale_factor": 1,
        "size": [
         55,
         55
        ],
        "styles": {},
        "type": "#2196F3"
       },
       {
        "color": "#2196F3",
        "id": 6,
        "label": "Anne Boleyn",
        "position": [
         0,
         0
        ],
        "properties": {
         "id": "Anne Boleyn",
         "label": "Person:__Entity__"
        },
        "scale_factor": 1,
        "size": [
         55,
         55
        ],
        "styles": {},
        "type": "#2196F3"
       },
       {
        "color": "#2196F3",
        "id": 7,
        "label": "Edward Vi",
        "position": [
         0,
         0
        ],
        "properties": {
         "id": "Edward Vi",
         "label": "Person:__Entity__"
        },
        "scale_factor": 1,
        "size": [
         55,
         55
        ],
        "styles": {},
        "type": "#2196F3"
       },
       {
        "color": "#2196F3",
        "id": 8,
        "label": "Lady Jane Grey",
        "position": [
         0,
         0
        ],
        "properties": {
         "id": "Lady Jane Grey",
         "label": "Person:__Entity__"
        },
        "scale_factor": 1,
        "size": [
         55,
         55
        ],
        "styles": {},
        "type": "#2196F3"
       },
       {
        "color": "#2196F3",
        "id": 9,
        "label": "Mary",
        "position": [
         0,
         0
        ],
        "properties": {
         "id": "Mary",
         "label": "Person:__Entity__"
        },
        "scale_factor": 1,
        "size": [
         55,
         55
        ],
        "styles": {},
        "type": "#2196F3"
       },
       {
        "color": "#2196F3",
        "id": 10,
        "label": "William Cecil",
        "position": [
         0,
         0
        ],
        "properties": {
         "id": "William Cecil",
         "label": "Person:__Entity__"
        },
        "scale_factor": 1,
        "size": [
         55,
         55
        ],
        "styles": {},
        "type": "#2196F3"
       },
       {
        "color": "#607D8B",
        "id": 11,
        "label": "Baron Burghley",
        "position": [
         0,
         0
        ],
        "properties": {
         "id": "Baron Burghley",
         "label": "Title:__Entity__"
        },
        "scale_factor": 1,
        "size": [
         55,
         55
        ],
        "styles": {},
        "type": "#607D8B"
       },
       {
        "color": "#2196F3",
        "id": 12,
        "label": "James Vi Of Scotland",
        "position": [
         0,
         0
        ],
        "properties": {
         "id": "James Vi Of Scotland",
         "label": "Person:__Entity__"
        },
        "scale_factor": 1,
        "size": [
         55,
         55
        ],
        "styles": {},
        "type": "#2196F3"
       },
       {
        "color": "#2196F3",
        "id": 13,
        "label": "Mary, Queen Of Scots",
        "position": [
         0,
         0
        ],
        "properties": {
         "id": "Mary, Queen Of Scots",
         "label": "Person:__Entity__"
        },
        "scale_factor": 1,
        "size": [
         55,
         55
        ],
        "styles": {},
        "type": "#2196F3"
       },
       {
        "color": "#2196F3",
        "id": 14,
        "label": "Francis Walsingham",
        "position": [
         0,
         0
        ],
        "properties": {
         "id": "Francis Walsingham",
         "label": "Person:__Entity__"
        },
        "scale_factor": 1,
        "size": [
         55,
         55
        ],
        "styles": {},
        "type": "#2196F3"
       },
       {
        "color": "#2196F3",
        "id": 16,
        "label": "Elizabeth",
        "position": [
         0,
         0
        ],
        "properties": {
         "id": "Elizabeth",
         "label": "Person:__Entity__"
        },
        "scale_factor": 1,
        "size": [
         55,
         55
        ],
        "styles": {},
        "type": "#2196F3"
       },
       {
        "color": "#4CAF50",
        "id": 17,
        "label": "Spain",
        "position": [
         0,
         0
        ],
        "properties": {
         "id": "Spain",
         "label": "Country:__Entity__"
        },
        "scale_factor": 1,
        "size": [
         55,
         55
        ],
        "styles": {},
        "type": "#4CAF50"
       },
       {
        "color": "#4CAF50",
        "id": 18,
        "label": "Netherlands",
        "position": [
         0,
         0
        ],
        "properties": {
         "id": "Netherlands",
         "label": "Country:__Entity__"
        },
        "scale_factor": 1,
        "size": [
         55,
         55
        ],
        "styles": {},
        "type": "#4CAF50"
       },
       {
        "color": "#4CAF50",
        "id": 19,
        "label": "France",
        "position": [
         0,
         0
        ],
        "properties": {
         "id": "France",
         "label": "Country:__Entity__"
        },
        "scale_factor": 1,
        "size": [
         55,
         55
        ],
        "styles": {},
        "type": "#4CAF50"
       },
       {
        "color": "#673AB7",
        "id": 20,
        "label": "William Shakespeare",
        "position": [
         0,
         0
        ],
        "properties": {
         "id": "William Shakespeare",
         "label": "Playwright:__Entity__"
        },
        "scale_factor": 1,
        "size": [
         55,
         55
        ],
        "styles": {},
        "type": "#673AB7"
       },
       {
        "color": "#673AB7",
        "id": 21,
        "label": "Christopher Marlowe",
        "position": [
         0,
         0
        ],
        "properties": {
         "id": "Christopher Marlowe",
         "label": "Playwright:__Entity__"
        },
        "scale_factor": 1,
        "size": [
         55,
         55
        ],
        "styles": {},
        "type": "#673AB7"
       },
       {
        "color": "#CDDC39",
        "id": 22,
        "label": "Francis Drake",
        "position": [
         0,
         0
        ],
        "properties": {
         "id": "Francis Drake",
         "label": "Explorer:__Entity__"
        },
        "scale_factor": 1,
        "size": [
         55,
         55
        ],
        "styles": {},
        "type": "#CDDC39"
       },
       {
        "color": "#CDDC39",
        "id": 23,
        "label": "Walter Raleigh",
        "position": [
         0,
         0
        ],
        "properties": {
         "id": "Walter Raleigh",
         "label": "Explorer:__Entity__"
        },
        "scale_factor": 1,
        "size": [
         55,
         55
        ],
        "styles": {},
        "type": "#CDDC39"
       },
       {
        "color": "#9E9E9E",
        "id": 24,
        "label": "Spanish Armada",
        "position": [
         0,
         0
        ],
        "properties": {
         "id": "Spanish Armada",
         "label": "Event:__Entity__"
        },
        "scale_factor": 1,
        "size": [
         55,
         55
        ],
        "styles": {},
        "type": "#9E9E9E"
       },
       {
        "color": "#2196F3",
        "id": 29,
        "label": "Mary I",
        "position": [
         0,
         0
        ],
        "properties": {
         "id": "Mary I",
         "label": "Person:__Entity__"
        },
        "scale_factor": 1,
        "size": [
         55,
         55
        ],
        "styles": {},
        "type": "#2196F3"
       },
       {
        "color": "#2196F3",
        "id": 30,
        "label": "Jane Grey",
        "position": [
         0,
         0
        ],
        "properties": {
         "id": "Jane Grey",
         "label": "Person:__Entity__"
        },
        "scale_factor": 1,
        "size": [
         55,
         55
        ],
        "styles": {},
        "type": "#2196F3"
       },
       {
        "color": "#2196F3",
        "id": 31,
        "label": "Katherine Grey",
        "position": [
         0,
         0
        ],
        "properties": {
         "id": "Katherine Grey",
         "label": "Person:__Entity__"
        },
        "scale_factor": 1,
        "size": [
         55,
         55
        ],
        "styles": {},
        "type": "#2196F3"
       },
       {
        "color": "#2196F3",
        "id": 32,
        "label": "Mary Grey",
        "position": [
         0,
         0
        ],
        "properties": {
         "id": "Mary Grey",
         "label": "Person:__Entity__"
        },
        "scale_factor": 1,
        "size": [
         55,
         55
        ],
        "styles": {},
        "type": "#2196F3"
       },
       {
        "color": "#2196F3",
        "id": 33,
        "label": "Margaret Clifford",
        "position": [
         0,
         0
        ],
        "properties": {
         "id": "Margaret Clifford",
         "label": "Person:__Entity__"
        },
        "scale_factor": 1,
        "size": [
         55,
         55
        ],
        "styles": {},
        "type": "#2196F3"
       },
       {
        "color": "#2196F3",
        "id": 34,
        "label": "Margaret Douglas",
        "position": [
         0,
         0
        ],
        "properties": {
         "id": "Margaret Douglas",
         "label": "Person:__Entity__"
        },
        "scale_factor": 1,
        "size": [
         55,
         55
        ],
        "styles": {},
        "type": "#2196F3"
       },
       {
        "color": "#2196F3",
        "id": 35,
        "label": "Henry Stuart, Lord Darnley",
        "position": [
         0,
         0
        ],
        "properties": {
         "id": "Henry Stuart, Lord Darnley",
         "label": "Person:__Entity__"
        },
        "scale_factor": 1,
        "size": [
         55,
         55
        ],
        "styles": {},
        "type": "#2196F3"
       },
       {
        "color": "#2196F3",
        "id": 39,
        "label": "Margaret Tudor",
        "position": [
         0,
         0
        ],
        "properties": {
         "id": "Margaret Tudor",
         "label": "Person:__Entity__"
        },
        "scale_factor": 1,
        "size": [
         55,
         55
        ],
        "styles": {},
        "type": "#2196F3"
       },
       {
        "color": "#2196F3",
        "id": 37,
        "label": "James Vi",
        "position": [
         0,
         0
        ],
        "properties": {
         "id": "James Vi",
         "label": "Person:__Entity__"
        },
        "scale_factor": 1,
        "size": [
         55,
         55
        ],
        "styles": {},
        "type": "#2196F3"
       },
       {
        "color": "#2196F3",
        "id": 38,
        "label": "Arbella Stuart",
        "position": [
         0,
         0
        ],
        "properties": {
         "id": "Arbella Stuart",
         "label": "Person:__Entity__"
        },
        "scale_factor": 1,
        "size": [
         55,
         55
        ],
        "styles": {},
        "type": "#2196F3"
       },
       {
        "color": "#2196F3",
        "id": 40,
        "label": "Charles Stuart",
        "position": [
         0,
         0
        ],
        "properties": {
         "id": "Charles Stuart",
         "label": "Person:__Entity__"
        },
        "scale_factor": 1,
        "size": [
         55,
         55
        ],
        "styles": {},
        "type": "#2196F3"
       },
       {
        "color": "#2196F3",
        "id": 41,
        "label": "Frances Grey",
        "position": [
         0,
         0
        ],
        "properties": {
         "id": "Frances Grey",
         "label": "Person:__Entity__"
        },
        "scale_factor": 1,
        "size": [
         55,
         55
        ],
        "styles": {},
        "type": "#2196F3"
       },
       {
        "color": "#2196F3",
        "id": 46,
        "label": "Lady Catherine Grey",
        "position": [
         0,
         0
        ],
        "properties": {
         "id": "Lady Catherine Grey",
         "label": "Person:__Entity__"
        },
        "scale_factor": 1,
        "size": [
         55,
         55
        ],
        "styles": {},
        "type": "#2196F3"
       },
       {
        "color": "#2196F3",
        "id": 47,
        "label": "Lady Mary Grey",
        "position": [
         0,
         0
        ],
        "properties": {
         "id": "Lady Mary Grey",
         "label": "Person:__Entity__"
        },
        "scale_factor": 1,
        "size": [
         55,
         55
        ],
        "styles": {},
        "type": "#2196F3"
       },
       {
        "color": "#2196F3",
        "id": 44,
        "label": "Charles Brandon",
        "position": [
         0,
         0
        ],
        "properties": {
         "id": "Charles Brandon",
         "label": "Person:__Entity__"
        },
        "scale_factor": 1,
        "size": [
         55,
         55
        ],
        "styles": {},
        "type": "#2196F3"
       },
       {
        "color": "#2196F3",
        "id": 42,
        "label": "Eleanor Clifford",
        "position": [
         0,
         0
        ],
        "properties": {
         "id": "Eleanor Clifford",
         "label": "Person:__Entity__"
        },
        "scale_factor": 1,
        "size": [
         55,
         55
        ],
        "styles": {},
        "type": "#2196F3"
       },
       {
        "color": "#2196F3",
        "id": 45,
        "label": "Henry Grey",
        "position": [
         0,
         0
        ],
        "properties": {
         "id": "Henry Grey",
         "label": "Person:__Entity__"
        },
        "scale_factor": 1,
        "size": [
         55,
         55
        ],
        "styles": {},
        "type": "#2196F3"
       },
       {
        "color": "#2196F3",
        "id": 48,
        "label": "Henry Herbert",
        "position": [
         0,
         0
        ],
        "properties": {
         "id": "Henry Herbert",
         "label": "Person:__Entity__"
        },
        "scale_factor": 1,
        "size": [
         55,
         55
        ],
        "styles": {},
        "type": "#2196F3"
       },
       {
        "color": "#2196F3",
        "id": 50,
        "label": "Elizabeth Petrovna",
        "position": [
         0,
         0
        ],
        "properties": {
         "id": "Elizabeth Petrovna",
         "label": "Person:__Entity__"
        },
        "scale_factor": 1,
        "size": [
         55,
         55
        ],
        "styles": {},
        "type": "#2196F3"
       },
       {
        "color": "#607D8B",
        "id": 51,
        "label": "Empress Of Russia",
        "position": [
         0,
         0
        ],
        "properties": {
         "id": "Empress Of Russia",
         "label": "Title:__Entity__"
        },
        "scale_factor": 1,
        "size": [
         55,
         55
        ],
        "styles": {},
        "type": "#607D8B"
       }
      ],
      "_overview": {
       "enabled": null,
       "overview_set": false
      },
      "_selected_graph": [
       [],
       []
      ],
      "_sidebar": {
       "enabled": true,
       "start_with": ""
      },
      "_view_count": null,
      "_view_module": "yfiles-jupyter-graphs",
      "_view_module_version": "^1.6.1",
      "_view_name": "GraphView",
      "layout": "IPY_MODEL_9bac7003afd84cecb4e67a81a396ec8d"
     }
    },
    "9bac7003afd84cecb4e67a81a396ec8d": {
     "model_module": "@jupyter-widgets/base",
     "model_module_version": "1.2.0",
     "model_name": "LayoutModel",
     "state": {
      "_model_module": "@jupyter-widgets/base",
      "_model_module_version": "1.2.0",
      "_model_name": "LayoutModel",
      "_view_count": null,
      "_view_module": "@jupyter-widgets/base",
      "_view_module_version": "1.2.0",
      "_view_name": "LayoutView",
      "align_content": null,
      "align_items": null,
      "align_self": null,
      "border": null,
      "bottom": null,
      "display": null,
      "flex": null,
      "flex_flow": null,
      "grid_area": null,
      "grid_auto_columns": null,
      "grid_auto_flow": null,
      "grid_auto_rows": null,
      "grid_column": null,
      "grid_gap": null,
      "grid_row": null,
      "grid_template_areas": null,
      "grid_template_columns": null,
      "grid_template_rows": null,
      "height": "800px",
      "justify_content": null,
      "justify_items": null,
      "left": null,
      "margin": null,
      "max_height": null,
      "max_width": null,
      "min_height": null,
      "min_width": null,
      "object_fit": null,
      "object_position": null,
      "order": null,
      "overflow": null,
      "overflow_x": null,
      "overflow_y": null,
      "padding": null,
      "right": null,
      "top": null,
      "visibility": null,
      "width": "100%"
     }
    }
   }
  }
 },
 "nbformat": 4,
 "nbformat_minor": 4
}
