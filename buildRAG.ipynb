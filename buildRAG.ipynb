{
 "cells": [
  {
   "cell_type": "code",
   "execution_count": 1,
   "metadata": {
    "id": "jPIRSGz4tHNV"
   },
   "outputs": [
    {
     "data": {
      "text/plain": [
       "True"
      ]
     },
     "execution_count": 1,
     "metadata": {},
     "output_type": "execute_result"
    }
   ],
   "source": [
    "### Neo4j\n",
    "from neo4j import GraphDatabase\n",
    "from neo4j import  Driver\n",
    "### Langchain\n",
    "from langchain_neo4j import Neo4jGraph\n",
    "from langchain_neo4j import Neo4jVector\n",
    "from langchain_core.runnables import  RunnablePassthrough\n",
    "from langchain_core.prompts import ChatPromptTemplate\n",
    "from langchain_core.output_parsers import StrOutputParser\n",
    "from langchain.text_splitter import RecursiveCharacterTextSplitter\n",
    "from langchain_community.document_loaders import TextLoader, CSVLoader\n",
    "from langchain_community.vectorstores.neo4j_vector import remove_lucene_chars\n",
    "### ChatModels (https://python.langchain.com/docs/integrations/chat/)\n",
    "from langchain_ollama import ChatOllama\n",
    "from langchain_openai import ChatOpenAI\n",
    "from langchain_anthropic import ChatAnthropic\n",
    "### Embeddings\n",
    "from langchain_ollama import OllamaEmbeddings\n",
    "from langchain_experimental.llms.ollama_functions import OllamaFunctions\n",
    "from langchain_experimental.graph_transformers import LLMGraphTransformer\n",
    "\n",
    "from yfiles_jupyter_graphs import GraphWidget\n",
    "from pydantic import BaseModel, Field\n",
    "\n",
    "import os\n",
    "from dotenv import load_dotenv\n",
    "\n",
    "load_dotenv()"
   ]
  },
  {
   "cell_type": "code",
   "execution_count": 2,
   "metadata": {},
   "outputs": [
    {
     "data": {
      "text/plain": [
       "'d:\\\\Git-Space\\\\GraphRAG'"
      ]
     },
     "execution_count": 2,
     "metadata": {},
     "output_type": "execute_result"
    }
   ],
   "source": [
    "os.getcwd()"
   ]
  },
  {
   "cell_type": "markdown",
   "metadata": {
    "id": "L0nXP1aYtHNW"
   },
   "source": [
    "## Data Loader"
   ]
  },
  {
   "cell_type": "code",
   "execution_count": null,
   "metadata": {
    "colab": {
     "base_uri": "https://localhost:8080/"
    },
    "id": "sGhtLTAStHNW",
    "outputId": "39f65561-6c6b-4370-a51f-1d8118591158"
   },
   "outputs": [],
   "source": [
    "loader = CSVLoader(file_path=\"data/sample_docs/sample.csv\")\n",
    "docs = loader.load()\n",
    "\n",
    "text_splitter = RecursiveCharacterTextSplitter(chunk_size=500, chunk_overlap=24)\n",
    "documents = text_splitter.split_documents(documents=docs)"
   ]
  },
  {
   "cell_type": "code",
   "execution_count": 5,
   "metadata": {},
   "outputs": [
    {
     "data": {
      "text/plain": [
       "[Document(metadata={'source': 'data/sample_docs/customers-100.csv', 'row': 0}, page_content='Index: 1\\nCustomer Id: DD37Cf93aecA6Dc\\nFirst Name: Sheryl\\nLast Name: Baxter\\nCompany: Rasmussen Group\\nCity: East Leonard\\nCountry: Chile\\nPhone 1: 229.077.5154\\nPhone 2: 397.884.0519x718\\nEmail: zunigavanessa@smith.info\\nSubscription Date: 2020-08-24\\nWebsite: http://www.stephenson.com/'),\n",
       " Document(metadata={'source': 'data/sample_docs/customers-100.csv', 'row': 1}, page_content='Index: 2\\nCustomer Id: 1Ef7b82A4CAAD10\\nFirst Name: Preston\\nLast Name: Lozano\\nCompany: Vega-Gentry\\nCity: East Jimmychester\\nCountry: Djibouti\\nPhone 1: 5153435776\\nPhone 2: 686-620-1820x944\\nEmail: vmata@colon.com\\nSubscription Date: 2021-04-23\\nWebsite: http://www.hobbs.com/'),\n",
       " Document(metadata={'source': 'data/sample_docs/customers-100.csv', 'row': 2}, page_content='Index: 3\\nCustomer Id: 6F94879bDAfE5a6\\nFirst Name: Roy\\nLast Name: Berry\\nCompany: Murillo-Perry\\nCity: Isabelborough\\nCountry: Antigua and Barbuda\\nPhone 1: +1-539-402-0259\\nPhone 2: (496)978-3969x58947\\nEmail: beckycarr@hogan.com\\nSubscription Date: 2020-03-25\\nWebsite: http://www.lawrence.com/'),\n",
       " Document(metadata={'source': 'data/sample_docs/customers-100.csv', 'row': 3}, page_content='Index: 4\\nCustomer Id: 5Cef8BFA16c5e3c\\nFirst Name: Linda\\nLast Name: Olsen\\nCompany: Dominguez, Mcmillan and Donovan\\nCity: Bensonview\\nCountry: Dominican Republic\\nPhone 1: 001-808-617-6467x12895\\nPhone 2: +1-813-324-8756\\nEmail: stanleyblackwell@benson.org\\nSubscription Date: 2020-06-02\\nWebsite: http://www.good-lyons.com/'),\n",
       " Document(metadata={'source': 'data/sample_docs/customers-100.csv', 'row': 4}, page_content='Index: 5\\nCustomer Id: 053d585Ab6b3159\\nFirst Name: Joanna\\nLast Name: Bender\\nCompany: Martin, Lang and Andrade\\nCity: West Priscilla\\nCountry: Slovakia (Slovak Republic)\\nPhone 1: 001-234-203-0635x76146\\nPhone 2: 001-199-446-3860x3486\\nEmail: colinalvarado@miles.net\\nSubscription Date: 2021-04-17\\nWebsite: https://goodwin-ingram.com/'),\n",
       " Document(metadata={'source': 'data/sample_docs/customers-100.csv', 'row': 5}, page_content='Index: 6\\nCustomer Id: 2d08FB17EE273F4\\nFirst Name: Aimee\\nLast Name: Downs\\nCompany: Steele Group\\nCity: Chavezborough\\nCountry: Bosnia and Herzegovina\\nPhone 1: (283)437-3886x88321\\nPhone 2: 999-728-1637\\nEmail: louis27@gilbert.com\\nSubscription Date: 2020-02-25\\nWebsite: http://www.berger.net/'),\n",
       " Document(metadata={'source': 'data/sample_docs/customers-100.csv', 'row': 6}, page_content='Index: 7\\nCustomer Id: EA4d384DfDbBf77\\nFirst Name: Darren\\nLast Name: Peck\\nCompany: Lester, Woodard and Mitchell\\nCity: Lake Ana\\nCountry: Pitcairn Islands\\nPhone 1: (496)452-6181x3291\\nPhone 2: +1-247-266-0963x4995\\nEmail: tgates@cantrell.com\\nSubscription Date: 2021-08-24\\nWebsite: https://www.le.com/'),\n",
       " Document(metadata={'source': 'data/sample_docs/customers-100.csv', 'row': 7}, page_content='Index: 8\\nCustomer Id: 0e04AFde9f225dE\\nFirst Name: Brett\\nLast Name: Mullen\\nCompany: Sanford, Davenport and Giles\\nCity: Kimport\\nCountry: Bulgaria\\nPhone 1: 001-583-352-7197x297\\nPhone 2: 001-333-145-0369\\nEmail: asnow@colon.com\\nSubscription Date: 2021-04-12\\nWebsite: https://hammond-ramsey.com/'),\n",
       " Document(metadata={'source': 'data/sample_docs/customers-100.csv', 'row': 8}, page_content='Index: 9\\nCustomer Id: C2dE4dEEc489ae0\\nFirst Name: Sheryl\\nLast Name: Meyers\\nCompany: Browning-Simon\\nCity: Robersonstad\\nCountry: Cyprus\\nPhone 1: 854-138-4911x5772\\nPhone 2: +1-448-910-2276x729\\nEmail: mariokhan@ryan-pope.org\\nSubscription Date: 2020-01-13\\nWebsite: https://www.bullock.net/'),\n",
       " Document(metadata={'source': 'data/sample_docs/customers-100.csv', 'row': 9}, page_content='Index: 10\\nCustomer Id: 8C2811a503C7c5a\\nFirst Name: Michelle\\nLast Name: Gallagher\\nCompany: Beck-Hendrix\\nCity: Elaineberg\\nCountry: Timor-Leste\\nPhone 1: 739.218.2516x459\\nPhone 2: 001-054-401-0347x617\\nEmail: mdyer@escobar.net\\nSubscription Date: 2021-11-08\\nWebsite: https://arias.com/'),\n",
       " Document(metadata={'source': 'data/sample_docs/customers-100.csv', 'row': 10}, page_content='Index: 11\\nCustomer Id: 216E205d6eBb815\\nFirst Name: Carl\\nLast Name: Schroeder\\nCompany: Oconnell, Meza and Everett\\nCity: Shannonville\\nCountry: Guernsey\\nPhone 1: 637-854-0256x825\\nPhone 2: 114.336.0784x788\\nEmail: kirksalas@webb.com\\nSubscription Date: 2021-10-20\\nWebsite: https://simmons-hurley.com/'),\n",
       " Document(metadata={'source': 'data/sample_docs/customers-100.csv', 'row': 11}, page_content='Index: 12\\nCustomer Id: CEDec94deE6d69B\\nFirst Name: Jenna\\nLast Name: Dodson\\nCompany: Hoffman, Reed and Mcclain\\nCity: East Andrea\\nCountry: Vietnam\\nPhone 1: (041)737-3846\\nPhone 2: +1-556-888-3485x42608\\nEmail: mark42@robbins.com\\nSubscription Date: 2020-11-29\\nWebsite: http://www.douglas.net/'),\n",
       " Document(metadata={'source': 'data/sample_docs/customers-100.csv', 'row': 12}, page_content='Index: 13\\nCustomer Id: e35426EbDEceaFF\\nFirst Name: Tracey\\nLast Name: Mata\\nCompany: Graham-Francis\\nCity: South Joannamouth\\nCountry: Togo\\nPhone 1: 001-949-844-8787\\nPhone 2: (855)713-8773\\nEmail: alex56@walls.org\\nSubscription Date: 2021-12-02\\nWebsite: http://www.beck.com/'),\n",
       " Document(metadata={'source': 'data/sample_docs/customers-100.csv', 'row': 13}, page_content='Index: 14\\nCustomer Id: A08A8aF8BE9FaD4\\nFirst Name: Kristine\\nLast Name: Cox\\nCompany: Carpenter-Cook\\nCity: Jodyberg\\nCountry: Sri Lanka\\nPhone 1: 786-284-3358x62152\\nPhone 2: +1-315-627-1796x8074\\nEmail: holdenmiranda@clarke.com\\nSubscription Date: 2021-02-08\\nWebsite: https://www.brandt.com/'),\n",
       " Document(metadata={'source': 'data/sample_docs/customers-100.csv', 'row': 14}, page_content='Index: 15\\nCustomer Id: 6fEaA1b7cab7B6C\\nFirst Name: Faith\\nLast Name: Lutz\\nCompany: Carter-Hancock\\nCity: Burchbury\\nCountry: Singapore\\nPhone 1: (781)861-7180x8306\\nPhone 2: 207-185-3665\\nEmail: cassieparrish@blevins-chapman.net\\nSubscription Date: 2022-01-26\\nWebsite: http://stevenson.org/'),\n",
       " Document(metadata={'source': 'data/sample_docs/customers-100.csv', 'row': 15}, page_content='Index: 16\\nCustomer Id: 8cad0b4CBceaeec\\nFirst Name: Miranda\\nLast Name: Beasley\\nCompany: Singleton and Sons\\nCity: Desireeshire\\nCountry: Oman\\nPhone 1: 540.085.3135x185\\nPhone 2: +1-600-462-6432x21881\\nEmail: vduncan@parks-hardy.com\\nSubscription Date: 2022-04-12\\nWebsite: http://acosta.org/'),\n",
       " Document(metadata={'source': 'data/sample_docs/customers-100.csv', 'row': 16}, page_content='Index: 17\\nCustomer Id: a5DC21AE3a21eaA\\nFirst Name: Caroline\\nLast Name: Foley\\nCompany: Winters-Mendoza\\nCity: West Adriennestad\\nCountry: Western Sahara\\nPhone 1: 936.222.4746x9924\\nPhone 2: 001-469-948-6341x359\\nEmail: holtgwendolyn@watson-davenport.com\\nSubscription Date: 2021-03-10\\nWebsite: http://www.benson-roth.com/'),\n",
       " Document(metadata={'source': 'data/sample_docs/customers-100.csv', 'row': 17}, page_content='Index: 18\\nCustomer Id: F8Aa9d6DfcBeeF8\\nFirst Name: Greg\\nLast Name: Mata\\nCompany: Valentine LLC\\nCity: Lake Leslie\\nCountry: Mozambique\\nPhone 1: (701)087-2415\\nPhone 2: (195)156-1861x26241\\nEmail: jaredjuarez@carroll.org\\nSubscription Date: 2022-03-26\\nWebsite: http://pitts-cherry.com/'),\n",
       " Document(metadata={'source': 'data/sample_docs/customers-100.csv', 'row': 18}, page_content='Index: 19\\nCustomer Id: F160f5Db3EfE973\\nFirst Name: Clifford\\nLast Name: Jacobson\\nCompany: Simon LLC\\nCity: Harmonview\\nCountry: South Georgia and the South Sandwich Islands\\nPhone 1: 001-151-330-3524x0469\\nPhone 2: (748)477-7174\\nEmail: joseph26@jacobson.com\\nSubscription Date: 2020-09-24\\nWebsite: https://mcconnell.com/'),\n",
       " Document(metadata={'source': 'data/sample_docs/customers-100.csv', 'row': 19}, page_content='Index: 20\\nCustomer Id: 0F60FF3DdCd7aB0\\nFirst Name: Joanna\\nLast Name: Kirk\\nCompany: Mays-Mccormick\\nCity: Jamesshire\\nCountry: French Polynesia\\nPhone 1: (266)131-7001x711\\nPhone 2: (283)312-5579x11543\\nEmail: tuckerangie@salazar.net\\nSubscription Date: 2021-09-24\\nWebsite: https://www.camacho.net/'),\n",
       " Document(metadata={'source': 'data/sample_docs/customers-100.csv', 'row': 20}, page_content='Index: 21\\nCustomer Id: 9F9AdB7B8A6f7F2\\nFirst Name: Maxwell\\nLast Name: Frye\\nCompany: Patterson Inc\\nCity: East Carly\\nCountry: Malta\\nPhone 1: 423.262.3059\\nPhone 2: 202-880-0688x7491\\nEmail: fgibson@drake-webb.com\\nSubscription Date: 2022-01-12\\nWebsite: http://www.roberts.com/'),\n",
       " Document(metadata={'source': 'data/sample_docs/customers-100.csv', 'row': 21}, page_content='Index: 22\\nCustomer Id: FBd0Ded4F02a742\\nFirst Name: Kiara\\nLast Name: Houston\\nCompany: Manning, Hester and Arroyo\\nCity: South Alvin\\nCountry: Netherlands\\nPhone 1: 001-274-040-3582x10611\\nPhone 2: +1-528-175-0973x4684\\nEmail: blanchardbob@wallace-shannon.com\\nSubscription Date: 2020-09-15\\nWebsite: https://www.reid-potts.com/'),\n",
       " Document(metadata={'source': 'data/sample_docs/customers-100.csv', 'row': 22}, page_content='Index: 23\\nCustomer Id: 2FB0FAA1d429421\\nFirst Name: Colleen\\nLast Name: Howard\\nCompany: Greer and Sons\\nCity: Brittanyview\\nCountry: Paraguay\\nPhone 1: 1935085151\\nPhone 2: (947)115-7711x5488\\nEmail: rsingleton@ryan-cherry.com\\nSubscription Date: 2020-08-19\\nWebsite: http://paul.biz/'),\n",
       " Document(metadata={'source': 'data/sample_docs/customers-100.csv', 'row': 23}, page_content=\"Index: 24\\nCustomer Id: 010468dAA11382c\\nFirst Name: Janet\\nLast Name: Valenzuela\\nCompany: Watts-Donaldson\\nCity: Veronicamouth\\nCountry: Lao People's Democratic Republic\\nPhone 1: 354.259.5062x7538\\nPhone 2: 500.433.2022\\nEmail: stefanie71@spence.com\\nSubscription Date: 2020-09-08\\nWebsite: https://moreno.biz/\"),\n",
       " Document(metadata={'source': 'data/sample_docs/customers-100.csv', 'row': 24}, page_content='Index: 25\\nCustomer Id: eC1927Ca84E033e\\nFirst Name: Shane\\nLast Name: Wilcox\\nCompany: Tucker LLC\\nCity: Bryanville\\nCountry: Albania\\nPhone 1: (429)005-9030x11004\\nPhone 2: 541-116-4501\\nEmail: mariah88@santos.com\\nSubscription Date: 2021-04-06\\nWebsite: https://www.ramos.com/'),\n",
       " Document(metadata={'source': 'data/sample_docs/customers-100.csv', 'row': 25}, page_content='Index: 26\\nCustomer Id: 09D7D7C8Fe09aea\\nFirst Name: Marcus\\nLast Name: Moody\\nCompany: Giles Ltd\\nCity: Kaitlyntown\\nCountry: Panama\\nPhone 1: 674-677-8623\\nPhone 2: 909-277-5485x566\\nEmail: donnamullins@norris-barrett.org\\nSubscription Date: 2022-05-24\\nWebsite: https://www.curry.com/'),\n",
       " Document(metadata={'source': 'data/sample_docs/customers-100.csv', 'row': 26}, page_content='Index: 27\\nCustomer Id: aBdfcF2c50b0bfD\\nFirst Name: Dakota\\nLast Name: Poole\\nCompany: Simmons Group\\nCity: Michealshire\\nCountry: Belarus\\nPhone 1: (371)987-8576x4720\\nPhone 2: 071-152-1376\\nEmail: stacey67@fields.org\\nSubscription Date: 2022-02-20\\nWebsite: https://sanford-wilcox.biz/'),\n",
       " Document(metadata={'source': 'data/sample_docs/customers-100.csv', 'row': 27}, page_content='Index: 28\\nCustomer Id: b92EBfdF8a3f0E6\\nFirst Name: Frederick\\nLast Name: Harper\\nCompany: Hinton, Chaney and Stokes\\nCity: South Marissatown\\nCountry: Switzerland\\nPhone 1: +1-077-121-1558x0687\\nPhone 2: 264.742.7149\\nEmail: jacobkhan@bright.biz\\nSubscription Date: 2022-05-26\\nWebsite: https://callahan.org/'),\n",
       " Document(metadata={'source': 'data/sample_docs/customers-100.csv', 'row': 28}, page_content='Index: 29\\nCustomer Id: 3B5dAAFA41AFa22\\nFirst Name: Stefanie\\nLast Name: Fitzpatrick\\nCompany: Santana-Duran\\nCity: Acevedoville\\nCountry: Saint Vincent and the Grenadines\\nPhone 1: (752)776-3286\\nPhone 2: +1-472-021-4814x85074\\nEmail: wterrell@clark.com\\nSubscription Date: 2020-07-30\\nWebsite: https://meyers.com/'),\n",
       " Document(metadata={'source': 'data/sample_docs/customers-100.csv', 'row': 29}, page_content='Index: 30\\nCustomer Id: EDA69ca7a6e96a2\\nFirst Name: Kent\\nLast Name: Bradshaw\\nCompany: Sawyer PLC\\nCity: North Harold\\nCountry: Tanzania\\nPhone 1: +1-472-143-5037x884\\nPhone 2: 126.922.6153\\nEmail: qjimenez@boyd.com\\nSubscription Date: 2020-04-26\\nWebsite: http://maynard-ho.com/'),\n",
       " Document(metadata={'source': 'data/sample_docs/customers-100.csv', 'row': 30}, page_content='Index: 31\\nCustomer Id: 64DCcDFaB9DFd4e\\nFirst Name: Jack\\nLast Name: Tate\\nCompany: Acosta, Petersen and Morrow\\nCity: West Samuel\\nCountry: Zimbabwe\\nPhone 1: 965-108-4406x20714\\nPhone 2: 046.906.1442x6784\\nEmail: gfigueroa@boone-zavala.com\\nSubscription Date: 2021-09-15\\nWebsite: http://www.hawkins-ramsey.com/'),\n",
       " Document(metadata={'source': 'data/sample_docs/customers-100.csv', 'row': 31}, page_content='Index: 32\\nCustomer Id: 679c6c83DD872d6\\nFirst Name: Tom\\nLast Name: Trujillo\\nCompany: Mcgee Group\\nCity: Cunninghamborough\\nCountry: Denmark\\nPhone 1: 416-338-3758\\nPhone 2: (775)890-7209\\nEmail: tapiagreg@beard.info\\nSubscription Date: 2022-01-13\\nWebsite: http://www.daniels-klein.com/'),\n",
       " Document(metadata={'source': 'data/sample_docs/customers-100.csv', 'row': 32}, page_content='Index: 33\\nCustomer Id: 7Ce381e4Afa4ba9\\nFirst Name: Gabriel\\nLast Name: Mejia\\nCompany: Adkins-Salinas\\nCity: Port Annatown\\nCountry: Liechtenstein\\nPhone 1: 4077245425\\nPhone 2: 646.044.0696x66800\\nEmail: coleolson@jennings.net\\nSubscription Date: 2021-04-24\\nWebsite: https://patel-hanson.info/'),\n",
       " Document(metadata={'source': 'data/sample_docs/customers-100.csv', 'row': 33}, page_content='Index: 34\\nCustomer Id: A09AEc6E3bF70eE\\nFirst Name: Kaitlyn\\nLast Name: Santana\\nCompany: Herrera Group\\nCity: New Kaitlyn\\nCountry: United States of America\\nPhone 1: 6303643286\\nPhone 2: 447-710-6202x07313\\nEmail: georgeross@miles.org\\nSubscription Date: 2021-09-21\\nWebsite: http://pham.com/'),\n",
       " Document(metadata={'source': 'data/sample_docs/customers-100.csv', 'row': 34}, page_content='Index: 35\\nCustomer Id: aA9BAFfBc3710fe\\nFirst Name: Faith\\nLast Name: Moon\\nCompany: Waters, Chase and Aguilar\\nCity: West Marthaburgh\\nCountry: Bahamas\\nPhone 1: +1-586-217-0359x6317\\nPhone 2: +1-818-199-1403\\nEmail: willistonya@randolph-baker.com\\nSubscription Date: 2021-11-03\\nWebsite: https://spencer-charles.info/'),\n",
       " Document(metadata={'source': 'data/sample_docs/customers-100.csv', 'row': 35}, page_content='Index: 36\\nCustomer Id: E11dfb2DB8C9f72\\nFirst Name: Tammie\\nLast Name: Haley\\nCompany: Palmer, Barnes and Houston\\nCity: East Teresa\\nCountry: Belize\\nPhone 1: 001-276-734-4113x6087\\nPhone 2: (430)300-8770\\nEmail: harrisisaiah@jenkins.com\\nSubscription Date: 2022-01-04\\nWebsite: http://evans-simon.com/'),\n",
       " Document(metadata={'source': 'data/sample_docs/customers-100.csv', 'row': 36}, page_content='Index: 37\\nCustomer Id: 889eCf90f68c5Da\\nFirst Name: Nicholas\\nLast Name: Sosa\\nCompany: Jordan Ltd\\nCity: South Hunter\\nCountry: Uruguay\\nPhone 1: (661)425-6042\\nPhone 2: 975-998-1519\\nEmail: fwolfe@dorsey.com\\nSubscription Date: 2021-08-10\\nWebsite: https://www.fleming-richards.com/'),\n",
       " Document(metadata={'source': 'data/sample_docs/customers-100.csv', 'row': 37}, page_content='Index: 38\\nCustomer Id: 7a1Ee69F4fF4B4D\\nFirst Name: Jordan\\nLast Name: Gay\\nCompany: Glover and Sons\\nCity: South Walter\\nCountry: Solomon Islands\\nPhone 1: 7208417020\\nPhone 2: 8035336772\\nEmail: tiffanydavies@harris-mcfarland.org\\nSubscription Date: 2021-02-24\\nWebsite: http://www.lee.org/'),\n",
       " Document(metadata={'source': 'data/sample_docs/customers-100.csv', 'row': 38}, page_content='Index: 39\\nCustomer Id: dca4f1D0A0fc5c9\\nFirst Name: Bruce\\nLast Name: Esparza\\nCompany: Huerta-Mclean\\nCity: Poolefurt\\nCountry: Montenegro\\nPhone 1: 559-529-4424\\nPhone 2: 001-625-000-7132x0367\\nEmail: preese@frye-vega.com\\nSubscription Date: 2021-10-22\\nWebsite: http://www.farley.org/'),\n",
       " Document(metadata={'source': 'data/sample_docs/customers-100.csv', 'row': 39}, page_content='Index: 40\\nCustomer Id: 17aD8e2dB3df03D\\nFirst Name: Sherry\\nLast Name: Garza\\nCompany: Anderson Ltd\\nCity: West John\\nCountry: Poland\\nPhone 1: 001-067-713-6440x158\\nPhone 2: (978)289-8785x5766\\nEmail: ann48@miller.com\\nSubscription Date: 2021-11-01\\nWebsite: http://spence.com/'),\n",
       " Document(metadata={'source': 'data/sample_docs/customers-100.csv', 'row': 40}, page_content='Index: 41\\nCustomer Id: 2f79Cd309624Abb\\nFirst Name: Natalie\\nLast Name: Gentry\\nCompany: Monroe PLC\\nCity: West Darius\\nCountry: Dominican Republic\\nPhone 1: 830.996.8238\\nPhone 2: 499.122.5415\\nEmail: tcummings@fitzpatrick-ashley.com\\nSubscription Date: 2020-10-10\\nWebsite: http://www.dorsey.biz/'),\n",
       " Document(metadata={'source': 'data/sample_docs/customers-100.csv', 'row': 41}, page_content='Index: 42\\nCustomer Id: 6e5ad5a5e2bB5Ca\\nFirst Name: Bryan\\nLast Name: Dunn\\nCompany: Kaufman and Sons\\nCity: North Jimstad\\nCountry: Burkina Faso\\nPhone 1: 001-710-802-5565\\nPhone 2: 078.699.8982x13881\\nEmail: woodwardandres@phelps.com\\nSubscription Date: 2021-09-08\\nWebsite: http://www.butler.com/'),\n",
       " Document(metadata={'source': 'data/sample_docs/customers-100.csv', 'row': 42}, page_content='Index: 43\\nCustomer Id: 7E441b6B228DBcA\\nFirst Name: Wayne\\nLast Name: Simpson\\nCompany: Perkins-Trevino\\nCity: East Rebekahborough\\nCountry: Bolivia\\nPhone 1: (344)156-8632x1869\\nPhone 2: 463-445-3702x38463\\nEmail: barbarapittman@holder.com\\nSubscription Date: 2020-12-13\\nWebsite: https://gillespie-holder.com/'),\n",
       " Document(metadata={'source': 'data/sample_docs/customers-100.csv', 'row': 43}, page_content='Index: 44\\nCustomer Id: D3fC11A9C235Dc6\\nFirst Name: Luis\\nLast Name: Greer\\nCompany: Cross PLC\\nCity: North Drew\\nCountry: Bulgaria\\nPhone 1: 001-336-025-6849x701\\nPhone 2: 684.698.2911x6092\\nEmail: bstuart@williamson-mcclure.com\\nSubscription Date: 2022-05-15\\nWebsite: https://fletcher-nielsen.com/'),\n",
       " Document(metadata={'source': 'data/sample_docs/customers-100.csv', 'row': 44}, page_content='Index: 45\\nCustomer Id: 30Dfa48fe5Ede78\\nFirst Name: Rhonda\\nLast Name: Frost\\nCompany: Herrera, Shepherd and Underwood\\nCity: Lake Lindaburgh\\nCountry: Monaco\\nPhone 1: (127)081-9339\\nPhone 2: +1-431-028-3337x3492\\nEmail: zkrueger@wolf-chavez.net\\nSubscription Date: 2021-12-06\\nWebsite: http://www.khan.com/'),\n",
       " Document(metadata={'source': 'data/sample_docs/customers-100.csv', 'row': 45}, page_content='Index: 46\\nCustomer Id: fD780ED8dbEae7B\\nFirst Name: Joanne\\nLast Name: Montes\\nCompany: Price, Sexton and Mcdaniel\\nCity: Gwendolynview\\nCountry: Palau\\nPhone 1: (897)726-7952\\nPhone 2: (467)886-9467x5721\\nEmail: juan80@henson.net\\nSubscription Date: 2020-07-01\\nWebsite: http://ochoa.com/'),\n",
       " Document(metadata={'source': 'data/sample_docs/customers-100.csv', 'row': 46}, page_content='Index: 47\\nCustomer Id: 300A40d3ce24bBA\\nFirst Name: Geoffrey\\nLast Name: Guzman\\nCompany: Short-Wiggins\\nCity: Zimmermanland\\nCountry: Uzbekistan\\nPhone 1: 975.235.8921x269\\nPhone 2: (983)188-6873\\nEmail: bauercrystal@gay.com\\nSubscription Date: 2020-04-23\\nWebsite: https://decker-kline.com/'),\n",
       " Document(metadata={'source': 'data/sample_docs/customers-100.csv', 'row': 47}, page_content='Index: 48\\nCustomer Id: 283DFCD0Dba40aF\\nFirst Name: Gloria\\nLast Name: Mccall\\nCompany: Brennan, Acosta and Ramos\\nCity: North Kerriton\\nCountry: Ghana\\nPhone 1: 445-603-6729\\nPhone 2: 001-395-959-4736x4524\\nEmail: bartlettjenna@zuniga-moss.biz\\nSubscription Date: 2022-03-11\\nWebsite: http://burgess-frank.com/'),\n",
       " Document(metadata={'source': 'data/sample_docs/customers-100.csv', 'row': 48}, page_content='Index: 49\\nCustomer Id: F4Fc91fEAEad286\\nFirst Name: Brady\\nLast Name: Cohen\\nCompany: Osborne-Erickson\\nCity: North Eileenville\\nCountry: United Arab Emirates\\nPhone 1: 741.849.0139x524\\nPhone 2: +1-028-691-7497x0894\\nEmail: mccalltyrone@durham-rose.biz\\nSubscription Date: 2022-03-10\\nWebsite: http://hammond-barron.com/'),\n",
       " Document(metadata={'source': 'data/sample_docs/customers-100.csv', 'row': 49}, page_content='Index: 50\\nCustomer Id: 80F33Fd2AcebF05\\nFirst Name: Latoya\\nLast Name: Mccann\\nCompany: Hobbs, Garrett and Sanford\\nCity: Port Sergiofort\\nCountry: Belarus\\nPhone 1: (530)287-4548x29481\\nPhone 2: 162-234-0249x32790\\nEmail: bobhammond@barry.biz\\nSubscription Date: 2021-12-02\\nWebsite: https://www.burton.com/'),\n",
       " Document(metadata={'source': 'data/sample_docs/customers-100.csv', 'row': 50}, page_content='Index: 51\\nCustomer Id: Aa20BDe68eAb0e9\\nFirst Name: Gerald\\nLast Name: Hawkins\\nCompany: Phelps, Forbes and Koch\\nCity: New Alberttown\\nCountry: Canada\\nPhone 1: +1-323-239-1456x96168\\nPhone 2: (092)508-0269\\nEmail: uwarner@steele-arias.com\\nSubscription Date: 2021-03-19\\nWebsite: https://valenzuela.com/'),\n",
       " Document(metadata={'source': 'data/sample_docs/customers-100.csv', 'row': 51}, page_content='Index: 52\\nCustomer Id: e898eEB1B9FE22b\\nFirst Name: Samuel\\nLast Name: Crawford\\nCompany: May, Goodwin and Martin\\nCity: South Jasmine\\nCountry: Algeria\\nPhone 1: 802-242-7457\\nPhone 2: 626.116.9535x8578\\nEmail: xpittman@ritter-carney.net\\nSubscription Date: 2021-03-27\\nWebsite: https://guerrero.org/'),\n",
       " Document(metadata={'source': 'data/sample_docs/customers-100.csv', 'row': 52}, page_content='Index: 53\\nCustomer Id: faCEF517ae7D8eB\\nFirst Name: Patricia\\nLast Name: Goodwin\\nCompany: Christian, Winters and Ellis\\nCity: Cowanfort\\nCountry: Swaziland\\nPhone 1: 322.549.7139x70040\\nPhone 2: (111)741-4173\\nEmail: vaughanchristy@lara.biz\\nSubscription Date: 2021-03-08\\nWebsite: http://clark.info/'),\n",
       " Document(metadata={'source': 'data/sample_docs/customers-100.csv', 'row': 53}, page_content='Index: 54\\nCustomer Id: c09952De6Cda8aA\\nFirst Name: Stacie\\nLast Name: Richard\\nCompany: Byrd Inc\\nCity: New Deborah\\nCountry: Madagascar\\nPhone 1: 001-622-948-3641x24810\\nPhone 2: 001-731-168-2893x8891\\nEmail: clinton85@colon-arias.org\\nSubscription Date: 2020-10-15\\nWebsite: https://kim.com/'),\n",
       " Document(metadata={'source': 'data/sample_docs/customers-100.csv', 'row': 54}, page_content='Index: 55\\nCustomer Id: f3BEf3Be028166f\\nFirst Name: Robin\\nLast Name: West\\nCompany: Nixon, Blackwell and Sosa\\nCity: Wallstown\\nCountry: Ecuador\\nPhone 1: 698.303.4267\\nPhone 2: 001-683-837-7651x525\\nEmail: greenemiranda@zimmerman.com\\nSubscription Date: 2022-01-13\\nWebsite: https://www.mora.com/'),\n",
       " Document(metadata={'source': 'data/sample_docs/customers-100.csv', 'row': 55}, page_content='Index: 56\\nCustomer Id: C6F2Fc6a7948a4e\\nFirst Name: Ralph\\nLast Name: Haas\\nCompany: Montes PLC\\nCity: Lake Ellenchester\\nCountry: Palestinian Territory\\nPhone 1: 2239271999\\nPhone 2: 001-962-434-0867x649\\nEmail: goodmancesar@figueroa.biz\\nSubscription Date: 2020-05-25\\nWebsite: http://may.com/'),\n",
       " Document(metadata={'source': 'data/sample_docs/customers-100.csv', 'row': 56}, page_content='Index: 57\\nCustomer Id: c8FE57cBBdCDcb2\\nFirst Name: Phyllis\\nLast Name: Maldonado\\nCompany: Costa PLC\\nCity: Lake Whitney\\nCountry: Saint Barthelemy\\nPhone 1: 4500370767\\nPhone 2: 001-508-064-6725x017\\nEmail: yhanson@warner-diaz.org\\nSubscription Date: 2021-01-25\\nWebsite: http://www.bernard.com/'),\n",
       " Document(metadata={'source': 'data/sample_docs/customers-100.csv', 'row': 57}, page_content='Index: 58\\nCustomer Id: B5acdFC982124F2\\nFirst Name: Danny\\nLast Name: Parrish\\nCompany: Novak LLC\\nCity: East Jaredbury\\nCountry: United Arab Emirates\\nPhone 1: (669)384-8597x8794\\nPhone 2: 506.731.5952x571\\nEmail: howelldarren@house-cohen.com\\nSubscription Date: 2021-03-17\\nWebsite: http://www.parsons-hudson.com/'),\n",
       " Document(metadata={'source': 'data/sample_docs/customers-100.csv', 'row': 58}, page_content='Index: 59\\nCustomer Id: 8c7DdF10798bCC3\\nFirst Name: Kathy\\nLast Name: Hill\\nCompany: Moore, Mccoy and Glass\\nCity: Selenabury\\nCountry: South Georgia and the South Sandwich Islands\\nPhone 1: 001-171-716-2175x310\\nPhone 2: 888.625.0654\\nEmail: ncamacho@boone-simmons.org\\nSubscription Date: 2020-11-15\\nWebsite: http://hayden.com/'),\n",
       " Document(metadata={'source': 'data/sample_docs/customers-100.csv', 'row': 59}, page_content='Index: 60\\nCustomer Id: C681dDd0cc422f7\\nFirst Name: Kelli\\nLast Name: Hardy\\nCompany: Petty Ltd\\nCity: Huangfort\\nCountry: Sao Tome and Principe\\nPhone 1: 020.324.2191x2022\\nPhone 2: 424-157-8216\\nEmail: kristopher62@oliver.com\\nSubscription Date: 2020-12-20\\nWebsite: http://www.kidd.com/'),\n",
       " Document(metadata={'source': 'data/sample_docs/customers-100.csv', 'row': 60}, page_content='Index: 61\\nCustomer Id: a940cE42e035F28\\nFirst Name: Lynn\\nLast Name: Pham\\nCompany: Brennan, Camacho and Tapia\\nCity: East Pennyshire\\nCountry: Portugal\\nPhone 1: 846.468.6834x611\\nPhone 2: 001-248-691-0006\\nEmail: mpham@rios-guzman.com\\nSubscription Date: 2020-08-21\\nWebsite: https://www.murphy.com/'),\n",
       " Document(metadata={'source': 'data/sample_docs/customers-100.csv', 'row': 61}, page_content='Index: 62\\nCustomer Id: 9Cf5E6AFE0aeBfd\\nFirst Name: Shelley\\nLast Name: Harris\\nCompany: Prince, Malone and Pugh\\nCity: Port Jasminborough\\nCountry: Togo\\nPhone 1: 423.098.0315x8373\\nPhone 2: +1-386-458-8944x15194\\nEmail: zachary96@mitchell-bryant.org\\nSubscription Date: 2020-12-10\\nWebsite: https://www.ryan.com/'),\n",
       " Document(metadata={'source': 'data/sample_docs/customers-100.csv', 'row': 62}, page_content='Index: 63\\nCustomer Id: aEcbe5365BbC67D\\nFirst Name: Eddie\\nLast Name: Jimenez\\nCompany: Caldwell Group\\nCity: West Kristine\\nCountry: Ethiopia\\nPhone 1: +1-235-657-1073x6306\\nPhone 2: (026)401-7353x2417\\nEmail: kristiwhitney@bernard.com\\nSubscription Date: 2022-03-24\\nWebsite: http://cherry.com/'),\n",
       " Document(metadata={'source': 'data/sample_docs/customers-100.csv', 'row': 63}, page_content='Index: 64\\nCustomer Id: FCBdfCEAe20A8Dc\\nFirst Name: Chloe\\nLast Name: Hutchinson\\nCompany: Simon LLC\\nCity: South Julia\\nCountry: Netherlands\\nPhone 1: 981-544-9452\\nPhone 2: +1-288-552-4666x060\\nEmail: leah85@sutton-terrell.com\\nSubscription Date: 2022-05-15\\nWebsite: https://mitchell.info/'),\n",
       " Document(metadata={'source': 'data/sample_docs/customers-100.csv', 'row': 64}, page_content='Index: 65\\nCustomer Id: 636cBF0835E10ff\\nFirst Name: Eileen\\nLast Name: Lynch\\nCompany: Knight, Abbott and Hubbard\\nCity: Helenborough\\nCountry: Liberia\\nPhone 1: +1-158-951-4131x53578\\nPhone 2: 001-673-779-6713x680\\nEmail: levigiles@vincent.com\\nSubscription Date: 2021-01-02\\nWebsite: http://mckay.com/'),\n",
       " Document(metadata={'source': 'data/sample_docs/customers-100.csv', 'row': 65}, page_content='Index: 66\\nCustomer Id: fF1b6c9E8Fbf1ff\\nFirst Name: Fernando\\nLast Name: Lambert\\nCompany: Church-Banks\\nCity: Lake Nancy\\nCountry: Lithuania\\nPhone 1: 497.829.9038\\nPhone 2: 3863743398\\nEmail: fisherlinda@schaefer.net\\nSubscription Date: 2021-04-23\\nWebsite: https://www.vang.com/'),\n",
       " Document(metadata={'source': 'data/sample_docs/customers-100.csv', 'row': 66}, page_content='Index: 67\\nCustomer Id: 2A13F74EAa7DA6c\\nFirst Name: Makayla\\nLast Name: Cannon\\nCompany: Henderson Inc\\nCity: Georgeport\\nCountry: New Caledonia\\nPhone 1: 001-215-801-6392x46009\\nPhone 2: 027-609-6460\\nEmail: scottcurtis@hurley.biz\\nSubscription Date: 2020-01-20\\nWebsite: http://www.velazquez.net/'),\n",
       " Document(metadata={'source': 'data/sample_docs/customers-100.csv', 'row': 67}, page_content='Index: 68\\nCustomer Id: a014Ec1b9FccC1E\\nFirst Name: Tom\\nLast Name: Alvarado\\nCompany: Donaldson-Dougherty\\nCity: South Sophiaberg\\nCountry: Kiribati\\nPhone 1: (585)606-2980x2258\\nPhone 2: 730-797-3594x5614\\nEmail: nicholsonnina@montgomery.info\\nSubscription Date: 2020-08-18\\nWebsite: http://odom-massey.com/'),\n",
       " Document(metadata={'source': 'data/sample_docs/customers-100.csv', 'row': 68}, page_content='Index: 69\\nCustomer Id: 421a109cABDf5fa\\nFirst Name: Virginia\\nLast Name: Dudley\\nCompany: Warren Ltd\\nCity: Hartbury\\nCountry: French Southern Territories\\nPhone 1: 027.846.3705x14184\\nPhone 2: +1-439-171-1846x4636\\nEmail: zvalencia@phelps.com\\nSubscription Date: 2021-01-31\\nWebsite: http://hunter-esparza.com/'),\n",
       " Document(metadata={'source': 'data/sample_docs/customers-100.csv', 'row': 69}, page_content='Index: 70\\nCustomer Id: CC68FD1D3Bbbf22\\nFirst Name: Riley\\nLast Name: Good\\nCompany: Wade PLC\\nCity: Erikaville\\nCountry: Canada\\nPhone 1: 6977745822\\nPhone 2: 855-436-7641\\nEmail: alex06@galloway.com\\nSubscription Date: 2020-02-03\\nWebsite: http://conway.org/'),\n",
       " Document(metadata={'source': 'data/sample_docs/customers-100.csv', 'row': 70}, page_content='Index: 71\\nCustomer Id: CBCd2Ac8E3eBDF9\\nFirst Name: Alexandria\\nLast Name: Buck\\nCompany: Keller-Coffey\\nCity: Nicolasfort\\nCountry: Iran\\nPhone 1: 078-900-4760x76668\\nPhone 2: 414-112-8700x68751\\nEmail: lee48@manning.com\\nSubscription Date: 2021-02-20\\nWebsite: https://ramsey.org/'),\n",
       " Document(metadata={'source': 'data/sample_docs/customers-100.csv', 'row': 71}, page_content='Index: 72\\nCustomer Id: Ef859092FbEcC07\\nFirst Name: Richard\\nLast Name: Roth\\nCompany: Conway-Mcbride\\nCity: New Jasmineshire\\nCountry: Morocco\\nPhone 1: 581-440-6539\\nPhone 2: 9857827463\\nEmail: aharper@maddox-townsend.org\\nSubscription Date: 2020-02-23\\nWebsite: https://www.brooks.com/'),\n",
       " Document(metadata={'source': 'data/sample_docs/customers-100.csv', 'row': 72}, page_content='Index: 73\\nCustomer Id: F560f2d3cDFb618\\nFirst Name: Candice\\nLast Name: Keller\\nCompany: Huynh and Sons\\nCity: East Summerstad\\nCountry: Zimbabwe\\nPhone 1: 001-927-965-8550x92406\\nPhone 2: 001-243-038-4271x53076\\nEmail: buckleycory@odonnell.net\\nSubscription Date: 2020-08-22\\nWebsite: https://www.lucero.com/'),\n",
       " Document(metadata={'source': 'data/sample_docs/customers-100.csv', 'row': 73}, page_content='Index: 74\\nCustomer Id: A3F76Be153Df4a3\\nFirst Name: Anita\\nLast Name: Benson\\nCompany: Parrish Ltd\\nCity: Skinnerport\\nCountry: Russian Federation\\nPhone 1: 874.617.5668x69878\\nPhone 2: (399)820-6418x0071\\nEmail: angie04@oconnell.com\\nSubscription Date: 2020-02-09\\nWebsite: http://oconnor.com/'),\n",
       " Document(metadata={'source': 'data/sample_docs/customers-100.csv', 'row': 74}, page_content='Index: 75\\nCustomer Id: D01Af0AF7cBbFeA\\nFirst Name: Regina\\nLast Name: Stein\\nCompany: Guzman-Brown\\nCity: Raystad\\nCountry: Solomon Islands\\nPhone 1: 001-469-848-0724x4407\\nPhone 2: 001-085-360-4426x00357\\nEmail: zrosario@rojas-hardin.net\\nSubscription Date: 2022-01-15\\nWebsite: http://www.johnston.info/'),\n",
       " Document(metadata={'source': 'data/sample_docs/customers-100.csv', 'row': 75}, page_content='Index: 76\\nCustomer Id: d40e89dCade7b2F\\nFirst Name: Debra\\nLast Name: Riddle\\nCompany: Chang, Aguirre and Leblanc\\nCity: Colinhaven\\nCountry: United States Virgin Islands\\nPhone 1: +1-768-182-6014x14336\\nPhone 2: (303)961-4491\\nEmail: shieldskerry@robles.com\\nSubscription Date: 2020-07-11\\nWebsite: http://kaiser.info/'),\n",
       " Document(metadata={'source': 'data/sample_docs/customers-100.csv', 'row': 76}, page_content='Index: 77\\nCustomer Id: BF6a1f9bd1bf8DE\\nFirst Name: Brittany\\nLast Name: Zuniga\\nCompany: Mason-Hester\\nCity: West Reginald\\nCountry: Kyrgyz Republic\\nPhone 1: (050)136-9025\\nPhone 2: 001-480-851-2496x0157\\nEmail: mchandler@cochran-huerta.org\\nSubscription Date: 2021-07-24\\nWebsite: http://www.boyle.com/'),\n",
       " Document(metadata={'source': 'data/sample_docs/customers-100.csv', 'row': 77}, page_content='Index: 78\\nCustomer Id: FfaeFFbbbf280db\\nFirst Name: Cassidy\\nLast Name: Mcmahon\\nCompany: Mcguire, Huynh and Hopkins\\nCity: Lake Sherryborough\\nCountry: Myanmar\\nPhone 1: 5040771311\\nPhone 2: 684-682-0021x1326\\nEmail: katrinalane@fitzgerald.com\\nSubscription Date: 2020-10-21\\nWebsite: https://hurst.com/'),\n",
       " Document(metadata={'source': 'data/sample_docs/customers-100.csv', 'row': 78}, page_content='Index: 79\\nCustomer Id: CbAE1d1e9a8dCb1\\nFirst Name: Laurie\\nLast Name: Pennington\\nCompany: Sanchez, Marsh and Hale\\nCity: Port Katherineville\\nCountry: Dominica\\nPhone 1: 007.155.3406x553\\nPhone 2: +1-809-862-5566x277\\nEmail: cookejill@powell.com\\nSubscription Date: 2020-06-08\\nWebsite: http://www.hebert.com/'),\n",
       " Document(metadata={'source': 'data/sample_docs/customers-100.csv', 'row': 79}, page_content='Index: 80\\nCustomer Id: A7F85c1DE4dB87f\\nFirst Name: Alejandro\\nLast Name: Blair\\nCompany: Combs, Waller and Durham\\nCity: Thomasland\\nCountry: Iceland\\nPhone 1: (690)068-4641x51468\\nPhone 2: 555.509.8691x2329\\nEmail: elizabethbarr@ewing.com\\nSubscription Date: 2020-09-19\\nWebsite: https://mercado-blevins.com/'),\n",
       " Document(metadata={'source': 'data/sample_docs/customers-100.csv', 'row': 80}, page_content='Index: 81\\nCustomer Id: D6CEAfb3BDbaa1A\\nFirst Name: Leslie\\nLast Name: Jennings\\nCompany: Blankenship-Arias\\nCity: Coreybury\\nCountry: Micronesia\\nPhone 1: 629.198.6346\\nPhone 2: 075.256.0829\\nEmail: corey75@wiggins.com\\nSubscription Date: 2021-11-13\\nWebsite: https://www.juarez.com/'),\n",
       " Document(metadata={'source': 'data/sample_docs/customers-100.csv', 'row': 81}, page_content='Index: 82\\nCustomer Id: Ebdb6F6F7c90b69\\nFirst Name: Kathleen\\nLast Name: Mckay\\nCompany: Coffey, Lamb and Johnson\\nCity: Lake Janiceton\\nCountry: Saint Vincent and the Grenadines\\nPhone 1: (733)910-9968\\nPhone 2: (691)247-4128x0665\\nEmail: chloelester@higgins-wilkinson.com\\nSubscription Date: 2021-09-12\\nWebsite: http://www.owens-mooney.com/'),\n",
       " Document(metadata={'source': 'data/sample_docs/customers-100.csv', 'row': 82}, page_content='Index: 83\\nCustomer Id: E8E7e8Cfe516ef0\\nFirst Name: Hunter\\nLast Name: Moreno\\nCompany: Fitzpatrick-Lawrence\\nCity: East Clinton\\nCountry: Isle of Man\\nPhone 1: (733)833-6754\\nPhone 2: 001-761-013-7121\\nEmail: isaac26@benton-finley.com\\nSubscription Date: 2020-12-28\\nWebsite: http://walls.info/'),\n",
       " Document(metadata={'source': 'data/sample_docs/customers-100.csv', 'row': 83}, page_content='Index: 84\\nCustomer Id: 78C06E9b6B3DF20\\nFirst Name: Chad\\nLast Name: Davidson\\nCompany: Garcia-Jimenez\\nCity: South Joshuashire\\nCountry: Oman\\nPhone 1: 8275702958\\nPhone 2: (804)842-4715\\nEmail: justinwalters@jimenez.com\\nSubscription Date: 2021-11-15\\nWebsite: http://www.garner-oliver.com/'),\n",
       " Document(metadata={'source': 'data/sample_docs/customers-100.csv', 'row': 84}, page_content='Index: 85\\nCustomer Id: 03A1E62ADdeb31c\\nFirst Name: Corey\\nLast Name: Holt\\nCompany: Mcdonald, Bird and Ramirez\\nCity: New Glenda\\nCountry: Fiji\\nPhone 1: 001-439-242-4986x7918\\nPhone 2: 3162708934\\nEmail: maurice46@morgan.com\\nSubscription Date: 2020-02-18\\nWebsite: http://www.watson.com/'),\n",
       " Document(metadata={'source': 'data/sample_docs/customers-100.csv', 'row': 85}, page_content='Index: 86\\nCustomer Id: C6763c99d0bd16D\\nFirst Name: Emma\\nLast Name: Cunningham\\nCompany: Stephens Inc\\nCity: North Jillianview\\nCountry: New Zealand\\nPhone 1: 128-059-0206x60217\\nPhone 2: (312)164-4545x2284\\nEmail: walter83@juarez.org\\nSubscription Date: 2022-05-13\\nWebsite: http://www.reid.info/'),\n",
       " Document(metadata={'source': 'data/sample_docs/customers-100.csv', 'row': 86}, page_content='Index: 87\\nCustomer Id: ebe77E5Bf9476CE\\nFirst Name: Duane\\nLast Name: Woods\\nCompany: Montoya-Miller\\nCity: Lyonsberg\\nCountry: Maldives\\nPhone 1: (636)544-7783x7288\\nPhone 2: (203)287-1003x5932\\nEmail: kmercer@wagner.com\\nSubscription Date: 2020-07-21\\nWebsite: http://murray.org/'),\n",
       " Document(metadata={'source': 'data/sample_docs/customers-100.csv', 'row': 87}, page_content='Index: 88\\nCustomer Id: E4Bbcd8AD81fC5f\\nFirst Name: Alison\\nLast Name: Vargas\\nCompany: Vaughn, Watts and Leach\\nCity: East Cristinabury\\nCountry: Benin\\nPhone 1: 365-273-8144\\nPhone 2: 053-308-7653x6287\\nEmail: vcantu@norton.com\\nSubscription Date: 2020-11-10\\nWebsite: http://mason.info/'),\n",
       " Document(metadata={'source': 'data/sample_docs/customers-100.csv', 'row': 88}, page_content='Index: 89\\nCustomer Id: efeb73245CDf1fF\\nFirst Name: Vernon\\nLast Name: Kane\\nCompany: Carter-Strickland\\nCity: Thomasfurt\\nCountry: Yemen\\nPhone 1: 114-854-1159x555\\nPhone 2: 499-608-4612\\nEmail: hilljesse@barrett.info\\nSubscription Date: 2021-04-15\\nWebsite: http://www.duffy-hensley.net/'),\n",
       " Document(metadata={'source': 'data/sample_docs/customers-100.csv', 'row': 89}, page_content='Index: 90\\nCustomer Id: 37Ec4B395641c1E\\nFirst Name: Lori\\nLast Name: Flowers\\nCompany: Decker-Mcknight\\nCity: North Joeburgh\\nCountry: Namibia\\nPhone 1: 679.415.1210\\nPhone 2: 945-842-3659x4581\\nEmail: tyrone77@valenzuela.info\\nSubscription Date: 2021-01-09\\nWebsite: http://www.deleon-crosby.com/'),\n",
       " Document(metadata={'source': 'data/sample_docs/customers-100.csv', 'row': 90}, page_content='Index: 91\\nCustomer Id: 5ef6d3eefdD43bE\\nFirst Name: Nina\\nLast Name: Chavez\\nCompany: Byrd-Campbell\\nCity: Cassidychester\\nCountry: Bhutan\\nPhone 1: 053-344-3205\\nPhone 2: +1-330-920-5422x571\\nEmail: elliserica@frank.com\\nSubscription Date: 2020-03-26\\nWebsite: https://www.pugh.com/'),\n",
       " Document(metadata={'source': 'data/sample_docs/customers-100.csv', 'row': 91}, page_content='Index: 92\\nCustomer Id: 98b3aeDcC3B9FF3\\nFirst Name: Shane\\nLast Name: Foley\\nCompany: Rocha-Hart\\nCity: South Dannymouth\\nCountry: Hungary\\nPhone 1: +1-822-569-0302\\nPhone 2: 001-626-114-5844x55073\\nEmail: nsteele@sparks.com\\nSubscription Date: 2021-07-06\\nWebsite: https://www.holt-sparks.com/'),\n",
       " Document(metadata={'source': 'data/sample_docs/customers-100.csv', 'row': 92}, page_content='Index: 93\\nCustomer Id: aAb6AFc7AfD0fF3\\nFirst Name: Collin\\nLast Name: Ayers\\nCompany: Lamb-Peterson\\nCity: South Lonnie\\nCountry: Anguilla\\nPhone 1: 404-645-5351x012\\nPhone 2: 001-257-582-8850x8516\\nEmail: dudleyemily@gonzales.biz\\nSubscription Date: 2021-06-29\\nWebsite: http://www.ruiz.com/'),\n",
       " Document(metadata={'source': 'data/sample_docs/customers-100.csv', 'row': 93}, page_content='Index: 94\\nCustomer Id: 54B5B5Fe9F1B6C5\\nFirst Name: Sherry\\nLast Name: Young\\nCompany: Lee, Lucero and Johnson\\nCity: Frankchester\\nCountry: Solomon Islands\\nPhone 1: 158-687-1764\\nPhone 2: (438)375-6207x003\\nEmail: alan79@gates-mclaughlin.com\\nSubscription Date: 2021-04-04\\nWebsite: https://travis.net/'),\n",
       " Document(metadata={'source': 'data/sample_docs/customers-100.csv', 'row': 94}, page_content='Index: 95\\nCustomer Id: BE91A0bdcA49Bbc\\nFirst Name: Darrell\\nLast Name: Douglas\\nCompany: Newton, Petersen and Mathis\\nCity: Daisyborough\\nCountry: Mali\\nPhone 1: 001-084-845-9524x1777\\nPhone 2: 001-769-564-6303\\nEmail: grayjean@lowery-good.com\\nSubscription Date: 2022-02-17\\nWebsite: https://banks.biz/'),\n",
       " Document(metadata={'source': 'data/sample_docs/customers-100.csv', 'row': 95}, page_content='Index: 96\\nCustomer Id: cb8E23e48d22Eae\\nFirst Name: Karl\\nLast Name: Greer\\nCompany: Carey LLC\\nCity: East Richard\\nCountry: Guyana\\nPhone 1: (188)169-1674x58692\\nPhone 2: 001-841-293-3519x614\\nEmail: hhart@jensen.com\\nSubscription Date: 2022-01-30\\nWebsite: http://hayes-perez.com/'),\n",
       " Document(metadata={'source': 'data/sample_docs/customers-100.csv', 'row': 96}, page_content='Index: 97\\nCustomer Id: CeD220bdAaCfaDf\\nFirst Name: Lynn\\nLast Name: Atkinson\\nCompany: Ware, Burns and Oneal\\nCity: New Bradview\\nCountry: Sri Lanka\\nPhone 1: +1-846-706-2218\\nPhone 2: 605.413.3198\\nEmail: vkemp@ferrell.com\\nSubscription Date: 2021-07-10\\nWebsite: https://novak-allison.com/'),\n",
       " Document(metadata={'source': 'data/sample_docs/customers-100.csv', 'row': 97}, page_content='Index: 98\\nCustomer Id: 28CDbC0dFe4b1Db\\nFirst Name: Fred\\nLast Name: Guerra\\nCompany: Schmitt-Jones\\nCity: Ortegaland\\nCountry: Solomon Islands\\nPhone 1: +1-753-067-8419x7170\\nPhone 2: +1-632-666-7507x92121\\nEmail: swagner@kane.org\\nSubscription Date: 2021-09-18\\nWebsite: https://www.ross.com/'),\n",
       " Document(metadata={'source': 'data/sample_docs/customers-100.csv', 'row': 98}, page_content='Index: 99\\nCustomer Id: c23d1D9EE8DEB0A\\nFirst Name: Yvonne\\nLast Name: Farmer\\nCompany: Fitzgerald-Harrell\\nCity: Lake Elijahview\\nCountry: Aruba\\nPhone 1: (530)311-9786\\nPhone 2: 001-869-452-0943x12424\\nEmail: mccarthystephen@horn-green.biz\\nSubscription Date: 2021-08-11\\nWebsite: http://watkins.info/'),\n",
       " Document(metadata={'source': 'data/sample_docs/customers-100.csv', 'row': 99}, page_content='Index: 100\\nCustomer Id: 2354a0E336A91A1\\nFirst Name: Clarence\\nLast Name: Haynes\\nCompany: Le, Nash and Cross\\nCity: Judymouth\\nCountry: Honduras\\nPhone 1: (753)813-6941\\nPhone 2: 783.639.1472\\nEmail: colleen91@faulkner.biz\\nSubscription Date: 2020-03-11\\nWebsite: http://www.hatfield-saunders.net/')]"
      ]
     },
     "execution_count": 5,
     "metadata": {},
     "output_type": "execute_result"
    }
   ],
   "source": [
    "docs"
   ]
  },
  {
   "cell_type": "code",
   "execution_count": 7,
   "metadata": {},
   "outputs": [
    {
     "data": {
      "text/plain": [
       "Document(metadata={'source': 'data/sample_docs/customers-100.csv', 'row': 77}, page_content='Index: 78\\nCustomer Id: FfaeFFbbbf280db\\nFirst Name: Cassidy\\nLast Name: Mcmahon\\nCompany: Mcguire, Huynh and Hopkins\\nCity: Lake Sherryborough\\nCountry: Myanmar\\nPhone 1: 5040771311\\nPhone 2: 684-682-0021x1326\\nEmail: katrinalane@fitzgerald.com\\nSubscription Date: 2020-10-21\\nWebsite: https://hurst.com/')"
      ]
     },
     "execution_count": 7,
     "metadata": {},
     "output_type": "execute_result"
    }
   ],
   "source": [
    "docs[77]"
   ]
  },
  {
   "cell_type": "code",
   "execution_count": 8,
   "metadata": {},
   "outputs": [
    {
     "data": {
      "text/plain": [
       "'Index: 78\\nCustomer Id: FfaeFFbbbf280db\\nFirst Name: Cassidy\\nLast Name: Mcmahon\\nCompany: Mcguire, Huynh and Hopkins\\nCity: Lake Sherryborough\\nCountry: Myanmar\\nPhone 1: 5040771311\\nPhone 2: 684-682-0021x1326\\nEmail: katrinalane@fitzgerald.com\\nSubscription Date: 2020-10-21\\nWebsite: https://hurst.com/'"
      ]
     },
     "execution_count": 8,
     "metadata": {},
     "output_type": "execute_result"
    }
   ],
   "source": [
    "docs[77].page_content"
   ]
  },
  {
   "cell_type": "code",
   "execution_count": 9,
   "metadata": {},
   "outputs": [
    {
     "data": {
      "text/plain": [
       "'ollama'"
      ]
     },
     "execution_count": 9,
     "metadata": {},
     "output_type": "execute_result"
    }
   ],
   "source": [
    "llm_type = os.getenv(\"LLM_TYPE\", \"ollama\")\n",
    "llm_type "
   ]
  },
  {
   "cell_type": "code",
   "execution_count": null,
   "metadata": {},
   "outputs": [
    {
     "name": "stdout",
     "output_type": "stream",
     "text": [
      "Ollama LLM is available.\n"
     ]
    }
   ],
   "source": [
    "if llm_type == \"ollama\":\n",
    "    llm = ChatOllama(model=\"llama3.2\", temperature=0)\n",
    "    print(\"Ollama LLM is available.\")\n",
    "elif llm_type == \"openai\":\n",
    "    llm = ChatOpenAI(model=\"gpt-3.5-turbo\", temperature=0)\n",
    "    print(\"OpenAI.\")\n",
    "else:\n",
    "    llm = ChatAnthropic(model=\"claude-3-5-sonnet-20240620\", temperature=0)\n",
    "    print(\"Claude Shannon here\")\n",
    "\n",
    "llm_transformer = LLMGraphTransformer(llm=llm)\n",
    "graph_documents = llm_transformer.convert_to_graph_documents(documents)"
   ]
  },
  {
   "cell_type": "code",
   "execution_count": null,
   "metadata": {},
   "outputs": [
    {
     "data": {
      "text/plain": [
       "GraphDocument(nodes=[Node(id='Website', properties={}), Node(id='Subscription_Date', properties={})], relationships=[], source=Document(metadata={'source': 'customers-100.csv', 'row': 6}, page_content='Subscription Date: 2021-08-24\\nWebsite: https://www.le.com/'))"
      ]
     },
     "execution_count": 29,
     "metadata": {},
     "output_type": "execute_result"
    }
   ],
   "source": [
    "graph_documents[77]"
   ]
  },
  {
   "cell_type": "code",
   "execution_count": null,
   "metadata": {},
   "outputs": [
    {
     "data": {
      "text/plain": [
       "199"
      ]
     },
     "execution_count": 30,
     "metadata": {},
     "output_type": "execute_result"
    }
   ],
   "source": [
    "len(graph_documents)"
   ]
  },
  {
   "cell_type": "code",
   "execution_count": null,
   "metadata": {},
   "outputs": [],
   "source": [
    "graph = Neo4jGraph()\n",
    "graph"
   ]
  },
  {
   "cell_type": "code",
   "execution_count": 31,
   "metadata": {},
   "outputs": [],
   "source": [
    "graph.add_graph_documents(\n",
    "    graph_documents,\n",
    "    baseEntityLabel=True,\n",
    "    include_source=True\n",
    ")"
   ]
  },
  {
   "cell_type": "code",
   "execution_count": 32,
   "metadata": {},
   "outputs": [],
   "source": [
    "def displayGraph():\n",
    "    driver = GraphDatabase.driver(\n",
    "        uri = os.environ[\"NEO4J_URI\"],\n",
    "        auth = (os.environ[\"NEO4J_USERNAME\"],\n",
    "                os.environ[\"NEO4J_PASSWORD\"]))\n",
    "\n",
    "    session = driver.session()\n",
    "    widget = GraphWidget(graph=session.run(\"MATCH (s)-[r:!MENTIONS]->(t) RETURN s,r,t\").graph())\n",
    "    widget.node_label_mapping = 'id'\n",
    "    return widget\n",
    "\n",
    "# displayGraph()"
   ]
  },
  {
   "cell_type": "code",
   "execution_count": 33,
   "metadata": {},
   "outputs": [
    {
     "data": {
      "application/vnd.jupyter.widget-view+json": {
       "model_id": "abecfecee28b4b4d8454da5cb528134e",
       "version_major": 2,
       "version_minor": 0
      },
      "text/plain": [
       "GraphWidget(layout=Layout(height='800px', width='100%'))"
      ]
     },
     "metadata": {},
     "output_type": "display_data"
    }
   ],
   "source": [
    "displayGraph()"
   ]
  },
  {
   "cell_type": "code",
   "execution_count": null,
   "metadata": {},
   "outputs": [],
   "source": [
    "import neo4jupyter\n",
    "neo4jupyter.init_notebook_mode()"
   ]
  },
  {
   "cell_type": "markdown",
   "metadata": {},
   "source": [
    "### Embedding Model\n",
    "\n",
    "- https://medium.com/timescale/finding-the-best-open-source-embedding-model-for-rag-929d1656d331"
   ]
  },
  {
   "cell_type": "code",
   "execution_count": 34,
   "metadata": {},
   "outputs": [
    {
     "name": "stdout",
     "output_type": "stream",
     "text": [
      "mxbai-embed-large 1024\n",
      "nomic-embed-text 768\n",
      "bge-m3 1024\n"
     ]
    }
   ],
   "source": [
    "EMBEDDING_MODELS = [\n",
    "    {'name':'mxbai-embed-large', 'dimensions': 1024},\n",
    "    {'name':'nomic-embed-text','dimensions': 768},\n",
    "    {'name':'bge-m3','dimensions': 1024},\n",
    "]\n",
    " \n",
    "for model in EMBEDDING_MODELS:\n",
    "    print(model['name'], model['dimensions'])"
   ]
  },
  {
   "cell_type": "code",
   "execution_count": 35,
   "metadata": {
    "id": "GHbJPMfDtHNW"
   },
   "outputs": [],
   "source": [
    "embeddings = OllamaEmbeddings(\n",
    "    model=\"mxbai-embed-large\",\n",
    ")\n",
    "\n",
    "vector_index = Neo4jVector.from_existing_graph(\n",
    "    embeddings,\n",
    "    search_type=\"hybrid\",\n",
    "    node_label=\"Document\",\n",
    "    text_node_properties=[\"text\"],\n",
    "    embedding_node_property=\"embedding\"\n",
    ")\n",
    "vector_retriever = vector_index.as_retriever()"
   ]
  },
  {
   "cell_type": "code",
   "execution_count": 36,
   "metadata": {},
   "outputs": [
    {
     "data": {
      "text/plain": [
       "VectorStoreRetriever(tags=['Neo4jVector', 'OllamaEmbeddings'], vectorstore=<langchain_neo4j.vectorstores.neo4j_vector.Neo4jVector object at 0x0000021A2447AC50>, search_kwargs={})"
      ]
     },
     "execution_count": 36,
     "metadata": {},
     "output_type": "execute_result"
    }
   ],
   "source": [
    "vector_retriever"
   ]
  },
  {
   "cell_type": "code",
   "execution_count": 38,
   "metadata": {
    "colab": {
     "base_uri": "https://localhost:8080/",
     "height": 817,
     "referenced_widgets": [
      "8e37edd9789a4d57a7be401628e7ff7f",
      "9bac7003afd84cecb4e67a81a396ec8d"
     ]
    },
    "id": "RMZlhtDmtHNW",
    "outputId": "86efa842-3297-45d6-dab2-681bbc836b4d"
   },
   "outputs": [],
   "source": [
    "driver = GraphDatabase.driver(\n",
    "        uri = os.environ[\"NEO4J_URI\"],\n",
    "        auth = (os.environ[\"NEO4J_USERNAME\"],\n",
    "                os.environ[\"NEO4J_PASSWORD\"]))\n",
    "\n",
    "def create_fulltext_index(tx):\n",
    "    query = '''\n",
    "    CREATE FULLTEXT INDEX `fulltext_entity_id` \n",
    "    FOR (n:__Entity__) \n",
    "    ON EACH [n.id];\n",
    "    '''\n",
    "    tx.run(query)\n",
    "\n",
    "# Function to execute the query\n",
    "def create_index():\n",
    "    with driver.session() as session:\n",
    "        session.execute_write(create_fulltext_index)\n",
    "        print(\"Fulltext is indexed successfully.\")\n",
    "\n",
    "# Call the function to create the index\n",
    "try:\n",
    "    create_index()\n",
    "except:\n",
    "    pass\n",
    "\n",
    "# Close the driver connection\n",
    "driver.close()"
   ]
  },
  {
   "cell_type": "code",
   "execution_count": null,
   "metadata": {
    "colab": {
     "base_uri": "https://localhost:8080/"
    },
    "id": "6yCMz_sRtHNW",
    "outputId": "f533f279-9a2b-48d6-830b-28d04c43550b"
   },
   "outputs": [],
   "source": [
    "class Entities(BaseModel):\n",
    "    \"\"\"Identifying information about entities.\"\"\"\n",
    "\n",
    "    names: list[str] = Field(\n",
    "        ...,\n",
    "        description=\"All the person, organization, or business entities that \"\n",
    "        \"appear in the text\",\n",
    "    )\n",
    "\n",
    "prompt = ChatPromptTemplate.from_messages(\n",
    "    [\n",
    "        (\n",
    "            \"system\",\n",
    "            \"You are extracting organization and person entities from the text.\",\n",
    "        ),\n",
    "        (\n",
    "            \"human\",\n",
    "            \"Use the given format to extract information from the following \"\n",
    "            \"input: {question}\",\n",
    "        ),\n",
    "    ]\n",
    ")\n",
    "\n",
    "\n",
    "entity_chain = llm.with_structured_output(Entities)"
   ]
  },
  {
   "cell_type": "code",
   "execution_count": 41,
   "metadata": {},
   "outputs": [
    {
     "data": {
      "text/plain": [
       "RunnableBinding(bound=ChatOllama(model='llama3.2', temperature=0.0), kwargs={'tools': [{'type': 'function', 'function': {'name': 'Entities', 'description': 'Identifying information about entities.', 'parameters': {'properties': {'names': {'description': 'All the person, organization, or business entities that appear in the text', 'items': {'type': 'string'}, 'type': 'array'}}, 'required': ['names'], 'type': 'object'}}}], 'structured_output_format': {'kwargs': {'method': 'function_calling'}, 'schema': {'type': 'function', 'function': {'name': 'Entities', 'description': 'Identifying information about entities.', 'parameters': {'properties': {'names': {'description': 'All the person, organization, or business entities that appear in the text', 'items': {'type': 'string'}, 'type': 'array'}}, 'required': ['names'], 'type': 'object'}}}}}, config={}, config_factories=[])\n",
       "| PydanticToolsParser(first_tool_only=True, tools=[<class '__main__.Entities'>])"
      ]
     },
     "execution_count": 41,
     "metadata": {},
     "output_type": "execute_result"
    }
   ],
   "source": [
    "entity_chain"
   ]
  },
  {
   "cell_type": "code",
   "execution_count": 42,
   "metadata": {
    "colab": {
     "base_uri": "https://localhost:8080/"
    },
    "id": "54H15KNAtHNX",
    "outputId": "236df5a6-9f9e-49fd-a360-e4bb51dc7288"
   },
   "outputs": [
    {
     "data": {
      "text/plain": [
       "Entities(names=['Nonna Lucia', 'Giovanni Caruso'])"
      ]
     },
     "execution_count": 42,
     "metadata": {},
     "output_type": "execute_result"
    }
   ],
   "source": [
    "entity_chain.invoke(\"Who are Nonna Lucia and Giovanni Caruso?\")"
   ]
  },
  {
   "cell_type": "code",
   "execution_count": 43,
   "metadata": {
    "id": "dY8huoM8tHNX"
   },
   "outputs": [],
   "source": [
    "def generate_full_text_query(input: str) -> str:\n",
    "    words = [el for el in remove_lucene_chars(input).split() if el]\n",
    "    if not words:\n",
    "        return \"\"\n",
    "    full_text_query = \" AND \".join([f\"{word}~2\" for word in words])\n",
    "    print(f\"Generated Query: {full_text_query}\")\n",
    "    return full_text_query.strip()\n",
    "\n",
    "\n",
    "# Fulltext index query\n",
    "def graph_retriever(question: str) -> str:\n",
    "    \"\"\"\n",
    "    Collects the neighborhood of entities mentioned\n",
    "    in the question\n",
    "    \"\"\"\n",
    "    result = \"\"\n",
    "    entities = entity_chain.invoke(question)\n",
    "    for entity in entities.names:\n",
    "        response = graph.query(\n",
    "            \"\"\"CALL db.index.fulltext.queryNodes('fulltext_entity_id', $query, {limit:2})\n",
    "            YIELD node,score\n",
    "            CALL {\n",
    "              WITH node\n",
    "              MATCH (node)-[r:!MENTIONS]->(neighbor)\n",
    "              RETURN node.id + ' - ' + type(r) + ' -> ' + neighbor.id AS output\n",
    "              UNION ALL\n",
    "              WITH node\n",
    "              MATCH (node)<-[r:!MENTIONS]-(neighbor)\n",
    "              RETURN neighbor.id + ' - ' + type(r) + ' -> ' +  node.id AS output\n",
    "            }\n",
    "            RETURN output LIMIT 50\n",
    "            \"\"\",\n",
    "            {\"query\": entity},\n",
    "        )\n",
    "        result += \"\\n\".join([el['output'] for el in response])\n",
    "    return result"
   ]
  },
  {
   "cell_type": "code",
   "execution_count": 44,
   "metadata": {
    "colab": {
     "base_uri": "https://localhost:8080/"
    },
    "id": "_6fOJRPntHNX",
    "outputId": "a99ffca0-2d4d-4374-8519-c6e37c395f1f"
   },
   "outputs": [
    {
     "name": "stdout",
     "output_type": "stream",
     "text": [
      "\n"
     ]
    }
   ],
   "source": [
    "print(graph_retriever(\"Who is Bruce\tEsparza?\"))"
   ]
  },
  {
   "cell_type": "code",
   "execution_count": 23,
   "metadata": {},
   "outputs": [
    {
     "data": {
      "text/plain": [
       "''"
      ]
     },
     "execution_count": 23,
     "metadata": {},
     "output_type": "execute_result"
    }
   ],
   "source": [
    "graph_retriever(\"Who is Giovanni?\")"
   ]
  },
  {
   "cell_type": "code",
   "execution_count": 45,
   "metadata": {
    "id": "iCTMp3prtHNX"
   },
   "outputs": [],
   "source": [
    "def full_retriever(question: str):\n",
    "    graph_data = graph_retriever(question)\n",
    "    vector_data = [el.page_content for el in vector_retriever.invoke(question)]\n",
    "    final_data = f\"\"\"Graph data:\n",
    "{graph_data}\n",
    "vector data:\n",
    "{\"#Document \". join(vector_data)}\n",
    "    \"\"\"\n",
    "    return final_data"
   ]
  },
  {
   "cell_type": "markdown",
   "metadata": {},
   "source": [
    "## Q&A"
   ]
  },
  {
   "cell_type": "code",
   "execution_count": 46,
   "metadata": {
    "id": "Dzb2jcittHNY"
   },
   "outputs": [],
   "source": [
    "template = \"\"\"Answer the question based only on the following context:\n",
    "{context}\n",
    "\n",
    "Question: {question}\n",
    "Use natural language and be concise.\n",
    "Answer:\"\"\"\n",
    "prompt = ChatPromptTemplate.from_template(template)\n",
    "\n",
    "chain = (\n",
    "        {\n",
    "            \"context\": full_retriever,\n",
    "            \"question\": RunnablePassthrough(),\n",
    "        }\n",
    "    | prompt\n",
    "    | llm\n",
    "    | StrOutputParser()\n",
    ")"
   ]
  },
  {
   "cell_type": "code",
   "execution_count": null,
   "metadata": {},
   "outputs": [
    {
     "data": {
      "text/plain": [
       "'Bruce Esparza is from Huerta-Mclean. Yes, he has an email address: preese@frye-vega.com.'"
      ]
     },
     "execution_count": 49,
     "metadata": {},
     "output_type": "execute_result"
    }
   ],
   "source": [
    "chain.invoke(input=\"Who company is Bruce Esparza from? and is he has an email ?\")"
   ]
  },
  {
   "cell_type": "code",
   "execution_count": 50,
   "metadata": {},
   "outputs": [
    {
     "data": {
      "text/plain": [
       "'Two people work for Simon LLC: Clifford Jacobson and Chloe Hutchinson.'"
      ]
     },
     "execution_count": 50,
     "metadata": {},
     "output_type": "execute_result"
    }
   ],
   "source": [
    "chain.invoke(input=\"Who works for the company Simon LLC ?\")"
   ]
  },
  {
   "cell_type": "code",
   "execution_count": 26,
   "metadata": {},
   "outputs": [
    {
     "data": {
      "text/plain": [
       "\"Nonna Lucia was Amico's grandmother, a culinary sage who taught her grandchildren the art of Sicilian cooking. She also played a role in shaping Lucia's culinary talent and influence. There is no mention of Nonna Lucia teaching anyone about restaurants.\""
      ]
     },
     "execution_count": 26,
     "metadata": {},
     "output_type": "execute_result"
    }
   ],
   "source": [
    "chain.invoke(input=\"Who is Nonna Lucia? Did she teach anyone about restaurants or cooking?\")"
   ]
  },
  {
   "cell_type": "code",
   "execution_count": 27,
   "metadata": {},
   "outputs": [
    {
     "data": {
      "text/plain": [
       "'La Dolce Vita was a restaurant owned by Antonio Caruso, located in Rome, known for its live classical music and blend of traditional and modern cuisine.'"
      ]
     },
     "execution_count": 27,
     "metadata": {},
     "output_type": "execute_result"
    }
   ],
   "source": [
    "chain.invoke(input=\"What is La Dolce Vita?\")"
   ]
  },
  {
   "cell_type": "code",
   "execution_count": 35,
   "metadata": {
    "colab": {
     "base_uri": "https://localhost:8080/",
     "height": 53
    },
    "id": "dtU0iMNgtHNY",
    "outputId": "bf3cf94c-f030-41b4-fb3b-356c5bff98f5"
   },
   "outputs": [
    {
     "data": {
      "text/plain": [
       "'LA Terra di Siena appears to be the name of a restaurant, specifically owned by Sofia Caruso.'"
      ]
     },
     "execution_count": 35,
     "metadata": {},
     "output_type": "execute_result"
    }
   ],
   "source": [
    "chain.invoke(input=\"What is LA Tera Di Siena?\")"
   ]
  },
  {
   "cell_type": "code",
   "execution_count": null,
   "metadata": {},
   "outputs": [
    {
     "data": {
      "text/plain": [
       "\"Sofia Caruso is Antonio's wife and the co-owner of a trattoria with her husband Pietro. She is also a baker.\""
      ]
     },
     "execution_count": 36,
     "metadata": {},
     "output_type": "execute_result"
    }
   ],
   "source": [
    "chain.invoke(input=\"Who is Sofia Caruso?\")"
   ]
  },
  {
   "cell_type": "code",
   "execution_count": 37,
   "metadata": {},
   "outputs": [
    {
     "data": {
      "text/plain": [
       "\"The relationships between Sofia, Pietro, Antonio, and Giovanni are as follows:\\n\\n- Sofia is Pietro's wife and a baker.\\n- Pietro is Antonio's eldest son and a skilled fisherman.\\n- Antonio is the father of both Pietro and Giovanni, and he hosts workshops in Rome to share his innovative techniques.\\n\\nThere is no direct information about the relationship between Sofia and Giovanni.\""
      ]
     },
     "execution_count": 37,
     "metadata": {},
     "output_type": "execute_result"
    }
   ],
   "source": [
    "chain.invoke(input=\"Describe the relationship of the Sofia, Pietro, Antonio and Geovanni?\")"
   ]
  }
 ],
 "metadata": {
  "colab": {
   "include_colab_link": true,
   "provenance": []
  },
  "kernelspec": {
   "display_name": "myvenv",
   "language": "python",
   "name": "python3"
  },
  "language_info": {
   "codemirror_mode": {
    "name": "ipython",
    "version": 3
   },
   "file_extension": ".py",
   "mimetype": "text/x-python",
   "name": "python",
   "nbconvert_exporter": "python",
   "pygments_lexer": "ipython3",
   "version": "3.11.9"
  },
  "widgets": {
   "application/vnd.jupyter.widget-state+json": {
    "8e37edd9789a4d57a7be401628e7ff7f": {
     "model_module": "yfiles-jupyter-graphs",
     "model_module_version": "^1.6.1",
     "model_name": "GraphModel",
     "state": {
      "_context_pane_mapping": [
       {
        "id": "Neighborhood",
        "title": "Neighborhood"
       },
       {
        "id": "Data",
        "title": "Data"
       },
       {
        "id": "Search",
        "title": "Search"
       },
       {
        "id": "About",
        "title": "About"
       }
      ],
      "_data_importer": "neo4j",
      "_directed": true,
      "_dom_classes": [],
      "_edges": [
       {
        "color": "#9C27B0",
        "directed": true,
        "end": 2,
        "id": 14,
        "label": "RULED",
        "properties": {
         "label": "RULED"
        },
        "start": 1,
        "thickness_factor": 1
       },
       {
        "color": "#9C27B0",
        "directed": true,
        "end": 3,
        "id": 15,
        "label": "RULED",
        "properties": {
         "label": "RULED"
        },
        "start": 1,
        "thickness_factor": 1
       },
       {
        "color": "#2196F3",
        "directed": true,
        "end": 4,
        "id": 16,
        "label": "BELONGED_TO",
        "properties": {
         "label": "BELONGED_TO"
        },
        "start": 1,
        "thickness_factor": 1
       },
       {
        "color": "#4CAF50",
        "directed": true,
        "end": 5,
        "id": 17,
        "label": "PARENT",
        "properties": {
         "label": "PARENT"
        },
        "start": 1,
        "thickness_factor": 1
       },
       {
        "color": "#4CAF50",
        "directed": true,
        "end": 6,
        "id": 18,
        "label": "PARENT",
        "properties": {
         "label": "PARENT"
        },
        "start": 1,
        "thickness_factor": 1
       },
       {
        "color": "#F44336",
        "directed": true,
        "end": 6,
        "id": 19,
        "label": "SPOUSE",
        "properties": {
         "label": "SPOUSE"
        },
        "start": 5,
        "thickness_factor": 1
       },
       {
        "color": "#4CAF50",
        "directed": true,
        "end": 7,
        "id": 20,
        "label": "PARENT",
        "properties": {
         "label": "PARENT"
        },
        "start": 5,
        "thickness_factor": 1
       },
       {
        "color": "#607D8B",
        "directed": true,
        "end": 8,
        "id": 21,
        "label": "BEQUEATHED_CROWN_TO",
        "properties": {
         "label": "BEQUEATHED_CROWN_TO"
        },
        "start": 7,
        "thickness_factor": 1
       },
       {
        "color": "#673AB7",
        "directed": true,
        "end": 9,
        "id": 22,
        "label": "IGNORED_CLAIMS_OF",
        "properties": {
         "label": "IGNORED_CLAIMS_OF"
        },
        "start": 7,
        "thickness_factor": 1
       },
       {
        "color": "#673AB7",
        "directed": true,
        "end": 1,
        "id": 23,
        "label": "IGNORED_CLAIMS_OF",
        "properties": {
         "label": "IGNORED_CLAIMS_OF"
        },
        "start": 7,
        "thickness_factor": 1
       },
       {
        "color": "#CDDC39",
        "directed": true,
        "end": 1,
        "id": 24,
        "label": "IMPRISONED",
        "properties": {
         "label": "IMPRISONED"
        },
        "start": 9,
        "thickness_factor": 1
       },
       {
        "color": "#9E9E9E",
        "directed": true,
        "end": 10,
        "id": 25,
        "label": "DEPENDED_ON",
        "properties": {
         "label": "DEPENDED_ON"
        },
        "start": 1,
        "thickness_factor": 1
       },
       {
        "color": "#9C27B0",
        "directed": true,
        "end": 11,
        "id": 26,
        "label": "CREATED_TITLE",
        "properties": {
         "label": "CREATED_TITLE"
        },
        "start": 1,
        "thickness_factor": 1
       },
       {
        "color": "#2196F3",
        "directed": true,
        "end": 12,
        "id": 27,
        "label": "SUCCEEDED_BY",
        "properties": {
         "label": "SUCCEEDED_BY"
        },
        "start": 1,
        "thickness_factor": 1
       },
       {
        "color": "#4CAF50",
        "directed": true,
        "end": 12,
        "id": 28,
        "label": "PARENT",
        "properties": {
         "label": "PARENT"
        },
        "start": 13,
        "thickness_factor": 1
       },
       {
        "color": "#9E9E9E",
        "directed": true,
        "end": 14,
        "id": 29,
        "label": "DEPENDED_ON",
        "properties": {
         "label": "DEPENDED_ON"
        },
        "start": 1,
        "thickness_factor": 1
       },
       {
        "color": "#4CAF50",
        "directed": true,
        "end": 17,
        "id": 40,
        "label": "WAR",
        "properties": {
         "label": "WAR"
        },
        "start": 16,
        "thickness_factor": 1
       },
       {
        "color": "#4CAF50",
        "directed": true,
        "end": 18,
        "id": 41,
        "label": "WAR",
        "properties": {
         "label": "WAR"
        },
        "start": 16,
        "thickness_factor": 1
       },
       {
        "color": "#4CAF50",
        "directed": true,
        "end": 19,
        "id": 42,
        "label": "WAR",
        "properties": {
         "label": "WAR"
        },
        "start": 16,
        "thickness_factor": 1
       },
       {
        "color": "#4CAF50",
        "directed": true,
        "end": 3,
        "id": 43,
        "label": "WAR",
        "properties": {
         "label": "WAR"
        },
        "start": 16,
        "thickness_factor": 1
       },
       {
        "color": "#F44336",
        "directed": true,
        "end": 20,
        "id": 44,
        "label": "LEAD",
        "properties": {
         "label": "LEAD"
        },
        "start": 16,
        "thickness_factor": 1
       },
       {
        "color": "#F44336",
        "directed": true,
        "end": 21,
        "id": 45,
        "label": "LEAD",
        "properties": {
         "label": "LEAD"
        },
        "start": 16,
        "thickness_factor": 1
       },
       {
        "color": "#F44336",
        "directed": true,
        "end": 22,
        "id": 46,
        "label": "LEAD",
        "properties": {
         "label": "LEAD"
        },
        "start": 16,
        "thickness_factor": 1
       },
       {
        "color": "#F44336",
        "directed": true,
        "end": 23,
        "id": 47,
        "label": "LEAD",
        "properties": {
         "label": "LEAD"
        },
        "start": 16,
        "thickness_factor": 1
       },
       {
        "color": "#607D8B",
        "directed": true,
        "end": 24,
        "id": 48,
        "label": "DEFEAT",
        "properties": {
         "label": "DEFEAT"
        },
        "start": 16,
        "thickness_factor": 1
       },
       {
        "color": "#673AB7",
        "directed": true,
        "end": 12,
        "id": 64,
        "label": "SUCCESSOR",
        "properties": {
         "label": "SUCCESSOR"
        },
        "start": 1,
        "thickness_factor": 1
       },
       {
        "color": "#673AB7",
        "directed": true,
        "end": 7,
        "id": 65,
        "label": "SUCCESSOR",
        "properties": {
         "label": "SUCCESSOR"
        },
        "start": 5,
        "thickness_factor": 1
       },
       {
        "color": "#673AB7",
        "directed": true,
        "end": 29,
        "id": 66,
        "label": "SUCCESSOR",
        "properties": {
         "label": "SUCCESSOR"
        },
        "start": 5,
        "thickness_factor": 1
       },
       {
        "color": "#673AB7",
        "directed": true,
        "end": 1,
        "id": 67,
        "label": "SUCCESSOR",
        "properties": {
         "label": "SUCCESSOR"
        },
        "start": 5,
        "thickness_factor": 1
       },
       {
        "color": "#673AB7",
        "directed": true,
        "end": 30,
        "id": 68,
        "label": "SUCCESSOR",
        "properties": {
         "label": "SUCCESSOR"
        },
        "start": 5,
        "thickness_factor": 1
       },
       {
        "color": "#673AB7",
        "directed": true,
        "end": 31,
        "id": 69,
        "label": "SUCCESSOR",
        "properties": {
         "label": "SUCCESSOR"
        },
        "start": 5,
        "thickness_factor": 1
       },
       {
        "color": "#673AB7",
        "directed": true,
        "end": 32,
        "id": 70,
        "label": "SUCCESSOR",
        "properties": {
         "label": "SUCCESSOR"
        },
        "start": 5,
        "thickness_factor": 1
       },
       {
        "color": "#673AB7",
        "directed": true,
        "end": 33,
        "id": 71,
        "label": "SUCCESSOR",
        "properties": {
         "label": "SUCCESSOR"
        },
        "start": 5,
        "thickness_factor": 1
       },
       {
        "color": "#CDDC39",
        "directed": true,
        "end": 34,
        "id": 72,
        "label": "PREFERRED_SUCCESSOR",
        "properties": {
         "label": "PREFERRED_SUCCESSOR"
        },
        "start": 29,
        "thickness_factor": 1
       },
       {
        "color": "#9E9E9E",
        "directed": true,
        "end": 35,
        "id": 73,
        "label": "FAMILY_RELATION",
        "properties": {
         "label": "FAMILY_RELATION"
        },
        "start": 34,
        "thickness_factor": 1
       },
       {
        "color": "#9C27B0",
        "directed": true,
        "end": 13,
        "id": 74,
        "label": "MARRIAGE",
        "properties": {
         "label": "MARRIAGE"
        },
        "start": 35,
        "thickness_factor": 1
       },
       {
        "color": "#2196F3",
        "directed": true,
        "end": 37,
        "id": 91,
        "label": "GRANDPARENT",
        "properties": {
         "label": "GRANDPARENT"
        },
        "start": 39,
        "thickness_factor": 1
       },
       {
        "color": "#2196F3",
        "directed": true,
        "end": 38,
        "id": 92,
        "label": "GRANDPARENT",
        "properties": {
         "label": "GRANDPARENT"
        },
        "start": 39,
        "thickness_factor": 1
       },
       {
        "color": "#4CAF50",
        "directed": true,
        "end": 40,
        "id": 93,
        "label": "PARENT",
        "properties": {
         "label": "PARENT"
        },
        "start": 34,
        "thickness_factor": 1
       },
       {
        "color": "#4CAF50",
        "directed": true,
        "end": 38,
        "id": 94,
        "label": "PARENT",
        "properties": {
         "label": "PARENT"
        },
        "start": 40,
        "thickness_factor": 1
       },
       {
        "color": "#4CAF50",
        "directed": true,
        "end": 37,
        "id": 95,
        "label": "PARENT",
        "properties": {
         "label": "PARENT"
        },
        "start": 13,
        "thickness_factor": 1
       },
       {
        "color": "#4CAF50",
        "directed": true,
        "end": 16,
        "id": 96,
        "label": "CONTENDER",
        "properties": {
         "label": "CONTENDER"
        },
        "start": 13,
        "thickness_factor": 1
       },
       {
        "color": "#4CAF50",
        "directed": true,
        "end": 8,
        "id": 97,
        "label": "PARENT",
        "properties": {
         "label": "PARENT"
        },
        "start": 41,
        "thickness_factor": 1
       },
       {
        "color": "#4CAF50",
        "directed": true,
        "end": 46,
        "id": 98,
        "label": "PARENT",
        "properties": {
         "label": "PARENT"
        },
        "start": 41,
        "thickness_factor": 1
       },
       {
        "color": "#4CAF50",
        "directed": true,
        "end": 47,
        "id": 99,
        "label": "PARENT",
        "properties": {
         "label": "PARENT"
        },
        "start": 41,
        "thickness_factor": 1
       },
       {
        "color": "#F44336",
        "directed": true,
        "end": 41,
        "id": 100,
        "label": "SPOUSE",
        "properties": {
         "label": "SPOUSE"
        },
        "start": 44,
        "thickness_factor": 1
       },
       {
        "color": "#F44336",
        "directed": true,
        "end": 42,
        "id": 101,
        "label": "SPOUSE",
        "properties": {
         "label": "SPOUSE"
        },
        "start": 44,
        "thickness_factor": 1
       },
       {
        "color": "#F44336",
        "directed": true,
        "end": 41,
        "id": 102,
        "label": "SPOUSE",
        "properties": {
         "label": "SPOUSE"
        },
        "start": 45,
        "thickness_factor": 1
       },
       {
        "color": "#F44336",
        "directed": true,
        "end": 48,
        "id": 103,
        "label": "SPOUSE",
        "properties": {
         "label": "SPOUSE"
        },
        "start": 46,
        "thickness_factor": 1
       },
       {
        "color": "#F44336",
        "directed": true,
        "end": 51,
        "id": 117,
        "label": "HELD_TITLE",
        "properties": {
         "label": "HELD_TITLE"
        },
        "start": 50,
        "thickness_factor": 1
       }
      ],
      "_graph_layout": {},
      "_highlight": [],
      "_license": {},
      "_model_module": "yfiles-jupyter-graphs",
      "_model_module_version": "^1.6.1",
      "_model_name": "GraphModel",
      "_neighborhood": {},
      "_nodes": [
       {
        "color": "#2196F3",
        "id": 1,
        "label": "Elizabeth I",
        "position": [
         0,
         0
        ],
        "properties": {
         "id": "Elizabeth I",
         "label": "Person:__Entity__"
        },
        "scale_factor": 1,
        "size": [
         55,
         55
        ],
        "styles": {},
        "type": "#2196F3"
       },
       {
        "color": "#4CAF50",
        "id": 2,
        "label": "England",
        "position": [
         0,
         0
        ],
        "properties": {
         "id": "England",
         "label": "Country:__Entity__"
        },
        "scale_factor": 1,
        "size": [
         55,
         55
        ],
        "styles": {},
        "type": "#4CAF50"
       },
       {
        "color": "#4CAF50",
        "id": 3,
        "label": "Ireland",
        "position": [
         0,
         0
        ],
        "properties": {
         "id": "Ireland",
         "label": "Country:__Entity__"
        },
        "scale_factor": 1,
        "size": [
         55,
         55
        ],
        "styles": {},
        "type": "#4CAF50"
       },
       {
        "color": "#F44336",
        "id": 4,
        "label": "House Of Tudor",
        "position": [
         0,
         0
        ],
        "properties": {
         "id": "House Of Tudor",
         "label": "__Entity__:Royal family"
        },
        "scale_factor": 1,
        "size": [
         55,
         55
        ],
        "styles": {},
        "type": "#F44336"
       },
       {
        "color": "#2196F3",
        "id": 5,
        "label": "Henry Viii",
        "position": [
         0,
         0
        ],
        "properties": {
         "id": "Henry Viii",
         "label": "Person:__Entity__"
        },
        "scale_factor": 1,
        "size": [
         55,
         55
        ],
        "styles": {},
        "type": "#2196F3"
       },
       {
        "color": "#2196F3",
        "id": 6,
        "label": "Anne Boleyn",
        "position": [
         0,
         0
        ],
        "properties": {
         "id": "Anne Boleyn",
         "label": "Person:__Entity__"
        },
        "scale_factor": 1,
        "size": [
         55,
         55
        ],
        "styles": {},
        "type": "#2196F3"
       },
       {
        "color": "#2196F3",
        "id": 7,
        "label": "Edward Vi",
        "position": [
         0,
         0
        ],
        "properties": {
         "id": "Edward Vi",
         "label": "Person:__Entity__"
        },
        "scale_factor": 1,
        "size": [
         55,
         55
        ],
        "styles": {},
        "type": "#2196F3"
       },
       {
        "color": "#2196F3",
        "id": 8,
        "label": "Lady Jane Grey",
        "position": [
         0,
         0
        ],
        "properties": {
         "id": "Lady Jane Grey",
         "label": "Person:__Entity__"
        },
        "scale_factor": 1,
        "size": [
         55,
         55
        ],
        "styles": {},
        "type": "#2196F3"
       },
       {
        "color": "#2196F3",
        "id": 9,
        "label": "Mary",
        "position": [
         0,
         0
        ],
        "properties": {
         "id": "Mary",
         "label": "Person:__Entity__"
        },
        "scale_factor": 1,
        "size": [
         55,
         55
        ],
        "styles": {},
        "type": "#2196F3"
       },
       {
        "color": "#2196F3",
        "id": 10,
        "label": "William Cecil",
        "position": [
         0,
         0
        ],
        "properties": {
         "id": "William Cecil",
         "label": "Person:__Entity__"
        },
        "scale_factor": 1,
        "size": [
         55,
         55
        ],
        "styles": {},
        "type": "#2196F3"
       },
       {
        "color": "#607D8B",
        "id": 11,
        "label": "Baron Burghley",
        "position": [
         0,
         0
        ],
        "properties": {
         "id": "Baron Burghley",
         "label": "Title:__Entity__"
        },
        "scale_factor": 1,
        "size": [
         55,
         55
        ],
        "styles": {},
        "type": "#607D8B"
       },
       {
        "color": "#2196F3",
        "id": 12,
        "label": "James Vi Of Scotland",
        "position": [
         0,
         0
        ],
        "properties": {
         "id": "James Vi Of Scotland",
         "label": "Person:__Entity__"
        },
        "scale_factor": 1,
        "size": [
         55,
         55
        ],
        "styles": {},
        "type": "#2196F3"
       },
       {
        "color": "#2196F3",
        "id": 13,
        "label": "Mary, Queen Of Scots",
        "position": [
         0,
         0
        ],
        "properties": {
         "id": "Mary, Queen Of Scots",
         "label": "Person:__Entity__"
        },
        "scale_factor": 1,
        "size": [
         55,
         55
        ],
        "styles": {},
        "type": "#2196F3"
       },
       {
        "color": "#2196F3",
        "id": 14,
        "label": "Francis Walsingham",
        "position": [
         0,
         0
        ],
        "properties": {
         "id": "Francis Walsingham",
         "label": "Person:__Entity__"
        },
        "scale_factor": 1,
        "size": [
         55,
         55
        ],
        "styles": {},
        "type": "#2196F3"
       },
       {
        "color": "#2196F3",
        "id": 16,
        "label": "Elizabeth",
        "position": [
         0,
         0
        ],
        "properties": {
         "id": "Elizabeth",
         "label": "Person:__Entity__"
        },
        "scale_factor": 1,
        "size": [
         55,
         55
        ],
        "styles": {},
        "type": "#2196F3"
       },
       {
        "color": "#4CAF50",
        "id": 17,
        "label": "Spain",
        "position": [
         0,
         0
        ],
        "properties": {
         "id": "Spain",
         "label": "Country:__Entity__"
        },
        "scale_factor": 1,
        "size": [
         55,
         55
        ],
        "styles": {},
        "type": "#4CAF50"
       },
       {
        "color": "#4CAF50",
        "id": 18,
        "label": "Netherlands",
        "position": [
         0,
         0
        ],
        "properties": {
         "id": "Netherlands",
         "label": "Country:__Entity__"
        },
        "scale_factor": 1,
        "size": [
         55,
         55
        ],
        "styles": {},
        "type": "#4CAF50"
       },
       {
        "color": "#4CAF50",
        "id": 19,
        "label": "France",
        "position": [
         0,
         0
        ],
        "properties": {
         "id": "France",
         "label": "Country:__Entity__"
        },
        "scale_factor": 1,
        "size": [
         55,
         55
        ],
        "styles": {},
        "type": "#4CAF50"
       },
       {
        "color": "#673AB7",
        "id": 20,
        "label": "William Shakespeare",
        "position": [
         0,
         0
        ],
        "properties": {
         "id": "William Shakespeare",
         "label": "Playwright:__Entity__"
        },
        "scale_factor": 1,
        "size": [
         55,
         55
        ],
        "styles": {},
        "type": "#673AB7"
       },
       {
        "color": "#673AB7",
        "id": 21,
        "label": "Christopher Marlowe",
        "position": [
         0,
         0
        ],
        "properties": {
         "id": "Christopher Marlowe",
         "label": "Playwright:__Entity__"
        },
        "scale_factor": 1,
        "size": [
         55,
         55
        ],
        "styles": {},
        "type": "#673AB7"
       },
       {
        "color": "#CDDC39",
        "id": 22,
        "label": "Francis Drake",
        "position": [
         0,
         0
        ],
        "properties": {
         "id": "Francis Drake",
         "label": "Explorer:__Entity__"
        },
        "scale_factor": 1,
        "size": [
         55,
         55
        ],
        "styles": {},
        "type": "#CDDC39"
       },
       {
        "color": "#CDDC39",
        "id": 23,
        "label": "Walter Raleigh",
        "position": [
         0,
         0
        ],
        "properties": {
         "id": "Walter Raleigh",
         "label": "Explorer:__Entity__"
        },
        "scale_factor": 1,
        "size": [
         55,
         55
        ],
        "styles": {},
        "type": "#CDDC39"
       },
       {
        "color": "#9E9E9E",
        "id": 24,
        "label": "Spanish Armada",
        "position": [
         0,
         0
        ],
        "properties": {
         "id": "Spanish Armada",
         "label": "Event:__Entity__"
        },
        "scale_factor": 1,
        "size": [
         55,
         55
        ],
        "styles": {},
        "type": "#9E9E9E"
       },
       {
        "color": "#2196F3",
        "id": 29,
        "label": "Mary I",
        "position": [
         0,
         0
        ],
        "properties": {
         "id": "Mary I",
         "label": "Person:__Entity__"
        },
        "scale_factor": 1,
        "size": [
         55,
         55
        ],
        "styles": {},
        "type": "#2196F3"
       },
       {
        "color": "#2196F3",
        "id": 30,
        "label": "Jane Grey",
        "position": [
         0,
         0
        ],
        "properties": {
         "id": "Jane Grey",
         "label": "Person:__Entity__"
        },
        "scale_factor": 1,
        "size": [
         55,
         55
        ],
        "styles": {},
        "type": "#2196F3"
       },
       {
        "color": "#2196F3",
        "id": 31,
        "label": "Katherine Grey",
        "position": [
         0,
         0
        ],
        "properties": {
         "id": "Katherine Grey",
         "label": "Person:__Entity__"
        },
        "scale_factor": 1,
        "size": [
         55,
         55
        ],
        "styles": {},
        "type": "#2196F3"
       },
       {
        "color": "#2196F3",
        "id": 32,
        "label": "Mary Grey",
        "position": [
         0,
         0
        ],
        "properties": {
         "id": "Mary Grey",
         "label": "Person:__Entity__"
        },
        "scale_factor": 1,
        "size": [
         55,
         55
        ],
        "styles": {},
        "type": "#2196F3"
       },
       {
        "color": "#2196F3",
        "id": 33,
        "label": "Margaret Clifford",
        "position": [
         0,
         0
        ],
        "properties": {
         "id": "Margaret Clifford",
         "label": "Person:__Entity__"
        },
        "scale_factor": 1,
        "size": [
         55,
         55
        ],
        "styles": {},
        "type": "#2196F3"
       },
       {
        "color": "#2196F3",
        "id": 34,
        "label": "Margaret Douglas",
        "position": [
         0,
         0
        ],
        "properties": {
         "id": "Margaret Douglas",
         "label": "Person:__Entity__"
        },
        "scale_factor": 1,
        "size": [
         55,
         55
        ],
        "styles": {},
        "type": "#2196F3"
       },
       {
        "color": "#2196F3",
        "id": 35,
        "label": "Henry Stuart, Lord Darnley",
        "position": [
         0,
         0
        ],
        "properties": {
         "id": "Henry Stuart, Lord Darnley",
         "label": "Person:__Entity__"
        },
        "scale_factor": 1,
        "size": [
         55,
         55
        ],
        "styles": {},
        "type": "#2196F3"
       },
       {
        "color": "#2196F3",
        "id": 39,
        "label": "Margaret Tudor",
        "position": [
         0,
         0
        ],
        "properties": {
         "id": "Margaret Tudor",
         "label": "Person:__Entity__"
        },
        "scale_factor": 1,
        "size": [
         55,
         55
        ],
        "styles": {},
        "type": "#2196F3"
       },
       {
        "color": "#2196F3",
        "id": 37,
        "label": "James Vi",
        "position": [
         0,
         0
        ],
        "properties": {
         "id": "James Vi",
         "label": "Person:__Entity__"
        },
        "scale_factor": 1,
        "size": [
         55,
         55
        ],
        "styles": {},
        "type": "#2196F3"
       },
       {
        "color": "#2196F3",
        "id": 38,
        "label": "Arbella Stuart",
        "position": [
         0,
         0
        ],
        "properties": {
         "id": "Arbella Stuart",
         "label": "Person:__Entity__"
        },
        "scale_factor": 1,
        "size": [
         55,
         55
        ],
        "styles": {},
        "type": "#2196F3"
       },
       {
        "color": "#2196F3",
        "id": 40,
        "label": "Charles Stuart",
        "position": [
         0,
         0
        ],
        "properties": {
         "id": "Charles Stuart",
         "label": "Person:__Entity__"
        },
        "scale_factor": 1,
        "size": [
         55,
         55
        ],
        "styles": {},
        "type": "#2196F3"
       },
       {
        "color": "#2196F3",
        "id": 41,
        "label": "Frances Grey",
        "position": [
         0,
         0
        ],
        "properties": {
         "id": "Frances Grey",
         "label": "Person:__Entity__"
        },
        "scale_factor": 1,
        "size": [
         55,
         55
        ],
        "styles": {},
        "type": "#2196F3"
       },
       {
        "color": "#2196F3",
        "id": 46,
        "label": "Lady Catherine Grey",
        "position": [
         0,
         0
        ],
        "properties": {
         "id": "Lady Catherine Grey",
         "label": "Person:__Entity__"
        },
        "scale_factor": 1,
        "size": [
         55,
         55
        ],
        "styles": {},
        "type": "#2196F3"
       },
       {
        "color": "#2196F3",
        "id": 47,
        "label": "Lady Mary Grey",
        "position": [
         0,
         0
        ],
        "properties": {
         "id": "Lady Mary Grey",
         "label": "Person:__Entity__"
        },
        "scale_factor": 1,
        "size": [
         55,
         55
        ],
        "styles": {},
        "type": "#2196F3"
       },
       {
        "color": "#2196F3",
        "id": 44,
        "label": "Charles Brandon",
        "position": [
         0,
         0
        ],
        "properties": {
         "id": "Charles Brandon",
         "label": "Person:__Entity__"
        },
        "scale_factor": 1,
        "size": [
         55,
         55
        ],
        "styles": {},
        "type": "#2196F3"
       },
       {
        "color": "#2196F3",
        "id": 42,
        "label": "Eleanor Clifford",
        "position": [
         0,
         0
        ],
        "properties": {
         "id": "Eleanor Clifford",
         "label": "Person:__Entity__"
        },
        "scale_factor": 1,
        "size": [
         55,
         55
        ],
        "styles": {},
        "type": "#2196F3"
       },
       {
        "color": "#2196F3",
        "id": 45,
        "label": "Henry Grey",
        "position": [
         0,
         0
        ],
        "properties": {
         "id": "Henry Grey",
         "label": "Person:__Entity__"
        },
        "scale_factor": 1,
        "size": [
         55,
         55
        ],
        "styles": {},
        "type": "#2196F3"
       },
       {
        "color": "#2196F3",
        "id": 48,
        "label": "Henry Herbert",
        "position": [
         0,
         0
        ],
        "properties": {
         "id": "Henry Herbert",
         "label": "Person:__Entity__"
        },
        "scale_factor": 1,
        "size": [
         55,
         55
        ],
        "styles": {},
        "type": "#2196F3"
       },
       {
        "color": "#2196F3",
        "id": 50,
        "label": "Elizabeth Petrovna",
        "position": [
         0,
         0
        ],
        "properties": {
         "id": "Elizabeth Petrovna",
         "label": "Person:__Entity__"
        },
        "scale_factor": 1,
        "size": [
         55,
         55
        ],
        "styles": {},
        "type": "#2196F3"
       },
       {
        "color": "#607D8B",
        "id": 51,
        "label": "Empress Of Russia",
        "position": [
         0,
         0
        ],
        "properties": {
         "id": "Empress Of Russia",
         "label": "Title:__Entity__"
        },
        "scale_factor": 1,
        "size": [
         55,
         55
        ],
        "styles": {},
        "type": "#607D8B"
       }
      ],
      "_overview": {
       "enabled": null,
       "overview_set": false
      },
      "_selected_graph": [
       [],
       []
      ],
      "_sidebar": {
       "enabled": true,
       "start_with": ""
      },
      "_view_count": null,
      "_view_module": "yfiles-jupyter-graphs",
      "_view_module_version": "^1.6.1",
      "_view_name": "GraphView",
      "layout": "IPY_MODEL_9bac7003afd84cecb4e67a81a396ec8d"
     }
    },
    "9bac7003afd84cecb4e67a81a396ec8d": {
     "model_module": "@jupyter-widgets/base",
     "model_module_version": "1.2.0",
     "model_name": "LayoutModel",
     "state": {
      "_model_module": "@jupyter-widgets/base",
      "_model_module_version": "1.2.0",
      "_model_name": "LayoutModel",
      "_view_count": null,
      "_view_module": "@jupyter-widgets/base",
      "_view_module_version": "1.2.0",
      "_view_name": "LayoutView",
      "align_content": null,
      "align_items": null,
      "align_self": null,
      "border": null,
      "bottom": null,
      "display": null,
      "flex": null,
      "flex_flow": null,
      "grid_area": null,
      "grid_auto_columns": null,
      "grid_auto_flow": null,
      "grid_auto_rows": null,
      "grid_column": null,
      "grid_gap": null,
      "grid_row": null,
      "grid_template_areas": null,
      "grid_template_columns": null,
      "grid_template_rows": null,
      "height": "800px",
      "justify_content": null,
      "justify_items": null,
      "left": null,
      "margin": null,
      "max_height": null,
      "max_width": null,
      "min_height": null,
      "min_width": null,
      "object_fit": null,
      "object_position": null,
      "order": null,
      "overflow": null,
      "overflow_x": null,
      "overflow_y": null,
      "padding": null,
      "right": null,
      "top": null,
      "visibility": null,
      "width": "100%"
     }
    }
   }
  }
 },
 "nbformat": 4,
 "nbformat_minor": 4
}
